{
  "nbformat": 4,
  "nbformat_minor": 0,
  "metadata": {
    "colab": {
      "name": "Untitled44.ipynb",
      "provenance": [],
      "include_colab_link": true
    },
    "kernelspec": {
      "name": "python3",
      "display_name": "Python 3"
    },
    "language_info": {
      "name": "python"
    }
  },
  "cells": [
    {
      "cell_type": "markdown",
      "metadata": {
        "id": "view-in-github",
        "colab_type": "text"
      },
      "source": [
        "<a href=\"https://colab.research.google.com/github/MeikoFudo/MeikoFudo/blob/main/EEG_state_classification.ipynb\" target=\"_parent\"><img src=\"https://colab.research.google.com/assets/colab-badge.svg\" alt=\"Open In Colab\"/></a>"
      ]
    },
    {
      "cell_type": "code",
      "execution_count": 1,
      "metadata": {
        "id": "rtSaFI25HE48"
      },
      "outputs": [],
      "source": [
        "import pandas as pd\n",
        "import matplotlib.pyplot as plt \n",
        "from sklearn.model_selection import GridSearchCV\n",
        "from sklearn.preprocessing import StandardScaler\n",
        "from sklearn.model_selection import train_test_split\n",
        "import seaborn as sns\n",
        "import xgboost as xgb\n",
        "import lightgbm as ltb\n",
        "from sklearn.ensemble import RandomForestClassifier\n",
        "from sklearn.metrics import accuracy_score\n",
        "from sklearn.model_selection import cross_val_score\n",
        "%matplotlib inline\n",
        "from pylab import rcParams\n",
        "rcParams['figure.figsize'] = 8, 5"
      ]
    },
    {
      "cell_type": "markdown",
      "source": [
        "Считаем csv файл с данными и выведем первые 5 строчек датафрейма ."
      ],
      "metadata": {
        "id": "wDn9chtfRYiR"
      }
    },
    {
      "cell_type": "code",
      "source": [
        "df = pd.read_csv('mental-state.csv')\n",
        "df.head()"
      ],
      "metadata": {
        "colab": {
          "base_uri": "https://localhost:8080/",
          "height": 299
        },
        "id": "cTbEtiDNHMtw",
        "outputId": "c011aa69-32bc-4a9e-c2a0-1544508982fc"
      },
      "execution_count": 3,
      "outputs": [
        {
          "output_type": "execute_result",
          "data": {
            "text/plain": [
              "   lag1_mean_0  lag1_mean_1  lag1_mean_2  lag1_mean_3  lag1_mean_d_h2h1_0  \\\n",
              "0    25.781648    33.836367   -92.769629    19.187957           -1.542262   \n",
              "1    29.357891    26.792566   417.203910    19.472121          -38.797263   \n",
              "2    28.451926    31.076434    72.231301    14.245938          -13.225057   \n",
              "3    21.282184    19.985184    16.220094    39.787312            1.847866   \n",
              "4    20.431516    28.982168    27.540246    19.960398            2.491458   \n",
              "\n",
              "   lag1_mean_d_h2h1_1  lag1_mean_d_h2h1_2  lag1_mean_d_h2h1_3  lag1_mean_q1_0  \\\n",
              "0            0.197462         -119.561133            2.032654       21.596272   \n",
              "1          -16.897194          -29.368531           -9.055370       44.647424   \n",
              "2           -0.614138          -28.331698           -8.858742       31.450289   \n",
              "3            0.670216           -1.820355           20.220724       21.404679   \n",
              "4           -6.020503           -1.071166            2.655259       16.295039   \n",
              "\n",
              "   lag1_mean_q1_1  ...  freq_669_3  freq_679_3  freq_689_3  freq_699_3  \\\n",
              "0       33.965587  ...    0.000230    0.000351    0.000547    0.000381   \n",
              "1       40.893307  ...    0.001671    0.000740    0.001122    0.000521   \n",
              "2       30.692883  ...    0.000748    0.000569    0.000327    0.000197   \n",
              "3       20.777411  ...    0.000990    0.005644    0.006891    0.010546   \n",
              "4       32.658163  ...    0.001659    0.014379    0.014492    0.002949   \n",
              "\n",
              "   freq_709_3  freq_720_3  freq_730_3  freq_740_3  freq_750_3  Label  \n",
              "0    0.000350    0.000453    0.000442    0.000325    0.000209    2.0  \n",
              "1    0.000624    0.000439    0.001249    0.000727    0.000801    2.0  \n",
              "2    0.000833    0.000909    0.000699    0.001165    0.000616    2.0  \n",
              "3    0.009583    0.011158    0.008853    0.004551    0.002287    1.0  \n",
              "4    0.004575    0.008305    0.007202    0.006957    0.009836    2.0  \n",
              "\n",
              "[5 rows x 989 columns]"
            ],
            "text/html": [
              "\n",
              "  <div id=\"df-fad3436d-d8bf-491f-9afb-3685fdd2b928\">\n",
              "    <div class=\"colab-df-container\">\n",
              "      <div>\n",
              "<style scoped>\n",
              "    .dataframe tbody tr th:only-of-type {\n",
              "        vertical-align: middle;\n",
              "    }\n",
              "\n",
              "    .dataframe tbody tr th {\n",
              "        vertical-align: top;\n",
              "    }\n",
              "\n",
              "    .dataframe thead th {\n",
              "        text-align: right;\n",
              "    }\n",
              "</style>\n",
              "<table border=\"1\" class=\"dataframe\">\n",
              "  <thead>\n",
              "    <tr style=\"text-align: right;\">\n",
              "      <th></th>\n",
              "      <th>lag1_mean_0</th>\n",
              "      <th>lag1_mean_1</th>\n",
              "      <th>lag1_mean_2</th>\n",
              "      <th>lag1_mean_3</th>\n",
              "      <th>lag1_mean_d_h2h1_0</th>\n",
              "      <th>lag1_mean_d_h2h1_1</th>\n",
              "      <th>lag1_mean_d_h2h1_2</th>\n",
              "      <th>lag1_mean_d_h2h1_3</th>\n",
              "      <th>lag1_mean_q1_0</th>\n",
              "      <th>lag1_mean_q1_1</th>\n",
              "      <th>...</th>\n",
              "      <th>freq_669_3</th>\n",
              "      <th>freq_679_3</th>\n",
              "      <th>freq_689_3</th>\n",
              "      <th>freq_699_3</th>\n",
              "      <th>freq_709_3</th>\n",
              "      <th>freq_720_3</th>\n",
              "      <th>freq_730_3</th>\n",
              "      <th>freq_740_3</th>\n",
              "      <th>freq_750_3</th>\n",
              "      <th>Label</th>\n",
              "    </tr>\n",
              "  </thead>\n",
              "  <tbody>\n",
              "    <tr>\n",
              "      <th>0</th>\n",
              "      <td>25.781648</td>\n",
              "      <td>33.836367</td>\n",
              "      <td>-92.769629</td>\n",
              "      <td>19.187957</td>\n",
              "      <td>-1.542262</td>\n",
              "      <td>0.197462</td>\n",
              "      <td>-119.561133</td>\n",
              "      <td>2.032654</td>\n",
              "      <td>21.596272</td>\n",
              "      <td>33.965587</td>\n",
              "      <td>...</td>\n",
              "      <td>0.000230</td>\n",
              "      <td>0.000351</td>\n",
              "      <td>0.000547</td>\n",
              "      <td>0.000381</td>\n",
              "      <td>0.000350</td>\n",
              "      <td>0.000453</td>\n",
              "      <td>0.000442</td>\n",
              "      <td>0.000325</td>\n",
              "      <td>0.000209</td>\n",
              "      <td>2.0</td>\n",
              "    </tr>\n",
              "    <tr>\n",
              "      <th>1</th>\n",
              "      <td>29.357891</td>\n",
              "      <td>26.792566</td>\n",
              "      <td>417.203910</td>\n",
              "      <td>19.472121</td>\n",
              "      <td>-38.797263</td>\n",
              "      <td>-16.897194</td>\n",
              "      <td>-29.368531</td>\n",
              "      <td>-9.055370</td>\n",
              "      <td>44.647424</td>\n",
              "      <td>40.893307</td>\n",
              "      <td>...</td>\n",
              "      <td>0.001671</td>\n",
              "      <td>0.000740</td>\n",
              "      <td>0.001122</td>\n",
              "      <td>0.000521</td>\n",
              "      <td>0.000624</td>\n",
              "      <td>0.000439</td>\n",
              "      <td>0.001249</td>\n",
              "      <td>0.000727</td>\n",
              "      <td>0.000801</td>\n",
              "      <td>2.0</td>\n",
              "    </tr>\n",
              "    <tr>\n",
              "      <th>2</th>\n",
              "      <td>28.451926</td>\n",
              "      <td>31.076434</td>\n",
              "      <td>72.231301</td>\n",
              "      <td>14.245938</td>\n",
              "      <td>-13.225057</td>\n",
              "      <td>-0.614138</td>\n",
              "      <td>-28.331698</td>\n",
              "      <td>-8.858742</td>\n",
              "      <td>31.450289</td>\n",
              "      <td>30.692883</td>\n",
              "      <td>...</td>\n",
              "      <td>0.000748</td>\n",
              "      <td>0.000569</td>\n",
              "      <td>0.000327</td>\n",
              "      <td>0.000197</td>\n",
              "      <td>0.000833</td>\n",
              "      <td>0.000909</td>\n",
              "      <td>0.000699</td>\n",
              "      <td>0.001165</td>\n",
              "      <td>0.000616</td>\n",
              "      <td>2.0</td>\n",
              "    </tr>\n",
              "    <tr>\n",
              "      <th>3</th>\n",
              "      <td>21.282184</td>\n",
              "      <td>19.985184</td>\n",
              "      <td>16.220094</td>\n",
              "      <td>39.787312</td>\n",
              "      <td>1.847866</td>\n",
              "      <td>0.670216</td>\n",
              "      <td>-1.820355</td>\n",
              "      <td>20.220724</td>\n",
              "      <td>21.404679</td>\n",
              "      <td>20.777411</td>\n",
              "      <td>...</td>\n",
              "      <td>0.000990</td>\n",
              "      <td>0.005644</td>\n",
              "      <td>0.006891</td>\n",
              "      <td>0.010546</td>\n",
              "      <td>0.009583</td>\n",
              "      <td>0.011158</td>\n",
              "      <td>0.008853</td>\n",
              "      <td>0.004551</td>\n",
              "      <td>0.002287</td>\n",
              "      <td>1.0</td>\n",
              "    </tr>\n",
              "    <tr>\n",
              "      <th>4</th>\n",
              "      <td>20.431516</td>\n",
              "      <td>28.982168</td>\n",
              "      <td>27.540246</td>\n",
              "      <td>19.960398</td>\n",
              "      <td>2.491458</td>\n",
              "      <td>-6.020503</td>\n",
              "      <td>-1.071166</td>\n",
              "      <td>2.655259</td>\n",
              "      <td>16.295039</td>\n",
              "      <td>32.658163</td>\n",
              "      <td>...</td>\n",
              "      <td>0.001659</td>\n",
              "      <td>0.014379</td>\n",
              "      <td>0.014492</td>\n",
              "      <td>0.002949</td>\n",
              "      <td>0.004575</td>\n",
              "      <td>0.008305</td>\n",
              "      <td>0.007202</td>\n",
              "      <td>0.006957</td>\n",
              "      <td>0.009836</td>\n",
              "      <td>2.0</td>\n",
              "    </tr>\n",
              "  </tbody>\n",
              "</table>\n",
              "<p>5 rows × 989 columns</p>\n",
              "</div>\n",
              "      <button class=\"colab-df-convert\" onclick=\"convertToInteractive('df-fad3436d-d8bf-491f-9afb-3685fdd2b928')\"\n",
              "              title=\"Convert this dataframe to an interactive table.\"\n",
              "              style=\"display:none;\">\n",
              "        \n",
              "  <svg xmlns=\"http://www.w3.org/2000/svg\" height=\"24px\"viewBox=\"0 0 24 24\"\n",
              "       width=\"24px\">\n",
              "    <path d=\"M0 0h24v24H0V0z\" fill=\"none\"/>\n",
              "    <path d=\"M18.56 5.44l.94 2.06.94-2.06 2.06-.94-2.06-.94-.94-2.06-.94 2.06-2.06.94zm-11 1L8.5 8.5l.94-2.06 2.06-.94-2.06-.94L8.5 2.5l-.94 2.06-2.06.94zm10 10l.94 2.06.94-2.06 2.06-.94-2.06-.94-.94-2.06-.94 2.06-2.06.94z\"/><path d=\"M17.41 7.96l-1.37-1.37c-.4-.4-.92-.59-1.43-.59-.52 0-1.04.2-1.43.59L10.3 9.45l-7.72 7.72c-.78.78-.78 2.05 0 2.83L4 21.41c.39.39.9.59 1.41.59.51 0 1.02-.2 1.41-.59l7.78-7.78 2.81-2.81c.8-.78.8-2.07 0-2.86zM5.41 20L4 18.59l7.72-7.72 1.47 1.35L5.41 20z\"/>\n",
              "  </svg>\n",
              "      </button>\n",
              "      \n",
              "  <style>\n",
              "    .colab-df-container {\n",
              "      display:flex;\n",
              "      flex-wrap:wrap;\n",
              "      gap: 12px;\n",
              "    }\n",
              "\n",
              "    .colab-df-convert {\n",
              "      background-color: #E8F0FE;\n",
              "      border: none;\n",
              "      border-radius: 50%;\n",
              "      cursor: pointer;\n",
              "      display: none;\n",
              "      fill: #1967D2;\n",
              "      height: 32px;\n",
              "      padding: 0 0 0 0;\n",
              "      width: 32px;\n",
              "    }\n",
              "\n",
              "    .colab-df-convert:hover {\n",
              "      background-color: #E2EBFA;\n",
              "      box-shadow: 0px 1px 2px rgba(60, 64, 67, 0.3), 0px 1px 3px 1px rgba(60, 64, 67, 0.15);\n",
              "      fill: #174EA6;\n",
              "    }\n",
              "\n",
              "    [theme=dark] .colab-df-convert {\n",
              "      background-color: #3B4455;\n",
              "      fill: #D2E3FC;\n",
              "    }\n",
              "\n",
              "    [theme=dark] .colab-df-convert:hover {\n",
              "      background-color: #434B5C;\n",
              "      box-shadow: 0px 1px 3px 1px rgba(0, 0, 0, 0.15);\n",
              "      filter: drop-shadow(0px 1px 2px rgba(0, 0, 0, 0.3));\n",
              "      fill: #FFFFFF;\n",
              "    }\n",
              "  </style>\n",
              "\n",
              "      <script>\n",
              "        const buttonEl =\n",
              "          document.querySelector('#df-fad3436d-d8bf-491f-9afb-3685fdd2b928 button.colab-df-convert');\n",
              "        buttonEl.style.display =\n",
              "          google.colab.kernel.accessAllowed ? 'block' : 'none';\n",
              "\n",
              "        async function convertToInteractive(key) {\n",
              "          const element = document.querySelector('#df-fad3436d-d8bf-491f-9afb-3685fdd2b928');\n",
              "          const dataTable =\n",
              "            await google.colab.kernel.invokeFunction('convertToInteractive',\n",
              "                                                     [key], {});\n",
              "          if (!dataTable) return;\n",
              "\n",
              "          const docLinkHtml = 'Like what you see? Visit the ' +\n",
              "            '<a target=\"_blank\" href=https://colab.research.google.com/notebooks/data_table.ipynb>data table notebook</a>'\n",
              "            + ' to learn more about interactive tables.';\n",
              "          element.innerHTML = '';\n",
              "          dataTable['output_type'] = 'display_data';\n",
              "          await google.colab.output.renderOutput(dataTable, element);\n",
              "          const docLink = document.createElement('div');\n",
              "          docLink.innerHTML = docLinkHtml;\n",
              "          element.appendChild(docLink);\n",
              "        }\n",
              "      </script>\n",
              "    </div>\n",
              "  </div>\n",
              "  "
            ]
          },
          "metadata": {},
          "execution_count": 3
        }
      ]
    },
    {
      "cell_type": "markdown",
      "source": [
        "Выведем график, чтобы посмотреть распределение данных временного ряда."
      ],
      "metadata": {
        "id": "Zxxe0iwNPBTp"
      }
    },
    {
      "cell_type": "code",
      "source": [
        "sampling = df.loc[0,'freq_010_1':'freq_750_1']\n",
        "plt.figure(figsize=(15,10))\n",
        "plt.plot(range(len(sampling)),sampling)\n",
        "plt.title('Признаки от \"freq_010_1\" до \"freq_750_1\" ')\n",
        "plt.show()"
      ],
      "metadata": {
        "colab": {
          "base_uri": "https://localhost:8080/",
          "height": 607
        },
        "id": "eg6fyy02yUv8",
        "outputId": "b1b9c4e2-5e09-413b-df97-1cb3bec105f5"
      },
      "execution_count": 23,
      "outputs": [
        {
          "output_type": "display_data",
          "data": {
            "text/plain": [
              "<Figure size 1080x720 with 1 Axes>"
            ],
            "image/png": "[encoded data removed]"
          },
          "metadata": {
            "needs_background": "light"
          }
        }
      ]
    },
    {
      "cell_type": "markdown",
      "source": [
        "Выведем информацию о датафрейме."
      ],
      "metadata": {
        "id": "5o5IPVNaP1LH"
      }
    },
    {
      "cell_type": "code",
      "source": [
        "df.info()"
      ],
      "metadata": {
        "colab": {
          "base_uri": "https://localhost:8080/"
        },
        "id": "SHfXHDDj9hQL",
        "outputId": "daee30aa-06be-4f99-afbe-710a9dbcd670"
      },
      "execution_count": null,
      "outputs": [
        {
          "output_type": "stream",
          "name": "stdout",
          "text": [
            "<class 'pandas.core.frame.DataFrame'>\n",
            "RangeIndex: 549 entries, 0 to 548\n",
            "Columns: 989 entries, lag1_mean_0 to Label\n",
            "dtypes: float64(989)\n",
            "memory usage: 4.1 MB\n"
          ]
        }
      ]
    },
    {
      "cell_type": "markdown",
      "source": [
        "Выведем распределение значений данных целевой переменной . Данные распределены достаточно равномерно, можно использовать метрику accuracy, так как не наблюдается дисбаланс классов."
      ],
      "metadata": {
        "id": "FTNXxlDVP2ae"
      }
    },
    {
      "cell_type": "code",
      "source": [
        "df['Label'].value_counts()"
      ],
      "metadata": {
        "colab": {
          "base_uri": "https://localhost:8080/"
        },
        "id": "lM9Nksrb9lug",
        "outputId": "ff1e8248-af5d-45a6-9a64-90a5c7e81765"
      },
      "execution_count": null,
      "outputs": [
        {
          "output_type": "execute_result",
          "data": {
            "text/plain": [
              "2.0    193\n",
              "1.0    184\n",
              "0.0    171\n",
              "Name: Label, dtype: int64"
            ]
          },
          "metadata": {},
          "execution_count": 58
        }
      ]
    },
    {
      "cell_type": "markdown",
      "source": [
        "Удалим нулевые значения в датафрейме, если такие имеются, и выделим стобец с целевыми значениями в отдельную переменную."
      ],
      "metadata": {
        "id": "m2Fk3TW1P35e"
      }
    },
    {
      "cell_type": "code",
      "source": [
        "df = df.dropna()\n",
        "y = df['Label'].copy()\n",
        "X = df.drop('Label', axis=1).copy()"
      ],
      "metadata": {
        "id": "tPLWJ1GnCbF9"
      },
      "execution_count": 5,
      "outputs": []
    },
    {
      "cell_type": "markdown",
      "source": [
        "Выполним разбиение данных на тестовую и тренировочную выборки. "
      ],
      "metadata": {
        "id": "6BCM3sO0P5uB"
      }
    },
    {
      "cell_type": "code",
      "source": [
        "X_train, X_test, y_train, y_test = train_test_split(X, y, test_size=0.3, random_state=42)"
      ],
      "metadata": {
        "id": "55N6EXOWCtni"
      },
      "execution_count": 6,
      "outputs": []
    },
    {
      "cell_type": "markdown",
      "source": [
        "Отберем параметры для последующего перебора по сетке и внесем их в словарь. (Набор параметров взять очень ограниченный, ибо выдающимися вычислительными способностями не распологаю)."
      ],
      "metadata": {
        "id": "b93ILCryP6uw"
      }
    },
    {
      "cell_type": "code",
      "source": [
        "parameters = {\n",
        "    'max_depth': range (4, 6, 1),\n",
        "    'n_estimators': range(60, 100, 40),\n",
        "    'learning_rate': [0.2, 0.01],\n",
        "    'alpha':[10],\n",
        "    'lambda':[8]\n",
        "}"
      ],
      "metadata": {
        "id": "IAwenwvdZMtx"
      },
      "execution_count": 28,
      "outputs": []
    },
    {
      "cell_type": "code",
      "source": [
        "model_xgb = xgb.XGBClassifier()"
      ],
      "metadata": {
        "id": "tREMtIpkbew2"
      },
      "execution_count": 8,
      "outputs": []
    },
    {
      "cell_type": "markdown",
      "source": [
        "Осуществим перебор по сетке для выделения лучших параметров из словаря parameters."
      ],
      "metadata": {
        "id": "TUpLmA5qP8xi"
      }
    },
    {
      "cell_type": "code",
      "source": [
        "grid_search_xgb = GridSearchCV(\n",
        "    estimator=model_xgb,\n",
        "    param_grid=parameters,\n",
        "    scoring = 'roc_auc',\n",
        "    n_jobs = -1,\n",
        "    cv= 10,\n",
        "    verbose=2\n",
        ")"
      ],
      "metadata": {
        "id": "Ue1CP38abOtR"
      },
      "execution_count": 26,
      "outputs": []
    },
    {
      "cell_type": "markdown",
      "source": [
        "Обучим модель."
      ],
      "metadata": {
        "id": "7VMLpW-URRZE"
      }
    },
    {
      "cell_type": "code",
      "source": [
        "grid_search_xgb.fit(X_train, y_train)"
      ],
      "metadata": {
        "id": "MAtn5uBQVVl4",
        "colab": {
          "base_uri": "https://localhost:8080/"
        },
        "outputId": "df52fc65-6413-48f9-99be-b779b6acfab2"
      },
      "execution_count": 27,
      "outputs": [
        {
          "metadata": {
            "tags": null
          },
          "name": "stdout",
          "output_type": "stream",
          "text": [
            "Fitting 10 folds for each of 16 candidates, totalling 160 fits\n"
          ]
        },
        {
          "output_type": "stream",
          "name": "stderr",
          "text": [
            "/usr/local/lib/python3.7/dist-packages/sklearn/model_selection/_search.py:972: UserWarning: One or more of the test scores are non-finite: [nan nan nan nan nan nan nan nan nan nan nan nan nan nan nan nan]\n",
            "  category=UserWarning,\n"
          ]
        },
        {
          "output_type": "execute_result",
          "data": {
            "text/plain": [
              "GridSearchCV(cv=10, estimator=XGBClassifier(), n_jobs=-1,\n",
              "             param_grid={'alpha': [10], 'lambda': [8],\n",
              "                         'learning_rate': [0.2, 0.01], 'max_depth': range(4, 6),\n",
              "                         'n_estimators': range(60, 220, 40)},\n",
              "             scoring='roc_auc', verbose=2)"
            ]
          },
          "metadata": {},
          "execution_count": 27
        }
      ]
    },
    {
      "cell_type": "code",
      "source": [
        "y_predict_xgb = grid_search_xgb.predict(X_test)"
      ],
      "metadata": {
        "id": "lJbuUmrAVWK_"
      },
      "execution_count": 29,
      "outputs": []
    },
    {
      "cell_type": "markdown",
      "source": [
        "Осуществим кросс-валидацию и усредним значения, после выведем результат по метрике accuracy."
      ],
      "metadata": {
        "id": "Hw--msZbRWKU"
      }
    },
    {
      "cell_type": "code",
      "source": [
        "scores_xgb = cross_val_score(grid_search_xgb, X, y, cv=5, scoring='accuracy')\n",
        "print('Accuracy for xgb with cross validaation:', scores_xgb.mean())"
      ],
      "metadata": {
        "colab": {
          "base_uri": "https://localhost:8080/"
        },
        "id": "CUDDnPmWYYzf",
        "outputId": "6ef9dc1c-cae7-4fb9-a77f-d0369cafe757"
      },
      "execution_count": null,
      "outputs": [
        {
          "metadata": {
            "tags": null
          },
          "name": "stdout",
          "output_type": "stream",
          "text": [
            "Fitting 10 folds for each of 16 candidates, totalling 160 fits\n"
          ]
        }
      ]
    },
    {
      "cell_type": "markdown",
      "source": [
        "Проделаем эти действия для модели Lightboost, только без подбора параметров, параметры будут определяться по умолчаю."
      ],
      "metadata": {
        "id": "KOn3tPcMQg2L"
      }
    },
    {
      "cell_type": "code",
      "source": [
        "model_ltb = ltb.LGBMClassifier()"
      ],
      "metadata": {
        "id": "ewgscxH-fUeG"
      },
      "execution_count": 10,
      "outputs": []
    },
    {
      "cell_type": "code",
      "source": [
        "model_ltb.fit(X_train, y_train)"
      ],
      "metadata": {
        "id": "9vUW_-H2nbIK",
        "colab": {
          "base_uri": "https://localhost:8080/"
        },
        "outputId": "efd954f0-be29-4563-f684-b0d1fbb83fe6"
      },
      "execution_count": 13,
      "outputs": [
        {
          "output_type": "execute_result",
          "data": {
            "text/plain": [
              "LGBMClassifier()"
            ]
          },
          "metadata": {},
          "execution_count": 13
        }
      ]
    },
    {
      "cell_type": "code",
      "source": [
        "y_predict_ltb = model_ltb.predict(X_test)"
      ],
      "metadata": {
        "id": "8m1Fn4A7pILN"
      },
      "execution_count": 14,
      "outputs": []
    },
    {
      "cell_type": "code",
      "source": [
        "scores_ltb = cross_val_score(model_ltb, X, y, cv=5, scoring='accuracy')\n",
        "print('Accuracy for ltb with cross validaation:', scores_ltb.mean())"
      ],
      "metadata": {
        "id": "u4kbywRSpRS0",
        "colab": {
          "base_uri": "https://localhost:8080/"
        },
        "outputId": "e0485644-9fe3-431e-e13f-db221d8497f0"
      },
      "execution_count": 15,
      "outputs": [
        {
          "output_type": "stream",
          "name": "stdout",
          "text": [
            "Accuracy for ltb with cross validaation: 0.9576271186440678\n"
          ]
        }
      ]
    },
    {
      "cell_type": "markdown",
      "source": [
        "Обучим так же Random Forest для этой задачи."
      ],
      "metadata": {
        "id": "znl4r_c0Qu0w"
      }
    },
    {
      "cell_type": "code",
      "source": [
        "from sklearn.model_selection import RandomizedSearchCV\n",
        "param_rf = {'bootstrap': [True],\n",
        " 'max_depth': [10],\n",
        " 'max_features': ['sqrt'],\n",
        " 'min_samples_leaf': [1, 2, 4],\n",
        " 'min_samples_split': [2, 5, 10],\n",
        " 'n_estimators': [200, 400]}\n",
        "rf_random = RandomizedSearchCV(estimator = model_random_forest, param_distributions = param_rf , n_iter = 100, cv = 3, verbose=2, random_state=42, n_jobs = -1)\n",
        "rf_random.fit(X_train, y_train)"
      ],
      "metadata": {
        "colab": {
          "base_uri": "https://localhost:8080/"
        },
        "id": "WJcYSt3pqEzr",
        "outputId": "c2949ed4-14ac-4c20-eb61-5485140cb26b"
      },
      "execution_count": 18,
      "outputs": [
        {
          "output_type": "stream",
          "name": "stdout",
          "text": [
            "Fitting 3 folds for each of 18 candidates, totalling 54 fits\n"
          ]
        },
        {
          "output_type": "stream",
          "name": "stderr",
          "text": [
            "/usr/local/lib/python3.7/dist-packages/sklearn/model_selection/_search.py:296: UserWarning: The total space of parameters 18 is smaller than n_iter=100. Running 18 iterations. For exhaustive searches, use GridSearchCV.\n",
            "  UserWarning,\n"
          ]
        },
        {
          "output_type": "execute_result",
          "data": {
            "text/plain": [
              "RandomizedSearchCV(cv=3, estimator=RandomForestClassifier(), n_iter=100,\n",
              "                   n_jobs=-1,\n",
              "                   param_distributions={'bootstrap': [True], 'max_depth': [10],\n",
              "                                        'max_features': ['sqrt'],\n",
              "                                        'min_samples_leaf': [1, 2, 4],\n",
              "                                        'min_samples_split': [2, 5, 10],\n",
              "                                        'n_estimators': [200, 400]},\n",
              "                   random_state=42, verbose=2)"
            ]
          },
          "metadata": {},
          "execution_count": 18
        }
      ]
    },
    {
      "cell_type": "code",
      "source": [
        "y_predict_rf = rf_random.predict(X_test)"
      ],
      "metadata": {
        "id": "5-4N8KNNtBA9"
      },
      "execution_count": 19,
      "outputs": []
    },
    {
      "cell_type": "markdown",
      "source": [
        "Пройдемся по данным кросс-валидацией с разбиением равным 5 и усредним значения."
      ],
      "metadata": {
        "id": "g0Le3nmuRFAv"
      }
    },
    {
      "cell_type": "code",
      "source": [
        "scores_rf = cross_val_score(rf_random, X, y, cv=5, scoring='accuracy')\n",
        "print('Accuracy for ltb with cross validaation:', scores_rf.mean())"
      ],
      "metadata": {
        "id": "B_37G42gtJxN",
        "colab": {
          "base_uri": "https://localhost:8080/"
        },
        "outputId": "de452821-0e68-4c00-eef7-5ae3812b0bd5"
      },
      "execution_count": 21,
      "outputs": [
        {
          "output_type": "stream",
          "name": "stderr",
          "text": [
            "/usr/local/lib/python3.7/dist-packages/sklearn/model_selection/_search.py:296: UserWarning: The total space of parameters 18 is smaller than n_iter=100. Running 18 iterations. For exhaustive searches, use GridSearchCV.\n",
            "  UserWarning,\n"
          ]
        },
        {
          "output_type": "stream",
          "name": "stdout",
          "text": [
            "Fitting 3 folds for each of 18 candidates, totalling 54 fits\n"
          ]
        },
        {
          "output_type": "stream",
          "name": "stderr",
          "text": [
            "/usr/local/lib/python3.7/dist-packages/sklearn/model_selection/_search.py:296: UserWarning: The total space of parameters 18 is smaller than n_iter=100. Running 18 iterations. For exhaustive searches, use GridSearchCV.\n",
            "  UserWarning,\n"
          ]
        },
        {
          "output_type": "stream",
          "name": "stdout",
          "text": [
            "Fitting 3 folds for each of 18 candidates, totalling 54 fits\n"
          ]
        },
        {
          "output_type": "stream",
          "name": "stderr",
          "text": [
            "/usr/local/lib/python3.7/dist-packages/sklearn/model_selection/_search.py:296: UserWarning: The total space of parameters 18 is smaller than n_iter=100. Running 18 iterations. For exhaustive searches, use GridSearchCV.\n",
            "  UserWarning,\n"
          ]
        },
        {
          "output_type": "stream",
          "name": "stdout",
          "text": [
            "Fitting 3 folds for each of 18 candidates, totalling 54 fits\n"
          ]
        },
        {
          "output_type": "stream",
          "name": "stderr",
          "text": [
            "/usr/local/lib/python3.7/dist-packages/sklearn/model_selection/_search.py:296: UserWarning: The total space of parameters 18 is smaller than n_iter=100. Running 18 iterations. For exhaustive searches, use GridSearchCV.\n",
            "  UserWarning,\n"
          ]
        },
        {
          "output_type": "stream",
          "name": "stdout",
          "text": [
            "Fitting 3 folds for each of 18 candidates, totalling 54 fits\n"
          ]
        },
        {
          "output_type": "stream",
          "name": "stderr",
          "text": [
            "/usr/local/lib/python3.7/dist-packages/sklearn/model_selection/_search.py:296: UserWarning: The total space of parameters 18 is smaller than n_iter=100. Running 18 iterations. For exhaustive searches, use GridSearchCV.\n",
            "  UserWarning,\n"
          ]
        },
        {
          "output_type": "stream",
          "name": "stdout",
          "text": [
            "Fitting 3 folds for each of 18 candidates, totalling 54 fits\n",
            "Accuracy for ltb with cross validaation: 0.9542372881355933\n"
          ]
        }
      ]
    }
  ]
}