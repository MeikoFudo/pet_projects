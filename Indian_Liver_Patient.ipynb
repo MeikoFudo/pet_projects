{
  "nbformat": 4,
  "nbformat_minor": 0,
  "metadata": {
    "colab": {
      "provenance": [],
      "authorship_tag": "ABX9TyM68TcwMD9pBagEvWDXNDRV",
      "include_colab_link": true
    },
    "kernelspec": {
      "name": "python3",
      "display_name": "Python 3"
    },
    "language_info": {
      "name": "python"
    },
    "accelerator": "GPU",
    "gpuClass": "standard"
  },
  "cells": [
    {
      "cell_type": "markdown",
      "metadata": {
        "id": "view-in-github",
        "colab_type": "text"
      },
      "source": [
        "<a href=\"https://colab.research.google.com/github/MeikoFudo/MeikoFudo/blob/main/Indian_Liver_Patient.ipynb\" target=\"_parent\"><img src=\"https://colab.research.google.com/assets/colab-badge.svg\" alt=\"Open In Colab\"/></a>"
      ]
    },
    {
      "cell_type": "code",
      "execution_count": 1,
      "metadata": {
        "id": "cKFBkpztaFv-"
      },
      "outputs": [],
      "source": [
        "import pandas as pd\n",
        "from sklearn.preprocessing import LabelEncoder\n",
        "import seaborn as sns\n",
        "import matplotlib.pyplot as plt\n",
        "import torch\n",
        "%matplotlib inline"
      ]
    },
    {
      "cell_type": "code",
      "source": [
        "def get_device():\n",
        "    if torch.cuda.is_available():\n",
        "        return torch.device('cuda')\n",
        "    else:\n",
        "        return torch.device('cpu')"
      ],
      "metadata": {
        "id": "5Ct-nMxu2cFi"
      },
      "execution_count": 2,
      "outputs": []
    },
    {
      "cell_type": "code",
      "source": [
        "read_df = pd.read_csv(\"/content/indian_liver_patient.csv\")\n",
        "dataFrame = pd.DataFrame(read_df)"
      ],
      "metadata": {
        "id": "xoS-pmo3aPfw"
      },
      "execution_count": 3,
      "outputs": []
    },
    {
      "cell_type": "code",
      "source": [
        "dataFrame.head(15)"
      ],
      "metadata": {
        "colab": {
          "base_uri": "https://localhost:8080/",
          "height": 584
        },
        "id": "6ulng3xfbAI8",
        "outputId": "438970a8-4d87-401d-bdf5-59f39fa42140"
      },
      "execution_count": 4,
      "outputs": [
        {
          "output_type": "execute_result",
          "data": {
            "text/plain": [
              "    Age  Gender  Total_Bilirubin  Direct_Bilirubin  Alkaline_Phosphotase  \\\n",
              "0    65  Female              0.7               0.1                   187   \n",
              "1    62    Male             10.9               5.5                   699   \n",
              "2    62    Male              7.3               4.1                   490   \n",
              "3    58    Male              1.0               0.4                   182   \n",
              "4    72    Male              3.9               2.0                   195   \n",
              "5    46    Male              1.8               0.7                   208   \n",
              "6    26  Female              0.9               0.2                   154   \n",
              "7    29  Female              0.9               0.3                   202   \n",
              "8    17    Male              0.9               0.3                   202   \n",
              "9    55    Male              0.7               0.2                   290   \n",
              "10   57    Male              0.6               0.1                   210   \n",
              "11   72    Male              2.7               1.3                   260   \n",
              "12   64    Male              0.9               0.3                   310   \n",
              "13   74  Female              1.1               0.4                   214   \n",
              "14   61    Male              0.7               0.2                   145   \n",
              "\n",
              "    Alamine_Aminotransferase  Aspartate_Aminotransferase  Total_Protiens  \\\n",
              "0                         16                          18             6.8   \n",
              "1                         64                         100             7.5   \n",
              "2                         60                          68             7.0   \n",
              "3                         14                          20             6.8   \n",
              "4                         27                          59             7.3   \n",
              "5                         19                          14             7.6   \n",
              "6                         16                          12             7.0   \n",
              "7                         14                          11             6.7   \n",
              "8                         22                          19             7.4   \n",
              "9                         53                          58             6.8   \n",
              "10                        51                          59             5.9   \n",
              "11                        31                          56             7.4   \n",
              "12                        61                          58             7.0   \n",
              "13                        22                          30             8.1   \n",
              "14                        53                          41             5.8   \n",
              "\n",
              "    Albumin  Albumin_and_Globulin_Ratio  Dataset  \n",
              "0       3.3                        0.90        1  \n",
              "1       3.2                        0.74        1  \n",
              "2       3.3                        0.89        1  \n",
              "3       3.4                        1.00        1  \n",
              "4       2.4                        0.40        1  \n",
              "5       4.4                        1.30        1  \n",
              "6       3.5                        1.00        1  \n",
              "7       3.6                        1.10        1  \n",
              "8       4.1                        1.20        2  \n",
              "9       3.4                        1.00        1  \n",
              "10      2.7                        0.80        1  \n",
              "11      3.0                        0.60        1  \n",
              "12      3.4                        0.90        2  \n",
              "13      4.1                        1.00        1  \n",
              "14      2.7                        0.87        1  "
            ],
            "text/html": [
              "\n",
              "  <div id=\"df-f383dc9d-016e-4f53-a87d-687910952750\">\n",
              "    <div class=\"colab-df-container\">\n",
              "      <div>\n",
              "<style scoped>\n",
              "    .dataframe tbody tr th:only-of-type {\n",
              "        vertical-align: middle;\n",
              "    }\n",
              "\n",
              "    .dataframe tbody tr th {\n",
              "        vertical-align: top;\n",
              "    }\n",
              "\n",
              "    .dataframe thead th {\n",
              "        text-align: right;\n",
              "    }\n",
              "</style>\n",
              "<table border=\"1\" class=\"dataframe\">\n",
              "  <thead>\n",
              "    <tr style=\"text-align: right;\">\n",
              "      <th></th>\n",
              "      <th>Age</th>\n",
              "      <th>Gender</th>\n",
              "      <th>Total_Bilirubin</th>\n",
              "      <th>Direct_Bilirubin</th>\n",
              "      <th>Alkaline_Phosphotase</th>\n",
              "      <th>Alamine_Aminotransferase</th>\n",
              "      <th>Aspartate_Aminotransferase</th>\n",
              "      <th>Total_Protiens</th>\n",
              "      <th>Albumin</th>\n",
              "      <th>Albumin_and_Globulin_Ratio</th>\n",
              "      <th>Dataset</th>\n",
              "    </tr>\n",
              "  </thead>\n",
              "  <tbody>\n",
              "    <tr>\n",
              "      <th>0</th>\n",
              "      <td>65</td>\n",
              "      <td>Female</td>\n",
              "      <td>0.7</td>\n",
              "      <td>0.1</td>\n",
              "      <td>187</td>\n",
              "      <td>16</td>\n",
              "      <td>18</td>\n",
              "      <td>6.8</td>\n",
              "      <td>3.3</td>\n",
              "      <td>0.90</td>\n",
              "      <td>1</td>\n",
              "    </tr>\n",
              "    <tr>\n",
              "      <th>1</th>\n",
              "      <td>62</td>\n",
              "      <td>Male</td>\n",
              "      <td>10.9</td>\n",
              "      <td>5.5</td>\n",
              "      <td>699</td>\n",
              "      <td>64</td>\n",
              "      <td>100</td>\n",
              "      <td>7.5</td>\n",
              "      <td>3.2</td>\n",
              "      <td>0.74</td>\n",
              "      <td>1</td>\n",
              "    </tr>\n",
              "    <tr>\n",
              "      <th>2</th>\n",
              "      <td>62</td>\n",
              "      <td>Male</td>\n",
              "      <td>7.3</td>\n",
              "      <td>4.1</td>\n",
              "      <td>490</td>\n",
              "      <td>60</td>\n",
              "      <td>68</td>\n",
              "      <td>7.0</td>\n",
              "      <td>3.3</td>\n",
              "      <td>0.89</td>\n",
              "      <td>1</td>\n",
              "    </tr>\n",
              "    <tr>\n",
              "      <th>3</th>\n",
              "      <td>58</td>\n",
              "      <td>Male</td>\n",
              "      <td>1.0</td>\n",
              "      <td>0.4</td>\n",
              "      <td>182</td>\n",
              "      <td>14</td>\n",
              "      <td>20</td>\n",
              "      <td>6.8</td>\n",
              "      <td>3.4</td>\n",
              "      <td>1.00</td>\n",
              "      <td>1</td>\n",
              "    </tr>\n",
              "    <tr>\n",
              "      <th>4</th>\n",
              "      <td>72</td>\n",
              "      <td>Male</td>\n",
              "      <td>3.9</td>\n",
              "      <td>2.0</td>\n",
              "      <td>195</td>\n",
              "      <td>27</td>\n",
              "      <td>59</td>\n",
              "      <td>7.3</td>\n",
              "      <td>2.4</td>\n",
              "      <td>0.40</td>\n",
              "      <td>1</td>\n",
              "    </tr>\n",
              "    <tr>\n",
              "      <th>5</th>\n",
              "      <td>46</td>\n",
              "      <td>Male</td>\n",
              "      <td>1.8</td>\n",
              "      <td>0.7</td>\n",
              "      <td>208</td>\n",
              "      <td>19</td>\n",
              "      <td>14</td>\n",
              "      <td>7.6</td>\n",
              "      <td>4.4</td>\n",
              "      <td>1.30</td>\n",
              "      <td>1</td>\n",
              "    </tr>\n",
              "    <tr>\n",
              "      <th>6</th>\n",
              "      <td>26</td>\n",
              "      <td>Female</td>\n",
              "      <td>0.9</td>\n",
              "      <td>0.2</td>\n",
              "      <td>154</td>\n",
              "      <td>16</td>\n",
              "      <td>12</td>\n",
              "      <td>7.0</td>\n",
              "      <td>3.5</td>\n",
              "      <td>1.00</td>\n",
              "      <td>1</td>\n",
              "    </tr>\n",
              "    <tr>\n",
              "      <th>7</th>\n",
              "      <td>29</td>\n",
              "      <td>Female</td>\n",
              "      <td>0.9</td>\n",
              "      <td>0.3</td>\n",
              "      <td>202</td>\n",
              "      <td>14</td>\n",
              "      <td>11</td>\n",
              "      <td>6.7</td>\n",
              "      <td>3.6</td>\n",
              "      <td>1.10</td>\n",
              "      <td>1</td>\n",
              "    </tr>\n",
              "    <tr>\n",
              "      <th>8</th>\n",
              "      <td>17</td>\n",
              "      <td>Male</td>\n",
              "      <td>0.9</td>\n",
              "      <td>0.3</td>\n",
              "      <td>202</td>\n",
              "      <td>22</td>\n",
              "      <td>19</td>\n",
              "      <td>7.4</td>\n",
              "      <td>4.1</td>\n",
              "      <td>1.20</td>\n",
              "      <td>2</td>\n",
              "    </tr>\n",
              "    <tr>\n",
              "      <th>9</th>\n",
              "      <td>55</td>\n",
              "      <td>Male</td>\n",
              "      <td>0.7</td>\n",
              "      <td>0.2</td>\n",
              "      <td>290</td>\n",
              "      <td>53</td>\n",
              "      <td>58</td>\n",
              "      <td>6.8</td>\n",
              "      <td>3.4</td>\n",
              "      <td>1.00</td>\n",
              "      <td>1</td>\n",
              "    </tr>\n",
              "    <tr>\n",
              "      <th>10</th>\n",
              "      <td>57</td>\n",
              "      <td>Male</td>\n",
              "      <td>0.6</td>\n",
              "      <td>0.1</td>\n",
              "      <td>210</td>\n",
              "      <td>51</td>\n",
              "      <td>59</td>\n",
              "      <td>5.9</td>\n",
              "      <td>2.7</td>\n",
              "      <td>0.80</td>\n",
              "      <td>1</td>\n",
              "    </tr>\n",
              "    <tr>\n",
              "      <th>11</th>\n",
              "      <td>72</td>\n",
              "      <td>Male</td>\n",
              "      <td>2.7</td>\n",
              "      <td>1.3</td>\n",
              "      <td>260</td>\n",
              "      <td>31</td>\n",
              "      <td>56</td>\n",
              "      <td>7.4</td>\n",
              "      <td>3.0</td>\n",
              "      <td>0.60</td>\n",
              "      <td>1</td>\n",
              "    </tr>\n",
              "    <tr>\n",
              "      <th>12</th>\n",
              "      <td>64</td>\n",
              "      <td>Male</td>\n",
              "      <td>0.9</td>\n",
              "      <td>0.3</td>\n",
              "      <td>310</td>\n",
              "      <td>61</td>\n",
              "      <td>58</td>\n",
              "      <td>7.0</td>\n",
              "      <td>3.4</td>\n",
              "      <td>0.90</td>\n",
              "      <td>2</td>\n",
              "    </tr>\n",
              "    <tr>\n",
              "      <th>13</th>\n",
              "      <td>74</td>\n",
              "      <td>Female</td>\n",
              "      <td>1.1</td>\n",
              "      <td>0.4</td>\n",
              "      <td>214</td>\n",
              "      <td>22</td>\n",
              "      <td>30</td>\n",
              "      <td>8.1</td>\n",
              "      <td>4.1</td>\n",
              "      <td>1.00</td>\n",
              "      <td>1</td>\n",
              "    </tr>\n",
              "    <tr>\n",
              "      <th>14</th>\n",
              "      <td>61</td>\n",
              "      <td>Male</td>\n",
              "      <td>0.7</td>\n",
              "      <td>0.2</td>\n",
              "      <td>145</td>\n",
              "      <td>53</td>\n",
              "      <td>41</td>\n",
              "      <td>5.8</td>\n",
              "      <td>2.7</td>\n",
              "      <td>0.87</td>\n",
              "      <td>1</td>\n",
              "    </tr>\n",
              "  </tbody>\n",
              "</table>\n",
              "</div>\n",
              "      <button class=\"colab-df-convert\" onclick=\"convertToInteractive('df-f383dc9d-016e-4f53-a87d-687910952750')\"\n",
              "              title=\"Convert this dataframe to an interactive table.\"\n",
              "              style=\"display:none;\">\n",
              "        \n",
              "  <svg xmlns=\"http://www.w3.org/2000/svg\" height=\"24px\"viewBox=\"0 0 24 24\"\n",
              "       width=\"24px\">\n",
              "    <path d=\"M0 0h24v24H0V0z\" fill=\"none\"/>\n",
              "    <path d=\"M18.56 5.44l.94 2.06.94-2.06 2.06-.94-2.06-.94-.94-2.06-.94 2.06-2.06.94zm-11 1L8.5 8.5l.94-2.06 2.06-.94-2.06-.94L8.5 2.5l-.94 2.06-2.06.94zm10 10l.94 2.06.94-2.06 2.06-.94-2.06-.94-.94-2.06-.94 2.06-2.06.94z\"/><path d=\"M17.41 7.96l-1.37-1.37c-.4-.4-.92-.59-1.43-.59-.52 0-1.04.2-1.43.59L10.3 9.45l-7.72 7.72c-.78.78-.78 2.05 0 2.83L4 21.41c.39.39.9.59 1.41.59.51 0 1.02-.2 1.41-.59l7.78-7.78 2.81-2.81c.8-.78.8-2.07 0-2.86zM5.41 20L4 18.59l7.72-7.72 1.47 1.35L5.41 20z\"/>\n",
              "  </svg>\n",
              "      </button>\n",
              "      \n",
              "  <style>\n",
              "    .colab-df-container {\n",
              "      display:flex;\n",
              "      flex-wrap:wrap;\n",
              "      gap: 12px;\n",
              "    }\n",
              "\n",
              "    .colab-df-convert {\n",
              "      background-color: #E8F0FE;\n",
              "      border: none;\n",
              "      border-radius: 50%;\n",
              "      cursor: pointer;\n",
              "      display: none;\n",
              "      fill: #1967D2;\n",
              "      height: 32px;\n",
              "      padding: 0 0 0 0;\n",
              "      width: 32px;\n",
              "    }\n",
              "\n",
              "    .colab-df-convert:hover {\n",
              "      background-color: #E2EBFA;\n",
              "      box-shadow: 0px 1px 2px rgba(60, 64, 67, 0.3), 0px 1px 3px 1px rgba(60, 64, 67, 0.15);\n",
              "      fill: #174EA6;\n",
              "    }\n",
              "\n",
              "    [theme=dark] .colab-df-convert {\n",
              "      background-color: #3B4455;\n",
              "      fill: #D2E3FC;\n",
              "    }\n",
              "\n",
              "    [theme=dark] .colab-df-convert:hover {\n",
              "      background-color: #434B5C;\n",
              "      box-shadow: 0px 1px 3px 1px rgba(0, 0, 0, 0.15);\n",
              "      filter: drop-shadow(0px 1px 2px rgba(0, 0, 0, 0.3));\n",
              "      fill: #FFFFFF;\n",
              "    }\n",
              "  </style>\n",
              "\n",
              "      <script>\n",
              "        const buttonEl =\n",
              "          document.querySelector('#df-f383dc9d-016e-4f53-a87d-687910952750 button.colab-df-convert');\n",
              "        buttonEl.style.display =\n",
              "          google.colab.kernel.accessAllowed ? 'block' : 'none';\n",
              "\n",
              "        async function convertToInteractive(key) {\n",
              "          const element = document.querySelector('#df-f383dc9d-016e-4f53-a87d-687910952750');\n",
              "          const dataTable =\n",
              "            await google.colab.kernel.invokeFunction('convertToInteractive',\n",
              "                                                     [key], {});\n",
              "          if (!dataTable) return;\n",
              "\n",
              "          const docLinkHtml = 'Like what you see? Visit the ' +\n",
              "            '<a target=\"_blank\" href=https://colab.research.google.com/notebooks/data_table.ipynb>data table notebook</a>'\n",
              "            + ' to learn more about interactive tables.';\n",
              "          element.innerHTML = '';\n",
              "          dataTable['output_type'] = 'display_data';\n",
              "          await google.colab.output.renderOutput(dataTable, element);\n",
              "          const docLink = document.createElement('div');\n",
              "          docLink.innerHTML = docLinkHtml;\n",
              "          element.appendChild(docLink);\n",
              "        }\n",
              "      </script>\n",
              "    </div>\n",
              "  </div>\n",
              "  "
            ]
          },
          "metadata": {},
          "execution_count": 4
        }
      ]
    },
    {
      "cell_type": "code",
      "source": [
        "dataFrame.describe()"
      ],
      "metadata": {
        "colab": {
          "base_uri": "https://localhost:8080/",
          "height": 364
        },
        "id": "jDTxlsBrfn33",
        "outputId": "fbe83744-e712-417c-d58e-6759eb5a7ef0"
      },
      "execution_count": 5,
      "outputs": [
        {
          "output_type": "execute_result",
          "data": {
            "text/plain": [
              "              Age  Total_Bilirubin  Direct_Bilirubin  Alkaline_Phosphotase  \\\n",
              "count  583.000000       583.000000        583.000000            583.000000   \n",
              "mean    44.746141         3.298799          1.486106            290.576329   \n",
              "std     16.189833         6.209522          2.808498            242.937989   \n",
              "min      4.000000         0.400000          0.100000             63.000000   \n",
              "25%     33.000000         0.800000          0.200000            175.500000   \n",
              "50%     45.000000         1.000000          0.300000            208.000000   \n",
              "75%     58.000000         2.600000          1.300000            298.000000   \n",
              "max     90.000000        75.000000         19.700000           2110.000000   \n",
              "\n",
              "       Alamine_Aminotransferase  Aspartate_Aminotransferase  Total_Protiens  \\\n",
              "count                583.000000                  583.000000      583.000000   \n",
              "mean                  80.713551                  109.910806        6.483190   \n",
              "std                  182.620356                  288.918529        1.085451   \n",
              "min                   10.000000                   10.000000        2.700000   \n",
              "25%                   23.000000                   25.000000        5.800000   \n",
              "50%                   35.000000                   42.000000        6.600000   \n",
              "75%                   60.500000                   87.000000        7.200000   \n",
              "max                 2000.000000                 4929.000000        9.600000   \n",
              "\n",
              "          Albumin  Albumin_and_Globulin_Ratio     Dataset  \n",
              "count  583.000000                  579.000000  583.000000  \n",
              "mean     3.141852                    0.947064    1.286449  \n",
              "std      0.795519                    0.319592    0.452490  \n",
              "min      0.900000                    0.300000    1.000000  \n",
              "25%      2.600000                    0.700000    1.000000  \n",
              "50%      3.100000                    0.930000    1.000000  \n",
              "75%      3.800000                    1.100000    2.000000  \n",
              "max      5.500000                    2.800000    2.000000  "
            ],
            "text/html": [
              "\n",
              "  <div id=\"df-f60882d3-d4c7-4709-ad62-f000d9d5c9c3\">\n",
              "    <div class=\"colab-df-container\">\n",
              "      <div>\n",
              "<style scoped>\n",
              "    .dataframe tbody tr th:only-of-type {\n",
              "        vertical-align: middle;\n",
              "    }\n",
              "\n",
              "    .dataframe tbody tr th {\n",
              "        vertical-align: top;\n",
              "    }\n",
              "\n",
              "    .dataframe thead th {\n",
              "        text-align: right;\n",
              "    }\n",
              "</style>\n",
              "<table border=\"1\" class=\"dataframe\">\n",
              "  <thead>\n",
              "    <tr style=\"text-align: right;\">\n",
              "      <th></th>\n",
              "      <th>Age</th>\n",
              "      <th>Total_Bilirubin</th>\n",
              "      <th>Direct_Bilirubin</th>\n",
              "      <th>Alkaline_Phosphotase</th>\n",
              "      <th>Alamine_Aminotransferase</th>\n",
              "      <th>Aspartate_Aminotransferase</th>\n",
              "      <th>Total_Protiens</th>\n",
              "      <th>Albumin</th>\n",
              "      <th>Albumin_and_Globulin_Ratio</th>\n",
              "      <th>Dataset</th>\n",
              "    </tr>\n",
              "  </thead>\n",
              "  <tbody>\n",
              "    <tr>\n",
              "      <th>count</th>\n",
              "      <td>583.000000</td>\n",
              "      <td>583.000000</td>\n",
              "      <td>583.000000</td>\n",
              "      <td>583.000000</td>\n",
              "      <td>583.000000</td>\n",
              "      <td>583.000000</td>\n",
              "      <td>583.000000</td>\n",
              "      <td>583.000000</td>\n",
              "      <td>579.000000</td>\n",
              "      <td>583.000000</td>\n",
              "    </tr>\n",
              "    <tr>\n",
              "      <th>mean</th>\n",
              "      <td>44.746141</td>\n",
              "      <td>3.298799</td>\n",
              "      <td>1.486106</td>\n",
              "      <td>290.576329</td>\n",
              "      <td>80.713551</td>\n",
              "      <td>109.910806</td>\n",
              "      <td>6.483190</td>\n",
              "      <td>3.141852</td>\n",
              "      <td>0.947064</td>\n",
              "      <td>1.286449</td>\n",
              "    </tr>\n",
              "    <tr>\n",
              "      <th>std</th>\n",
              "      <td>16.189833</td>\n",
              "      <td>6.209522</td>\n",
              "      <td>2.808498</td>\n",
              "      <td>242.937989</td>\n",
              "      <td>182.620356</td>\n",
              "      <td>288.918529</td>\n",
              "      <td>1.085451</td>\n",
              "      <td>0.795519</td>\n",
              "      <td>0.319592</td>\n",
              "      <td>0.452490</td>\n",
              "    </tr>\n",
              "    <tr>\n",
              "      <th>min</th>\n",
              "      <td>4.000000</td>\n",
              "      <td>0.400000</td>\n",
              "      <td>0.100000</td>\n",
              "      <td>63.000000</td>\n",
              "      <td>10.000000</td>\n",
              "      <td>10.000000</td>\n",
              "      <td>2.700000</td>\n",
              "      <td>0.900000</td>\n",
              "      <td>0.300000</td>\n",
              "      <td>1.000000</td>\n",
              "    </tr>\n",
              "    <tr>\n",
              "      <th>25%</th>\n",
              "      <td>33.000000</td>\n",
              "      <td>0.800000</td>\n",
              "      <td>0.200000</td>\n",
              "      <td>175.500000</td>\n",
              "      <td>23.000000</td>\n",
              "      <td>25.000000</td>\n",
              "      <td>5.800000</td>\n",
              "      <td>2.600000</td>\n",
              "      <td>0.700000</td>\n",
              "      <td>1.000000</td>\n",
              "    </tr>\n",
              "    <tr>\n",
              "      <th>50%</th>\n",
              "      <td>45.000000</td>\n",
              "      <td>1.000000</td>\n",
              "      <td>0.300000</td>\n",
              "      <td>208.000000</td>\n",
              "      <td>35.000000</td>\n",
              "      <td>42.000000</td>\n",
              "      <td>6.600000</td>\n",
              "      <td>3.100000</td>\n",
              "      <td>0.930000</td>\n",
              "      <td>1.000000</td>\n",
              "    </tr>\n",
              "    <tr>\n",
              "      <th>75%</th>\n",
              "      <td>58.000000</td>\n",
              "      <td>2.600000</td>\n",
              "      <td>1.300000</td>\n",
              "      <td>298.000000</td>\n",
              "      <td>60.500000</td>\n",
              "      <td>87.000000</td>\n",
              "      <td>7.200000</td>\n",
              "      <td>3.800000</td>\n",
              "      <td>1.100000</td>\n",
              "      <td>2.000000</td>\n",
              "    </tr>\n",
              "    <tr>\n",
              "      <th>max</th>\n",
              "      <td>90.000000</td>\n",
              "      <td>75.000000</td>\n",
              "      <td>19.700000</td>\n",
              "      <td>2110.000000</td>\n",
              "      <td>2000.000000</td>\n",
              "      <td>4929.000000</td>\n",
              "      <td>9.600000</td>\n",
              "      <td>5.500000</td>\n",
              "      <td>2.800000</td>\n",
              "      <td>2.000000</td>\n",
              "    </tr>\n",
              "  </tbody>\n",
              "</table>\n",
              "</div>\n",
              "      <button class=\"colab-df-convert\" onclick=\"convertToInteractive('df-f60882d3-d4c7-4709-ad62-f000d9d5c9c3')\"\n",
              "              title=\"Convert this dataframe to an interactive table.\"\n",
              "              style=\"display:none;\">\n",
              "        \n",
              "  <svg xmlns=\"http://www.w3.org/2000/svg\" height=\"24px\"viewBox=\"0 0 24 24\"\n",
              "       width=\"24px\">\n",
              "    <path d=\"M0 0h24v24H0V0z\" fill=\"none\"/>\n",
              "    <path d=\"M18.56 5.44l.94 2.06.94-2.06 2.06-.94-2.06-.94-.94-2.06-.94 2.06-2.06.94zm-11 1L8.5 8.5l.94-2.06 2.06-.94-2.06-.94L8.5 2.5l-.94 2.06-2.06.94zm10 10l.94 2.06.94-2.06 2.06-.94-2.06-.94-.94-2.06-.94 2.06-2.06.94z\"/><path d=\"M17.41 7.96l-1.37-1.37c-.4-.4-.92-.59-1.43-.59-.52 0-1.04.2-1.43.59L10.3 9.45l-7.72 7.72c-.78.78-.78 2.05 0 2.83L4 21.41c.39.39.9.59 1.41.59.51 0 1.02-.2 1.41-.59l7.78-7.78 2.81-2.81c.8-.78.8-2.07 0-2.86zM5.41 20L4 18.59l7.72-7.72 1.47 1.35L5.41 20z\"/>\n",
              "  </svg>\n",
              "      </button>\n",
              "      \n",
              "  <style>\n",
              "    .colab-df-container {\n",
              "      display:flex;\n",
              "      flex-wrap:wrap;\n",
              "      gap: 12px;\n",
              "    }\n",
              "\n",
              "    .colab-df-convert {\n",
              "      background-color: #E8F0FE;\n",
              "      border: none;\n",
              "      border-radius: 50%;\n",
              "      cursor: pointer;\n",
              "      display: none;\n",
              "      fill: #1967D2;\n",
              "      height: 32px;\n",
              "      padding: 0 0 0 0;\n",
              "      width: 32px;\n",
              "    }\n",
              "\n",
              "    .colab-df-convert:hover {\n",
              "      background-color: #E2EBFA;\n",
              "      box-shadow: 0px 1px 2px rgba(60, 64, 67, 0.3), 0px 1px 3px 1px rgba(60, 64, 67, 0.15);\n",
              "      fill: #174EA6;\n",
              "    }\n",
              "\n",
              "    [theme=dark] .colab-df-convert {\n",
              "      background-color: #3B4455;\n",
              "      fill: #D2E3FC;\n",
              "    }\n",
              "\n",
              "    [theme=dark] .colab-df-convert:hover {\n",
              "      background-color: #434B5C;\n",
              "      box-shadow: 0px 1px 3px 1px rgba(0, 0, 0, 0.15);\n",
              "      filter: drop-shadow(0px 1px 2px rgba(0, 0, 0, 0.3));\n",
              "      fill: #FFFFFF;\n",
              "    }\n",
              "  </style>\n",
              "\n",
              "      <script>\n",
              "        const buttonEl =\n",
              "          document.querySelector('#df-f60882d3-d4c7-4709-ad62-f000d9d5c9c3 button.colab-df-convert');\n",
              "        buttonEl.style.display =\n",
              "          google.colab.kernel.accessAllowed ? 'block' : 'none';\n",
              "\n",
              "        async function convertToInteractive(key) {\n",
              "          const element = document.querySelector('#df-f60882d3-d4c7-4709-ad62-f000d9d5c9c3');\n",
              "          const dataTable =\n",
              "            await google.colab.kernel.invokeFunction('convertToInteractive',\n",
              "                                                     [key], {});\n",
              "          if (!dataTable) return;\n",
              "\n",
              "          const docLinkHtml = 'Like what you see? Visit the ' +\n",
              "            '<a target=\"_blank\" href=https://colab.research.google.com/notebooks/data_table.ipynb>data table notebook</a>'\n",
              "            + ' to learn more about interactive tables.';\n",
              "          element.innerHTML = '';\n",
              "          dataTable['output_type'] = 'display_data';\n",
              "          await google.colab.output.renderOutput(dataTable, element);\n",
              "          const docLink = document.createElement('div');\n",
              "          docLink.innerHTML = docLinkHtml;\n",
              "          element.appendChild(docLink);\n",
              "        }\n",
              "      </script>\n",
              "    </div>\n",
              "  </div>\n",
              "  "
            ]
          },
          "metadata": {},
          "execution_count": 5
        }
      ]
    },
    {
      "cell_type": "code",
      "source": [
        "dataFrame.isnull().sum()"
      ],
      "metadata": {
        "colab": {
          "base_uri": "https://localhost:8080/"
        },
        "id": "kmnT2SgslzQY",
        "outputId": "cf56b0e3-3140-4bbf-843a-3c8dbae29345"
      },
      "execution_count": 6,
      "outputs": [
        {
          "output_type": "execute_result",
          "data": {
            "text/plain": [
              "Age                           0\n",
              "Gender                        0\n",
              "Total_Bilirubin               0\n",
              "Direct_Bilirubin              0\n",
              "Alkaline_Phosphotase          0\n",
              "Alamine_Aminotransferase      0\n",
              "Aspartate_Aminotransferase    0\n",
              "Total_Protiens                0\n",
              "Albumin                       0\n",
              "Albumin_and_Globulin_Ratio    4\n",
              "Dataset                       0\n",
              "dtype: int64"
            ]
          },
          "metadata": {},
          "execution_count": 6
        }
      ]
    },
    {
      "cell_type": "code",
      "source": [
        "dataFrame['Albumin_and_Globulin_Ratio'].fillna(dataFrame['Age'].mean(), inplace = True)\n",
        "dataFrame.isnull().sum()"
      ],
      "metadata": {
        "colab": {
          "base_uri": "https://localhost:8080/"
        },
        "id": "Jh3--jwYmhb5",
        "outputId": "caf71afc-10b2-497c-b6fb-47b34b1d9eb1"
      },
      "execution_count": 7,
      "outputs": [
        {
          "output_type": "execute_result",
          "data": {
            "text/plain": [
              "Age                           0\n",
              "Gender                        0\n",
              "Total_Bilirubin               0\n",
              "Direct_Bilirubin              0\n",
              "Alkaline_Phosphotase          0\n",
              "Alamine_Aminotransferase      0\n",
              "Aspartate_Aminotransferase    0\n",
              "Total_Protiens                0\n",
              "Albumin                       0\n",
              "Albumin_and_Globulin_Ratio    0\n",
              "Dataset                       0\n",
              "dtype: int64"
            ]
          },
          "metadata": {},
          "execution_count": 7
        }
      ]
    },
    {
      "cell_type": "code",
      "source": [
        "dataFrame.info()"
      ],
      "metadata": {
        "colab": {
          "base_uri": "https://localhost:8080/"
        },
        "id": "ikXql2EkbFAB",
        "outputId": "f60e9261-39be-4c44-a3db-d86cf5fcd1f4"
      },
      "execution_count": 8,
      "outputs": [
        {
          "output_type": "stream",
          "name": "stdout",
          "text": [
            "<class 'pandas.core.frame.DataFrame'>\n",
            "RangeIndex: 583 entries, 0 to 582\n",
            "Data columns (total 11 columns):\n",
            " #   Column                      Non-Null Count  Dtype  \n",
            "---  ------                      --------------  -----  \n",
            " 0   Age                         583 non-null    int64  \n",
            " 1   Gender                      583 non-null    object \n",
            " 2   Total_Bilirubin             583 non-null    float64\n",
            " 3   Direct_Bilirubin            583 non-null    float64\n",
            " 4   Alkaline_Phosphotase        583 non-null    int64  \n",
            " 5   Alamine_Aminotransferase    583 non-null    int64  \n",
            " 6   Aspartate_Aminotransferase  583 non-null    int64  \n",
            " 7   Total_Protiens              583 non-null    float64\n",
            " 8   Albumin                     583 non-null    float64\n",
            " 9   Albumin_and_Globulin_Ratio  583 non-null    float64\n",
            " 10  Dataset                     583 non-null    int64  \n",
            "dtypes: float64(5), int64(5), object(1)\n",
            "memory usage: 50.2+ KB\n"
          ]
        }
      ]
    },
    {
      "cell_type": "code",
      "source": [
        "corr = dataFrame.corr()\n",
        "sns.heatmap(corr)"
      ],
      "metadata": {
        "colab": {
          "base_uri": "https://localhost:8080/",
          "height": 419
        },
        "id": "H2GRMZE5g4SN",
        "outputId": "4f77749f-5a17-413a-ce3a-9b1657302414"
      },
      "execution_count": 9,
      "outputs": [
        {
          "output_type": "execute_result",
          "data": {
            "text/plain": [
              "<matplotlib.axes._subplots.AxesSubplot at 0x7f1feca00dc0>"
            ]
          },
          "metadata": {},
          "execution_count": 9
        },
        {
          "output_type": "display_data",
          "data": {
            "text/plain": [
              "<Figure size 432x288 with 2 Axes>"
            ],
            "image/png": "[encoded data removed]"
          },
          "metadata": {
            "needs_background": "light"
          }
        }
      ]
    },
    {
      "cell_type": "code",
      "source": [
        "dataFrame[\"Gender\"].unique()"
      ],
      "metadata": {
        "colab": {
          "base_uri": "https://localhost:8080/"
        },
        "id": "atEhxzMycAZ9",
        "outputId": "cfd715b8-76be-4c67-ad56-bdeac99bc283"
      },
      "execution_count": 10,
      "outputs": [
        {
          "output_type": "execute_result",
          "data": {
            "text/plain": [
              "array(['Female', 'Male'], dtype=object)"
            ]
          },
          "metadata": {},
          "execution_count": 10
        }
      ]
    },
    {
      "cell_type": "code",
      "source": [
        "labelEncoder = LabelEncoder()"
      ],
      "metadata": {
        "id": "v14ojDCPbMj1"
      },
      "execution_count": 11,
      "outputs": []
    },
    {
      "cell_type": "code",
      "source": [
        "dataFrame['Gender']= labelEncoder.fit_transform(dataFrame['Gender']) \n",
        "dataFrame['Gender'].unique()"
      ],
      "metadata": {
        "colab": {
          "base_uri": "https://localhost:8080/"
        },
        "id": "uKs_zLBjbxRG",
        "outputId": "7262be8e-d49e-488a-963b-daf504cb770d"
      },
      "execution_count": 12,
      "outputs": [
        {
          "output_type": "execute_result",
          "data": {
            "text/plain": [
              "array([0, 1])"
            ]
          },
          "metadata": {},
          "execution_count": 12
        }
      ]
    },
    {
      "cell_type": "code",
      "source": [
        "dataFrame.head()"
      ],
      "metadata": {
        "colab": {
          "base_uri": "https://localhost:8080/",
          "height": 270
        },
        "id": "QD2_JBCpcgt9",
        "outputId": "cdb9ac19-b3bd-405d-c765-24f6462d94b4"
      },
      "execution_count": 13,
      "outputs": [
        {
          "output_type": "execute_result",
          "data": {
            "text/plain": [
              "   Age  Gender  Total_Bilirubin  Direct_Bilirubin  Alkaline_Phosphotase  \\\n",
              "0   65       0              0.7               0.1                   187   \n",
              "1   62       1             10.9               5.5                   699   \n",
              "2   62       1              7.3               4.1                   490   \n",
              "3   58       1              1.0               0.4                   182   \n",
              "4   72       1              3.9               2.0                   195   \n",
              "\n",
              "   Alamine_Aminotransferase  Aspartate_Aminotransferase  Total_Protiens  \\\n",
              "0                        16                          18             6.8   \n",
              "1                        64                         100             7.5   \n",
              "2                        60                          68             7.0   \n",
              "3                        14                          20             6.8   \n",
              "4                        27                          59             7.3   \n",
              "\n",
              "   Albumin  Albumin_and_Globulin_Ratio  Dataset  \n",
              "0      3.3                        0.90        1  \n",
              "1      3.2                        0.74        1  \n",
              "2      3.3                        0.89        1  \n",
              "3      3.4                        1.00        1  \n",
              "4      2.4                        0.40        1  "
            ],
            "text/html": [
              "\n",
              "  <div id=\"df-63242c89-26da-4ffb-b2a9-f1da6a6dac71\">\n",
              "    <div class=\"colab-df-container\">\n",
              "      <div>\n",
              "<style scoped>\n",
              "    .dataframe tbody tr th:only-of-type {\n",
              "        vertical-align: middle;\n",
              "    }\n",
              "\n",
              "    .dataframe tbody tr th {\n",
              "        vertical-align: top;\n",
              "    }\n",
              "\n",
              "    .dataframe thead th {\n",
              "        text-align: right;\n",
              "    }\n",
              "</style>\n",
              "<table border=\"1\" class=\"dataframe\">\n",
              "  <thead>\n",
              "    <tr style=\"text-align: right;\">\n",
              "      <th></th>\n",
              "      <th>Age</th>\n",
              "      <th>Gender</th>\n",
              "      <th>Total_Bilirubin</th>\n",
              "      <th>Direct_Bilirubin</th>\n",
              "      <th>Alkaline_Phosphotase</th>\n",
              "      <th>Alamine_Aminotransferase</th>\n",
              "      <th>Aspartate_Aminotransferase</th>\n",
              "      <th>Total_Protiens</th>\n",
              "      <th>Albumin</th>\n",
              "      <th>Albumin_and_Globulin_Ratio</th>\n",
              "      <th>Dataset</th>\n",
              "    </tr>\n",
              "  </thead>\n",
              "  <tbody>\n",
              "    <tr>\n",
              "      <th>0</th>\n",
              "      <td>65</td>\n",
              "      <td>0</td>\n",
              "      <td>0.7</td>\n",
              "      <td>0.1</td>\n",
              "      <td>187</td>\n",
              "      <td>16</td>\n",
              "      <td>18</td>\n",
              "      <td>6.8</td>\n",
              "      <td>3.3</td>\n",
              "      <td>0.90</td>\n",
              "      <td>1</td>\n",
              "    </tr>\n",
              "    <tr>\n",
              "      <th>1</th>\n",
              "      <td>62</td>\n",
              "      <td>1</td>\n",
              "      <td>10.9</td>\n",
              "      <td>5.5</td>\n",
              "      <td>699</td>\n",
              "      <td>64</td>\n",
              "      <td>100</td>\n",
              "      <td>7.5</td>\n",
              "      <td>3.2</td>\n",
              "      <td>0.74</td>\n",
              "      <td>1</td>\n",
              "    </tr>\n",
              "    <tr>\n",
              "      <th>2</th>\n",
              "      <td>62</td>\n",
              "      <td>1</td>\n",
              "      <td>7.3</td>\n",
              "      <td>4.1</td>\n",
              "      <td>490</td>\n",
              "      <td>60</td>\n",
              "      <td>68</td>\n",
              "      <td>7.0</td>\n",
              "      <td>3.3</td>\n",
              "      <td>0.89</td>\n",
              "      <td>1</td>\n",
              "    </tr>\n",
              "    <tr>\n",
              "      <th>3</th>\n",
              "      <td>58</td>\n",
              "      <td>1</td>\n",
              "      <td>1.0</td>\n",
              "      <td>0.4</td>\n",
              "      <td>182</td>\n",
              "      <td>14</td>\n",
              "      <td>20</td>\n",
              "      <td>6.8</td>\n",
              "      <td>3.4</td>\n",
              "      <td>1.00</td>\n",
              "      <td>1</td>\n",
              "    </tr>\n",
              "    <tr>\n",
              "      <th>4</th>\n",
              "      <td>72</td>\n",
              "      <td>1</td>\n",
              "      <td>3.9</td>\n",
              "      <td>2.0</td>\n",
              "      <td>195</td>\n",
              "      <td>27</td>\n",
              "      <td>59</td>\n",
              "      <td>7.3</td>\n",
              "      <td>2.4</td>\n",
              "      <td>0.40</td>\n",
              "      <td>1</td>\n",
              "    </tr>\n",
              "  </tbody>\n",
              "</table>\n",
              "</div>\n",
              "      <button class=\"colab-df-convert\" onclick=\"convertToInteractive('df-63242c89-26da-4ffb-b2a9-f1da6a6dac71')\"\n",
              "              title=\"Convert this dataframe to an interactive table.\"\n",
              "              style=\"display:none;\">\n",
              "        \n",
              "  <svg xmlns=\"http://www.w3.org/2000/svg\" height=\"24px\"viewBox=\"0 0 24 24\"\n",
              "       width=\"24px\">\n",
              "    <path d=\"M0 0h24v24H0V0z\" fill=\"none\"/>\n",
              "    <path d=\"M18.56 5.44l.94 2.06.94-2.06 2.06-.94-2.06-.94-.94-2.06-.94 2.06-2.06.94zm-11 1L8.5 8.5l.94-2.06 2.06-.94-2.06-.94L8.5 2.5l-.94 2.06-2.06.94zm10 10l.94 2.06.94-2.06 2.06-.94-2.06-.94-.94-2.06-.94 2.06-2.06.94z\"/><path d=\"M17.41 7.96l-1.37-1.37c-.4-.4-.92-.59-1.43-.59-.52 0-1.04.2-1.43.59L10.3 9.45l-7.72 7.72c-.78.78-.78 2.05 0 2.83L4 21.41c.39.39.9.59 1.41.59.51 0 1.02-.2 1.41-.59l7.78-7.78 2.81-2.81c.8-.78.8-2.07 0-2.86zM5.41 20L4 18.59l7.72-7.72 1.47 1.35L5.41 20z\"/>\n",
              "  </svg>\n",
              "      </button>\n",
              "      \n",
              "  <style>\n",
              "    .colab-df-container {\n",
              "      display:flex;\n",
              "      flex-wrap:wrap;\n",
              "      gap: 12px;\n",
              "    }\n",
              "\n",
              "    .colab-df-convert {\n",
              "      background-color: #E8F0FE;\n",
              "      border: none;\n",
              "      border-radius: 50%;\n",
              "      cursor: pointer;\n",
              "      display: none;\n",
              "      fill: #1967D2;\n",
              "      height: 32px;\n",
              "      padding: 0 0 0 0;\n",
              "      width: 32px;\n",
              "    }\n",
              "\n",
              "    .colab-df-convert:hover {\n",
              "      background-color: #E2EBFA;\n",
              "      box-shadow: 0px 1px 2px rgba(60, 64, 67, 0.3), 0px 1px 3px 1px rgba(60, 64, 67, 0.15);\n",
              "      fill: #174EA6;\n",
              "    }\n",
              "\n",
              "    [theme=dark] .colab-df-convert {\n",
              "      background-color: #3B4455;\n",
              "      fill: #D2E3FC;\n",
              "    }\n",
              "\n",
              "    [theme=dark] .colab-df-convert:hover {\n",
              "      background-color: #434B5C;\n",
              "      box-shadow: 0px 1px 3px 1px rgba(0, 0, 0, 0.15);\n",
              "      filter: drop-shadow(0px 1px 2px rgba(0, 0, 0, 0.3));\n",
              "      fill: #FFFFFF;\n",
              "    }\n",
              "  </style>\n",
              "\n",
              "      <script>\n",
              "        const buttonEl =\n",
              "          document.querySelector('#df-63242c89-26da-4ffb-b2a9-f1da6a6dac71 button.colab-df-convert');\n",
              "        buttonEl.style.display =\n",
              "          google.colab.kernel.accessAllowed ? 'block' : 'none';\n",
              "\n",
              "        async function convertToInteractive(key) {\n",
              "          const element = document.querySelector('#df-63242c89-26da-4ffb-b2a9-f1da6a6dac71');\n",
              "          const dataTable =\n",
              "            await google.colab.kernel.invokeFunction('convertToInteractive',\n",
              "                                                     [key], {});\n",
              "          if (!dataTable) return;\n",
              "\n",
              "          const docLinkHtml = 'Like what you see? Visit the ' +\n",
              "            '<a target=\"_blank\" href=https://colab.research.google.com/notebooks/data_table.ipynb>data table notebook</a>'\n",
              "            + ' to learn more about interactive tables.';\n",
              "          element.innerHTML = '';\n",
              "          dataTable['output_type'] = 'display_data';\n",
              "          await google.colab.output.renderOutput(dataTable, element);\n",
              "          const docLink = document.createElement('div');\n",
              "          docLink.innerHTML = docLinkHtml;\n",
              "          element.appendChild(docLink);\n",
              "        }\n",
              "      </script>\n",
              "    </div>\n",
              "  </div>\n",
              "  "
            ]
          },
          "metadata": {},
          "execution_count": 13
        }
      ]
    },
    {
      "cell_type": "code",
      "source": [
        "from sklearn.model_selection import train_test_split"
      ],
      "metadata": {
        "id": "x4pg0__Oc7qJ"
      },
      "execution_count": 14,
      "outputs": []
    },
    {
      "cell_type": "code",
      "source": [
        "target = dataFrame['Dataset']\n",
        "dataFrame = dataFrame.drop('Dataset', axis=1)"
      ],
      "metadata": {
        "id": "lV2YrZXWeAtQ"
      },
      "execution_count": 15,
      "outputs": []
    },
    {
      "cell_type": "code",
      "source": [
        "target"
      ],
      "metadata": {
        "colab": {
          "base_uri": "https://localhost:8080/"
        },
        "id": "M7SfExBoeYvD",
        "outputId": "2866a46a-b0ec-46eb-93d9-35cf2fa441b7"
      },
      "execution_count": 16,
      "outputs": [
        {
          "output_type": "execute_result",
          "data": {
            "text/plain": [
              "0      1\n",
              "1      1\n",
              "2      1\n",
              "3      1\n",
              "4      1\n",
              "      ..\n",
              "578    2\n",
              "579    1\n",
              "580    1\n",
              "581    1\n",
              "582    2\n",
              "Name: Dataset, Length: 583, dtype: int64"
            ]
          },
          "metadata": {},
          "execution_count": 16
        }
      ]
    },
    {
      "cell_type": "code",
      "source": [
        "dataFrame"
      ],
      "metadata": {
        "colab": {
          "base_uri": "https://localhost:8080/",
          "height": 488
        },
        "id": "co52xb8ZebL5",
        "outputId": "4c6affe5-2624-41c5-9531-052827474308"
      },
      "execution_count": 17,
      "outputs": [
        {
          "output_type": "execute_result",
          "data": {
            "text/plain": [
              "     Age  Gender  Total_Bilirubin  Direct_Bilirubin  Alkaline_Phosphotase  \\\n",
              "0     65       0              0.7               0.1                   187   \n",
              "1     62       1             10.9               5.5                   699   \n",
              "2     62       1              7.3               4.1                   490   \n",
              "3     58       1              1.0               0.4                   182   \n",
              "4     72       1              3.9               2.0                   195   \n",
              "..   ...     ...              ...               ...                   ...   \n",
              "578   60       1              0.5               0.1                   500   \n",
              "579   40       1              0.6               0.1                    98   \n",
              "580   52       1              0.8               0.2                   245   \n",
              "581   31       1              1.3               0.5                   184   \n",
              "582   38       1              1.0               0.3                   216   \n",
              "\n",
              "     Alamine_Aminotransferase  Aspartate_Aminotransferase  Total_Protiens  \\\n",
              "0                          16                          18             6.8   \n",
              "1                          64                         100             7.5   \n",
              "2                          60                          68             7.0   \n",
              "3                          14                          20             6.8   \n",
              "4                          27                          59             7.3   \n",
              "..                        ...                         ...             ...   \n",
              "578                        20                          34             5.9   \n",
              "579                        35                          31             6.0   \n",
              "580                        48                          49             6.4   \n",
              "581                        29                          32             6.8   \n",
              "582                        21                          24             7.3   \n",
              "\n",
              "     Albumin  Albumin_and_Globulin_Ratio  \n",
              "0        3.3                        0.90  \n",
              "1        3.2                        0.74  \n",
              "2        3.3                        0.89  \n",
              "3        3.4                        1.00  \n",
              "4        2.4                        0.40  \n",
              "..       ...                         ...  \n",
              "578      1.6                        0.37  \n",
              "579      3.2                        1.10  \n",
              "580      3.2                        1.00  \n",
              "581      3.4                        1.00  \n",
              "582      4.4                        1.50  \n",
              "\n",
              "[583 rows x 10 columns]"
            ],
            "text/html": [
              "\n",
              "  <div id=\"df-57b61435-7323-4dc0-b3f7-fcb31c94502b\">\n",
              "    <div class=\"colab-df-container\">\n",
              "      <div>\n",
              "<style scoped>\n",
              "    .dataframe tbody tr th:only-of-type {\n",
              "        vertical-align: middle;\n",
              "    }\n",
              "\n",
              "    .dataframe tbody tr th {\n",
              "        vertical-align: top;\n",
              "    }\n",
              "\n",
              "    .dataframe thead th {\n",
              "        text-align: right;\n",
              "    }\n",
              "</style>\n",
              "<table border=\"1\" class=\"dataframe\">\n",
              "  <thead>\n",
              "    <tr style=\"text-align: right;\">\n",
              "      <th></th>\n",
              "      <th>Age</th>\n",
              "      <th>Gender</th>\n",
              "      <th>Total_Bilirubin</th>\n",
              "      <th>Direct_Bilirubin</th>\n",
              "      <th>Alkaline_Phosphotase</th>\n",
              "      <th>Alamine_Aminotransferase</th>\n",
              "      <th>Aspartate_Aminotransferase</th>\n",
              "      <th>Total_Protiens</th>\n",
              "      <th>Albumin</th>\n",
              "      <th>Albumin_and_Globulin_Ratio</th>\n",
              "    </tr>\n",
              "  </thead>\n",
              "  <tbody>\n",
              "    <tr>\n",
              "      <th>0</th>\n",
              "      <td>65</td>\n",
              "      <td>0</td>\n",
              "      <td>0.7</td>\n",
              "      <td>0.1</td>\n",
              "      <td>187</td>\n",
              "      <td>16</td>\n",
              "      <td>18</td>\n",
              "      <td>6.8</td>\n",
              "      <td>3.3</td>\n",
              "      <td>0.90</td>\n",
              "    </tr>\n",
              "    <tr>\n",
              "      <th>1</th>\n",
              "      <td>62</td>\n",
              "      <td>1</td>\n",
              "      <td>10.9</td>\n",
              "      <td>5.5</td>\n",
              "      <td>699</td>\n",
              "      <td>64</td>\n",
              "      <td>100</td>\n",
              "      <td>7.5</td>\n",
              "      <td>3.2</td>\n",
              "      <td>0.74</td>\n",
              "    </tr>\n",
              "    <tr>\n",
              "      <th>2</th>\n",
              "      <td>62</td>\n",
              "      <td>1</td>\n",
              "      <td>7.3</td>\n",
              "      <td>4.1</td>\n",
              "      <td>490</td>\n",
              "      <td>60</td>\n",
              "      <td>68</td>\n",
              "      <td>7.0</td>\n",
              "      <td>3.3</td>\n",
              "      <td>0.89</td>\n",
              "    </tr>\n",
              "    <tr>\n",
              "      <th>3</th>\n",
              "      <td>58</td>\n",
              "      <td>1</td>\n",
              "      <td>1.0</td>\n",
              "      <td>0.4</td>\n",
              "      <td>182</td>\n",
              "      <td>14</td>\n",
              "      <td>20</td>\n",
              "      <td>6.8</td>\n",
              "      <td>3.4</td>\n",
              "      <td>1.00</td>\n",
              "    </tr>\n",
              "    <tr>\n",
              "      <th>4</th>\n",
              "      <td>72</td>\n",
              "      <td>1</td>\n",
              "      <td>3.9</td>\n",
              "      <td>2.0</td>\n",
              "      <td>195</td>\n",
              "      <td>27</td>\n",
              "      <td>59</td>\n",
              "      <td>7.3</td>\n",
              "      <td>2.4</td>\n",
              "      <td>0.40</td>\n",
              "    </tr>\n",
              "    <tr>\n",
              "      <th>...</th>\n",
              "      <td>...</td>\n",
              "      <td>...</td>\n",
              "      <td>...</td>\n",
              "      <td>...</td>\n",
              "      <td>...</td>\n",
              "      <td>...</td>\n",
              "      <td>...</td>\n",
              "      <td>...</td>\n",
              "      <td>...</td>\n",
              "      <td>...</td>\n",
              "    </tr>\n",
              "    <tr>\n",
              "      <th>578</th>\n",
              "      <td>60</td>\n",
              "      <td>1</td>\n",
              "      <td>0.5</td>\n",
              "      <td>0.1</td>\n",
              "      <td>500</td>\n",
              "      <td>20</td>\n",
              "      <td>34</td>\n",
              "      <td>5.9</td>\n",
              "      <td>1.6</td>\n",
              "      <td>0.37</td>\n",
              "    </tr>\n",
              "    <tr>\n",
              "      <th>579</th>\n",
              "      <td>40</td>\n",
              "      <td>1</td>\n",
              "      <td>0.6</td>\n",
              "      <td>0.1</td>\n",
              "      <td>98</td>\n",
              "      <td>35</td>\n",
              "      <td>31</td>\n",
              "      <td>6.0</td>\n",
              "      <td>3.2</td>\n",
              "      <td>1.10</td>\n",
              "    </tr>\n",
              "    <tr>\n",
              "      <th>580</th>\n",
              "      <td>52</td>\n",
              "      <td>1</td>\n",
              "      <td>0.8</td>\n",
              "      <td>0.2</td>\n",
              "      <td>245</td>\n",
              "      <td>48</td>\n",
              "      <td>49</td>\n",
              "      <td>6.4</td>\n",
              "      <td>3.2</td>\n",
              "      <td>1.00</td>\n",
              "    </tr>\n",
              "    <tr>\n",
              "      <th>581</th>\n",
              "      <td>31</td>\n",
              "      <td>1</td>\n",
              "      <td>1.3</td>\n",
              "      <td>0.5</td>\n",
              "      <td>184</td>\n",
              "      <td>29</td>\n",
              "      <td>32</td>\n",
              "      <td>6.8</td>\n",
              "      <td>3.4</td>\n",
              "      <td>1.00</td>\n",
              "    </tr>\n",
              "    <tr>\n",
              "      <th>582</th>\n",
              "      <td>38</td>\n",
              "      <td>1</td>\n",
              "      <td>1.0</td>\n",
              "      <td>0.3</td>\n",
              "      <td>216</td>\n",
              "      <td>21</td>\n",
              "      <td>24</td>\n",
              "      <td>7.3</td>\n",
              "      <td>4.4</td>\n",
              "      <td>1.50</td>\n",
              "    </tr>\n",
              "  </tbody>\n",
              "</table>\n",
              "<p>583 rows × 10 columns</p>\n",
              "</div>\n",
              "      <button class=\"colab-df-convert\" onclick=\"convertToInteractive('df-57b61435-7323-4dc0-b3f7-fcb31c94502b')\"\n",
              "              title=\"Convert this dataframe to an interactive table.\"\n",
              "              style=\"display:none;\">\n",
              "        \n",
              "  <svg xmlns=\"http://www.w3.org/2000/svg\" height=\"24px\"viewBox=\"0 0 24 24\"\n",
              "       width=\"24px\">\n",
              "    <path d=\"M0 0h24v24H0V0z\" fill=\"none\"/>\n",
              "    <path d=\"M18.56 5.44l.94 2.06.94-2.06 2.06-.94-2.06-.94-.94-2.06-.94 2.06-2.06.94zm-11 1L8.5 8.5l.94-2.06 2.06-.94-2.06-.94L8.5 2.5l-.94 2.06-2.06.94zm10 10l.94 2.06.94-2.06 2.06-.94-2.06-.94-.94-2.06-.94 2.06-2.06.94z\"/><path d=\"M17.41 7.96l-1.37-1.37c-.4-.4-.92-.59-1.43-.59-.52 0-1.04.2-1.43.59L10.3 9.45l-7.72 7.72c-.78.78-.78 2.05 0 2.83L4 21.41c.39.39.9.59 1.41.59.51 0 1.02-.2 1.41-.59l7.78-7.78 2.81-2.81c.8-.78.8-2.07 0-2.86zM5.41 20L4 18.59l7.72-7.72 1.47 1.35L5.41 20z\"/>\n",
              "  </svg>\n",
              "      </button>\n",
              "      \n",
              "  <style>\n",
              "    .colab-df-container {\n",
              "      display:flex;\n",
              "      flex-wrap:wrap;\n",
              "      gap: 12px;\n",
              "    }\n",
              "\n",
              "    .colab-df-convert {\n",
              "      background-color: #E8F0FE;\n",
              "      border: none;\n",
              "      border-radius: 50%;\n",
              "      cursor: pointer;\n",
              "      display: none;\n",
              "      fill: #1967D2;\n",
              "      height: 32px;\n",
              "      padding: 0 0 0 0;\n",
              "      width: 32px;\n",
              "    }\n",
              "\n",
              "    .colab-df-convert:hover {\n",
              "      background-color: #E2EBFA;\n",
              "      box-shadow: 0px 1px 2px rgba(60, 64, 67, 0.3), 0px 1px 3px 1px rgba(60, 64, 67, 0.15);\n",
              "      fill: #174EA6;\n",
              "    }\n",
              "\n",
              "    [theme=dark] .colab-df-convert {\n",
              "      background-color: #3B4455;\n",
              "      fill: #D2E3FC;\n",
              "    }\n",
              "\n",
              "    [theme=dark] .colab-df-convert:hover {\n",
              "      background-color: #434B5C;\n",
              "      box-shadow: 0px 1px 3px 1px rgba(0, 0, 0, 0.15);\n",
              "      filter: drop-shadow(0px 1px 2px rgba(0, 0, 0, 0.3));\n",
              "      fill: #FFFFFF;\n",
              "    }\n",
              "  </style>\n",
              "\n",
              "      <script>\n",
              "        const buttonEl =\n",
              "          document.querySelector('#df-57b61435-7323-4dc0-b3f7-fcb31c94502b button.colab-df-convert');\n",
              "        buttonEl.style.display =\n",
              "          google.colab.kernel.accessAllowed ? 'block' : 'none';\n",
              "\n",
              "        async function convertToInteractive(key) {\n",
              "          const element = document.querySelector('#df-57b61435-7323-4dc0-b3f7-fcb31c94502b');\n",
              "          const dataTable =\n",
              "            await google.colab.kernel.invokeFunction('convertToInteractive',\n",
              "                                                     [key], {});\n",
              "          if (!dataTable) return;\n",
              "\n",
              "          const docLinkHtml = 'Like what you see? Visit the ' +\n",
              "            '<a target=\"_blank\" href=https://colab.research.google.com/notebooks/data_table.ipynb>data table notebook</a>'\n",
              "            + ' to learn more about interactive tables.';\n",
              "          element.innerHTML = '';\n",
              "          dataTable['output_type'] = 'display_data';\n",
              "          await google.colab.output.renderOutput(dataTable, element);\n",
              "          const docLink = document.createElement('div');\n",
              "          docLink.innerHTML = docLinkHtml;\n",
              "          element.appendChild(docLink);\n",
              "        }\n",
              "      </script>\n",
              "    </div>\n",
              "  </div>\n",
              "  "
            ]
          },
          "metadata": {},
          "execution_count": 17
        }
      ]
    },
    {
      "cell_type": "code",
      "source": [
        "X_train, X_test, y_train, y_test  = train_test_split(dataFrame, target, test_size=0.3, shuffle=True, stratify=None)"
      ],
      "metadata": {
        "id": "-3sfm99hczIy"
      },
      "execution_count": 18,
      "outputs": []
    },
    {
      "cell_type": "code",
      "source": [
        "from sklearn.linear_model import LogisticRegressionCV\n",
        "from sklearn.svm import SVC"
      ],
      "metadata": {
        "id": "ZdspzLcKe6QI"
      },
      "execution_count": 19,
      "outputs": []
    },
    {
      "cell_type": "code",
      "source": [
        "import numpy as np\n",
        "from sklearn.model_selection import GridSearchCV\n",
        "from sklearn.pipeline import Pipeline\n",
        "from sklearn import decomposition, datasets\n",
        "from sklearn.preprocessing import StandardScaler"
      ],
      "metadata": {
        "id": "Pi6NH3JunsFm"
      },
      "execution_count": 20,
      "outputs": []
    },
    {
      "cell_type": "code",
      "source": [
        "logReg = LogisticRegressionCV()"
      ],
      "metadata": {
        "id": "QyRXhgnIwyQ6"
      },
      "execution_count": 21,
      "outputs": []
    },
    {
      "cell_type": "code",
      "source": [
        "std_slc = StandardScaler()\n",
        "pca = decomposition.PCA()\n",
        "pipe = Pipeline(steps=[('std_slc', std_slc),\n",
        "                           ('pca', pca),\n",
        "                           ('logistic_Reg', logReg)])\n",
        "penalty = ['l1', 'l2']\n",
        "n_components = list(range(1,X_train.shape[1]+1,1))\n",
        "param_grid = dict(pca__n_components=n_components,\n",
        "                  logistic_Reg__penalty=penalty\n",
        "                  )"
      ],
      "metadata": {
        "id": "vo5yE4w4nUoO"
      },
      "execution_count": 22,
      "outputs": []
    },
    {
      "cell_type": "code",
      "source": [
        "clf = GridSearchCV(pipe, param_grid = param_grid, n_jobs=-1)"
      ],
      "metadata": {
        "id": "FxlmViQnnpOD"
      },
      "execution_count": 23,
      "outputs": []
    },
    {
      "cell_type": "code",
      "source": [
        "clf.fit(X_train, y_train)"
      ],
      "metadata": {
        "colab": {
          "base_uri": "https://localhost:8080/"
        },
        "id": "NcqPnYROo1Se",
        "outputId": "3176a631-77f3-4808-c32d-54ed03c3e4c2"
      },
      "execution_count": 24,
      "outputs": [
        {
          "output_type": "stream",
          "name": "stderr",
          "text": [
            "/usr/local/lib/python3.8/dist-packages/sklearn/model_selection/_validation.py:372: FitFailedWarning: \n",
            "50 fits failed out of a total of 100.\n",
            "The score on these train-test partitions for these parameters will be set to nan.\n",
            "If these failures are not expected, you can try to debug them by setting error_score='raise'.\n",
            "\n",
            "Below are more details about the failures:\n",
            "--------------------------------------------------------------------------------\n",
            "50 fits failed with the following error:\n",
            "Traceback (most recent call last):\n",
            "  File \"/usr/local/lib/python3.8/dist-packages/sklearn/model_selection/_validation.py\", line 680, in _fit_and_score\n",
            "    estimator.fit(X_train, y_train, **fit_params)\n",
            "  File \"/usr/local/lib/python3.8/dist-packages/sklearn/pipeline.py\", line 394, in fit\n",
            "    self._final_estimator.fit(Xt, y, **fit_params_last_step)\n",
            "  File \"/usr/local/lib/python3.8/dist-packages/sklearn/linear_model/_logistic.py\", line 2031, in fit\n",
            "    solver = _check_solver(self.solver, self.penalty, self.dual)\n",
            "  File \"/usr/local/lib/python3.8/dist-packages/sklearn/linear_model/_logistic.py\", line 447, in _check_solver\n",
            "    raise ValueError(\n",
            "ValueError: Solver lbfgs supports only 'l2' or 'none' penalties, got l1 penalty.\n",
            "\n",
            "  warnings.warn(some_fits_failed_message, FitFailedWarning)\n",
            "/usr/local/lib/python3.8/dist-packages/sklearn/model_selection/_search.py:969: UserWarning: One or more of the test scores are non-finite: [       nan        nan        nan        nan        nan        nan\n",
            "        nan        nan        nan        nan 0.71081    0.70587173\n",
            " 0.70587173 0.6936766  0.68882867 0.70102379 0.70349292 0.70590184\n",
            " 0.70593195 0.70840108]\n",
            "  warnings.warn(\n"
          ]
        },
        {
          "output_type": "execute_result",
          "data": {
            "text/plain": [
              "GridSearchCV(estimator=Pipeline(steps=[('std_slc', StandardScaler()),\n",
              "                                       ('pca', PCA()),\n",
              "                                       ('logistic_Reg',\n",
              "                                        LogisticRegressionCV())]),\n",
              "             n_jobs=-1,\n",
              "             param_grid={'logistic_Reg__penalty': ['l1', 'l2'],\n",
              "                         'pca__n_components': [1, 2, 3, 4, 5, 6, 7, 8, 9, 10]})"
            ]
          },
          "metadata": {},
          "execution_count": 24
        }
      ]
    },
    {
      "cell_type": "code",
      "source": [
        "clf.best_estimator_.get_params()"
      ],
      "metadata": {
        "colab": {
          "base_uri": "https://localhost:8080/"
        },
        "id": "X32SLRCpqs3h",
        "outputId": "5c8bdddb-d39b-4505-e0db-a179bc2ae6d1"
      },
      "execution_count": 25,
      "outputs": [
        {
          "output_type": "execute_result",
          "data": {
            "text/plain": [
              "{'memory': None,\n",
              " 'steps': [('std_slc', StandardScaler()),\n",
              "  ('pca', PCA(n_components=1)),\n",
              "  ('logistic_Reg', LogisticRegressionCV())],\n",
              " 'verbose': False,\n",
              " 'std_slc': StandardScaler(),\n",
              " 'pca': PCA(n_components=1),\n",
              " 'logistic_Reg': LogisticRegressionCV(),\n",
              " 'std_slc__copy': True,\n",
              " 'std_slc__with_mean': True,\n",
              " 'std_slc__with_std': True,\n",
              " 'pca__copy': True,\n",
              " 'pca__iterated_power': 'auto',\n",
              " 'pca__n_components': 1,\n",
              " 'pca__random_state': None,\n",
              " 'pca__svd_solver': 'auto',\n",
              " 'pca__tol': 0.0,\n",
              " 'pca__whiten': False,\n",
              " 'logistic_Reg__Cs': 10,\n",
              " 'logistic_Reg__class_weight': None,\n",
              " 'logistic_Reg__cv': None,\n",
              " 'logistic_Reg__dual': False,\n",
              " 'logistic_Reg__fit_intercept': True,\n",
              " 'logistic_Reg__intercept_scaling': 1.0,\n",
              " 'logistic_Reg__l1_ratios': None,\n",
              " 'logistic_Reg__max_iter': 100,\n",
              " 'logistic_Reg__multi_class': 'auto',\n",
              " 'logistic_Reg__n_jobs': None,\n",
              " 'logistic_Reg__penalty': 'l2',\n",
              " 'logistic_Reg__random_state': None,\n",
              " 'logistic_Reg__refit': True,\n",
              " 'logistic_Reg__scoring': None,\n",
              " 'logistic_Reg__solver': 'lbfgs',\n",
              " 'logistic_Reg__tol': 0.0001,\n",
              " 'logistic_Reg__verbose': 0}"
            ]
          },
          "metadata": {},
          "execution_count": 25
        }
      ]
    },
    {
      "cell_type": "code",
      "source": [
        "logReg = LogisticRegressionCV(Cs=10, fit_intercept=True, cv=5,  penalty='l2', scoring=None, solver='lbfgs', tol=0.0001, n_jobs=-1, refit=True, intercept_scaling=1.0, multi_class='auto', random_state=42 )"
      ],
      "metadata": {
        "id": "MygMDKY4rOJX"
      },
      "execution_count": 26,
      "outputs": []
    },
    {
      "cell_type": "code",
      "source": [
        "logReg.fit(X_train, y_train)"
      ],
      "metadata": {
        "colab": {
          "base_uri": "https://localhost:8080/"
        },
        "id": "CoBeEEiDt3UB",
        "outputId": "b515d2ea-e772-4410-c389-cd445520f4db"
      },
      "execution_count": 27,
      "outputs": [
        {
          "output_type": "execute_result",
          "data": {
            "text/plain": [
              "LogisticRegressionCV(cv=5, n_jobs=-1, random_state=42)"
            ]
          },
          "metadata": {},
          "execution_count": 27
        }
      ]
    },
    {
      "cell_type": "code",
      "source": [
        "logReg.score(X_test,y_test)"
      ],
      "metadata": {
        "colab": {
          "base_uri": "https://localhost:8080/"
        },
        "id": "_5ZZYLLqwTZc",
        "outputId": "ecde77ef-19ab-4591-c71f-372e8cac1e5a"
      },
      "execution_count": 28,
      "outputs": [
        {
          "output_type": "execute_result",
          "data": {
            "text/plain": [
              "0.7257142857142858"
            ]
          },
          "metadata": {},
          "execution_count": 28
        }
      ]
    },
    {
      "cell_type": "code",
      "source": [
        "y_pred = logReg.predict(X_test)"
      ],
      "metadata": {
        "id": "eTC6LlkJyewx"
      },
      "execution_count": 29,
      "outputs": []
    },
    {
      "cell_type": "code",
      "source": [
        "from sklearn.metrics import recall_score\n",
        "from sklearn.metrics import precision_score"
      ],
      "metadata": {
        "id": "es5f_1LXyown"
      },
      "execution_count": 30,
      "outputs": []
    },
    {
      "cell_type": "code",
      "source": [
        "print('Recall_score: \\n', recall_score(y_test, y_pred))\n",
        "print('Precision_score: \\n', precision_score(y_test, y_pred))"
      ],
      "metadata": {
        "colab": {
          "base_uri": "https://localhost:8080/"
        },
        "id": "YlOE-BSzxhNZ",
        "outputId": "03825eec-b903-4cad-b6c9-82cfc1cd48b7"
      },
      "execution_count": 31,
      "outputs": [
        {
          "output_type": "stream",
          "name": "stdout",
          "text": [
            "Recall_score: \n",
            " 0.9761904761904762\n",
            "Precision_score: \n",
            " 0.7321428571428571\n"
          ]
        }
      ]
    },
    {
      "cell_type": "code",
      "source": [
        "from sklearn.metrics import confusion_matrix\n",
        "cf_matrix = confusion_matrix(y_test, y_pred)\n",
        "plt.figure(figsize=(6,6))\n",
        "sns.heatmap(cf_matrix, annot=True, cmap='Blues',annot_kws={'fontsize':'xx-large'});"
      ],
      "metadata": {
        "colab": {
          "base_uri": "https://localhost:8080/",
          "height": 374
        },
        "id": "TwT4rwms5mF8",
        "outputId": "7eb52942-fbb3-403b-b0f7-1daafd66a085"
      },
      "execution_count": 39,
      "outputs": [
        {
          "output_type": "display_data",
          "data": {
            "text/plain": [
              "<Figure size 432x432 with 2 Axes>"
            ],
            "image/png": "[encoded data removed]"
          },
          "metadata": {
            "needs_background": "light"
          }
        }
      ]
    },
    {
      "cell_type": "code",
      "source": [
        "from sklearn.svm import SVC\n",
        "svc = SVC()"
      ],
      "metadata": {
        "id": "_gRZRO091KQ_"
      },
      "execution_count": 32,
      "outputs": []
    },
    {
      "cell_type": "code",
      "source": [
        "param_grid_svc = {'C': [0.1, 1, 10, 100, 1000], \n",
        "              'gamma': [1, 0.1, 0.001,0.0001, 0.0001],\n",
        "              } \n",
        "grid_svc = GridSearchCV(svc, param_grid_svc, refit = True, verbose = 3)\n",
        "grid_svc.fit(X_train, y_train)"
      ],
      "metadata": {
        "colab": {
          "base_uri": "https://localhost:8080/"
        },
        "id": "10ZlykS30skH",
        "outputId": "75f12a55-acaf-439f-9ec4-46b489d0239e"
      },
      "execution_count": 33,
      "outputs": [
        {
          "output_type": "stream",
          "name": "stdout",
          "text": [
            "Fitting 5 folds for each of 25 candidates, totalling 125 fits\n",
            "[CV 1/5] END ....................C=0.1, gamma=1;, score=0.707 total time=   0.0s\n",
            "[CV 2/5] END ....................C=0.1, gamma=1;, score=0.707 total time=   0.0s\n",
            "[CV 3/5] END ....................C=0.1, gamma=1;, score=0.707 total time=   0.0s\n",
            "[CV 4/5] END ....................C=0.1, gamma=1;, score=0.716 total time=   0.0s\n",
            "[CV 5/5] END ....................C=0.1, gamma=1;, score=0.716 total time=   0.0s\n",
            "[CV 1/5] END ..................C=0.1, gamma=0.1;, score=0.707 total time=   0.0s\n",
            "[CV 2/5] END ..................C=0.1, gamma=0.1;, score=0.707 total time=   0.0s\n",
            "[CV 3/5] END ..................C=0.1, gamma=0.1;, score=0.707 total time=   0.0s\n",
            "[CV 4/5] END ..................C=0.1, gamma=0.1;, score=0.716 total time=   0.0s\n",
            "[CV 5/5] END ..................C=0.1, gamma=0.1;, score=0.716 total time=   0.0s\n",
            "[CV 1/5] END ................C=0.1, gamma=0.001;, score=0.707 total time=   0.0s\n",
            "[CV 2/5] END ................C=0.1, gamma=0.001;, score=0.707 total time=   0.0s\n",
            "[CV 3/5] END ................C=0.1, gamma=0.001;, score=0.707 total time=   0.0s\n",
            "[CV 4/5] END ................C=0.1, gamma=0.001;, score=0.716 total time=   0.0s\n",
            "[CV 5/5] END ................C=0.1, gamma=0.001;, score=0.716 total time=   0.0s\n",
            "[CV 1/5] END ...............C=0.1, gamma=0.0001;, score=0.707 total time=   0.0s\n",
            "[CV 2/5] END ...............C=0.1, gamma=0.0001;, score=0.707 total time=   0.0s\n",
            "[CV 3/5] END ...............C=0.1, gamma=0.0001;, score=0.707 total time=   0.0s\n",
            "[CV 4/5] END ...............C=0.1, gamma=0.0001;, score=0.716 total time=   0.0s\n",
            "[CV 5/5] END ...............C=0.1, gamma=0.0001;, score=0.716 total time=   0.0s\n",
            "[CV 1/5] END ...............C=0.1, gamma=0.0001;, score=0.707 total time=   0.0s\n",
            "[CV 2/5] END ...............C=0.1, gamma=0.0001;, score=0.707 total time=   0.0s\n",
            "[CV 3/5] END ...............C=0.1, gamma=0.0001;, score=0.707 total time=   0.0s\n",
            "[CV 4/5] END ...............C=0.1, gamma=0.0001;, score=0.716 total time=   0.0s\n",
            "[CV 5/5] END ...............C=0.1, gamma=0.0001;, score=0.716 total time=   0.0s\n",
            "[CV 1/5] END ......................C=1, gamma=1;, score=0.720 total time=   0.0s\n",
            "[CV 2/5] END ......................C=1, gamma=1;, score=0.707 total time=   0.0s\n",
            "[CV 3/5] END ......................C=1, gamma=1;, score=0.707 total time=   0.0s\n",
            "[CV 4/5] END ......................C=1, gamma=1;, score=0.716 total time=   0.0s\n",
            "[CV 5/5] END ......................C=1, gamma=1;, score=0.728 total time=   0.0s\n",
            "[CV 1/5] END ....................C=1, gamma=0.1;, score=0.720 total time=   0.0s\n",
            "[CV 2/5] END ....................C=1, gamma=0.1;, score=0.707 total time=   0.0s\n",
            "[CV 3/5] END ....................C=1, gamma=0.1;, score=0.707 total time=   0.0s\n",
            "[CV 4/5] END ....................C=1, gamma=0.1;, score=0.716 total time=   0.0s\n",
            "[CV 5/5] END ....................C=1, gamma=0.1;, score=0.728 total time=   0.0s\n",
            "[CV 1/5] END ..................C=1, gamma=0.001;, score=0.683 total time=   0.1s\n",
            "[CV 2/5] END ..................C=1, gamma=0.001;, score=0.683 total time=   0.0s\n",
            "[CV 3/5] END ..................C=1, gamma=0.001;, score=0.683 total time=   0.0s\n",
            "[CV 4/5] END ..................C=1, gamma=0.001;, score=0.691 total time=   0.0s\n",
            "[CV 5/5] END ..................C=1, gamma=0.001;, score=0.704 total time=   0.0s\n",
            "[CV 1/5] END .................C=1, gamma=0.0001;, score=0.707 total time=   0.0s\n",
            "[CV 2/5] END .................C=1, gamma=0.0001;, score=0.707 total time=   0.0s\n",
            "[CV 3/5] END .................C=1, gamma=0.0001;, score=0.707 total time=   0.0s\n",
            "[CV 4/5] END .................C=1, gamma=0.0001;, score=0.716 total time=   0.0s\n",
            "[CV 5/5] END .................C=1, gamma=0.0001;, score=0.716 total time=   0.0s\n",
            "[CV 1/5] END .................C=1, gamma=0.0001;, score=0.707 total time=   0.0s\n",
            "[CV 2/5] END .................C=1, gamma=0.0001;, score=0.707 total time=   0.0s\n",
            "[CV 3/5] END .................C=1, gamma=0.0001;, score=0.707 total time=   0.0s\n",
            "[CV 4/5] END .................C=1, gamma=0.0001;, score=0.716 total time=   0.0s\n",
            "[CV 5/5] END .................C=1, gamma=0.0001;, score=0.716 total time=   0.0s\n",
            "[CV 1/5] END .....................C=10, gamma=1;, score=0.720 total time=   0.0s\n",
            "[CV 2/5] END .....................C=10, gamma=1;, score=0.707 total time=   0.0s\n",
            "[CV 3/5] END .....................C=10, gamma=1;, score=0.707 total time=   0.0s\n",
            "[CV 4/5] END .....................C=10, gamma=1;, score=0.716 total time=   0.0s\n",
            "[CV 5/5] END .....................C=10, gamma=1;, score=0.728 total time=   0.0s\n",
            "[CV 1/5] END ...................C=10, gamma=0.1;, score=0.707 total time=   0.0s\n",
            "[CV 2/5] END ...................C=10, gamma=0.1;, score=0.707 total time=   0.0s\n",
            "[CV 3/5] END ...................C=10, gamma=0.1;, score=0.707 total time=   0.0s\n",
            "[CV 4/5] END ...................C=10, gamma=0.1;, score=0.716 total time=   0.0s\n",
            "[CV 5/5] END ...................C=10, gamma=0.1;, score=0.728 total time=   0.0s\n",
            "[CV 1/5] END .................C=10, gamma=0.001;, score=0.768 total time=   0.0s\n",
            "[CV 2/5] END .................C=10, gamma=0.001;, score=0.646 total time=   0.0s\n",
            "[CV 3/5] END .................C=10, gamma=0.001;, score=0.659 total time=   0.0s\n",
            "[CV 4/5] END .................C=10, gamma=0.001;, score=0.654 total time=   0.0s\n",
            "[CV 5/5] END .................C=10, gamma=0.001;, score=0.704 total time=   0.0s\n",
            "[CV 1/5] END ................C=10, gamma=0.0001;, score=0.683 total time=   0.0s\n",
            "[CV 2/5] END ................C=10, gamma=0.0001;, score=0.695 total time=   0.0s\n",
            "[CV 3/5] END ................C=10, gamma=0.0001;, score=0.695 total time=   0.0s\n",
            "[CV 4/5] END ................C=10, gamma=0.0001;, score=0.716 total time=   0.0s\n",
            "[CV 5/5] END ................C=10, gamma=0.0001;, score=0.716 total time=   0.0s\n",
            "[CV 1/5] END ................C=10, gamma=0.0001;, score=0.683 total time=   0.0s\n",
            "[CV 2/5] END ................C=10, gamma=0.0001;, score=0.695 total time=   0.0s\n",
            "[CV 3/5] END ................C=10, gamma=0.0001;, score=0.695 total time=   0.0s\n",
            "[CV 4/5] END ................C=10, gamma=0.0001;, score=0.716 total time=   0.0s\n",
            "[CV 5/5] END ................C=10, gamma=0.0001;, score=0.716 total time=   0.0s\n",
            "[CV 1/5] END ....................C=100, gamma=1;, score=0.720 total time=   0.0s\n",
            "[CV 2/5] END ....................C=100, gamma=1;, score=0.707 total time=   0.0s\n",
            "[CV 3/5] END ....................C=100, gamma=1;, score=0.707 total time=   0.0s\n",
            "[CV 4/5] END ....................C=100, gamma=1;, score=0.716 total time=   0.0s\n",
            "[CV 5/5] END ....................C=100, gamma=1;, score=0.728 total time=   0.0s\n",
            "[CV 1/5] END ..................C=100, gamma=0.1;, score=0.707 total time=   0.0s\n",
            "[CV 2/5] END ..................C=100, gamma=0.1;, score=0.707 total time=   0.0s\n",
            "[CV 3/5] END ..................C=100, gamma=0.1;, score=0.707 total time=   0.0s\n",
            "[CV 4/5] END ..................C=100, gamma=0.1;, score=0.716 total time=   0.0s\n",
            "[CV 5/5] END ..................C=100, gamma=0.1;, score=0.728 total time=   0.0s\n",
            "[CV 1/5] END ................C=100, gamma=0.001;, score=0.744 total time=   0.0s\n",
            "[CV 2/5] END ................C=100, gamma=0.001;, score=0.598 total time=   0.0s\n",
            "[CV 3/5] END ................C=100, gamma=0.001;, score=0.683 total time=   0.0s\n",
            "[CV 4/5] END ................C=100, gamma=0.001;, score=0.642 total time=   0.0s\n",
            "[CV 5/5] END ................C=100, gamma=0.001;, score=0.716 total time=   0.0s\n",
            "[CV 1/5] END ...............C=100, gamma=0.0001;, score=0.695 total time=   0.0s\n",
            "[CV 2/5] END ...............C=100, gamma=0.0001;, score=0.598 total time=   0.0s\n",
            "[CV 3/5] END ...............C=100, gamma=0.0001;, score=0.683 total time=   0.0s\n",
            "[CV 4/5] END ...............C=100, gamma=0.0001;, score=0.654 total time=   0.0s\n",
            "[CV 5/5] END ...............C=100, gamma=0.0001;, score=0.704 total time=   0.1s\n",
            "[CV 1/5] END ...............C=100, gamma=0.0001;, score=0.695 total time=   0.0s\n",
            "[CV 2/5] END ...............C=100, gamma=0.0001;, score=0.598 total time=   0.0s\n",
            "[CV 3/5] END ...............C=100, gamma=0.0001;, score=0.683 total time=   0.1s\n",
            "[CV 4/5] END ...............C=100, gamma=0.0001;, score=0.654 total time=   0.1s\n",
            "[CV 5/5] END ...............C=100, gamma=0.0001;, score=0.704 total time=   0.0s\n",
            "[CV 1/5] END ...................C=1000, gamma=1;, score=0.720 total time=   0.0s\n",
            "[CV 2/5] END ...................C=1000, gamma=1;, score=0.707 total time=   0.0s\n",
            "[CV 3/5] END ...................C=1000, gamma=1;, score=0.707 total time=   0.0s\n",
            "[CV 4/5] END ...................C=1000, gamma=1;, score=0.716 total time=   0.0s\n",
            "[CV 5/5] END ...................C=1000, gamma=1;, score=0.728 total time=   0.0s\n",
            "[CV 1/5] END .................C=1000, gamma=0.1;, score=0.707 total time=   0.0s\n",
            "[CV 2/5] END .................C=1000, gamma=0.1;, score=0.707 total time=   0.0s\n",
            "[CV 3/5] END .................C=1000, gamma=0.1;, score=0.707 total time=   0.0s\n",
            "[CV 4/5] END .................C=1000, gamma=0.1;, score=0.716 total time=   0.0s\n",
            "[CV 5/5] END .................C=1000, gamma=0.1;, score=0.728 total time=   0.0s\n",
            "[CV 1/5] END ...............C=1000, gamma=0.001;, score=0.768 total time=   0.0s\n",
            "[CV 2/5] END ...............C=1000, gamma=0.001;, score=0.573 total time=   0.0s\n",
            "[CV 3/5] END ...............C=1000, gamma=0.001;, score=0.671 total time=   0.1s\n",
            "[CV 4/5] END ...............C=1000, gamma=0.001;, score=0.654 total time=   0.1s\n",
            "[CV 5/5] END ...............C=1000, gamma=0.001;, score=0.716 total time=   0.1s\n",
            "[CV 1/5] END ..............C=1000, gamma=0.0001;, score=0.634 total time=   0.3s\n",
            "[CV 2/5] END ..............C=1000, gamma=0.0001;, score=0.573 total time=   0.2s\n",
            "[CV 3/5] END ..............C=1000, gamma=0.0001;, score=0.683 total time=   0.2s\n",
            "[CV 4/5] END ..............C=1000, gamma=0.0001;, score=0.679 total time=   0.2s\n",
            "[CV 5/5] END ..............C=1000, gamma=0.0001;, score=0.667 total time=   0.1s\n",
            "[CV 1/5] END ..............C=1000, gamma=0.0001;, score=0.634 total time=   0.1s\n",
            "[CV 2/5] END ..............C=1000, gamma=0.0001;, score=0.573 total time=   0.1s\n",
            "[CV 3/5] END ..............C=1000, gamma=0.0001;, score=0.683 total time=   0.1s\n",
            "[CV 4/5] END ..............C=1000, gamma=0.0001;, score=0.679 total time=   0.1s\n",
            "[CV 5/5] END ..............C=1000, gamma=0.0001;, score=0.667 total time=   0.1s\n"
          ]
        },
        {
          "output_type": "execute_result",
          "data": {
            "text/plain": [
              "GridSearchCV(estimator=SVC(),\n",
              "             param_grid={'C': [0.1, 1, 10, 100, 1000],\n",
              "                         'gamma': [1, 0.1, 0.001, 0.0001, 0.0001]},\n",
              "             verbose=3)"
            ]
          },
          "metadata": {},
          "execution_count": 33
        }
      ]
    },
    {
      "cell_type": "code",
      "source": [
        "print(grid_svc.best_params_)"
      ],
      "metadata": {
        "colab": {
          "base_uri": "https://localhost:8080/"
        },
        "id": "1m6H8oFW3OlD",
        "outputId": "341bb9e4-cbc8-488a-a602-c98aeacd6ec4"
      },
      "execution_count": 34,
      "outputs": [
        {
          "output_type": "stream",
          "name": "stdout",
          "text": [
            "{'C': 1, 'gamma': 1}\n"
          ]
        }
      ]
    },
    {
      "cell_type": "code",
      "source": [
        "svc = SVC(C = 100, kernel = 'rbf',gamma = 0.001, shrinking = False, random_state = 42)\n",
        "svc.fit(X_train, y_train)\n",
        "y_pred_svc = grid_svc.predict(X_test)"
      ],
      "metadata": {
        "id": "OW930HaMzmfT"
      },
      "execution_count": 36,
      "outputs": []
    },
    {
      "cell_type": "code",
      "source": [
        "print('Recall_score: \\n', recall_score(y_test, y_pred_svc))\n",
        "print('Precision_score: \\n', precision_score(y_test, y_pred_svc))"
      ],
      "metadata": {
        "colab": {
          "base_uri": "https://localhost:8080/"
        },
        "id": "WWDAoizJ4LOU",
        "outputId": "ea73e883-a4ab-4128-aaf4-529523ef0f25"
      },
      "execution_count": 37,
      "outputs": [
        {
          "output_type": "stream",
          "name": "stdout",
          "text": [
            "Recall_score: \n",
            " 1.0\n",
            "Precision_score: \n",
            " 0.7241379310344828\n"
          ]
        }
      ]
    },
    {
      "cell_type": "code",
      "source": [
        "from sklearn.metrics import confusion_matrix\n",
        "cf_matrix = confusion_matrix(y_test, y_pred_svc)\n",
        "plt.figure(figsize=(6,6))\n",
        "sns.heatmap(cf_matrix, annot=True, cmap='Blues',annot_kws={'fontsize':'xx-large'});"
      ],
      "metadata": {
        "colab": {
          "base_uri": "https://localhost:8080/",
          "height": 374
        },
        "id": "4SP9ELbk5TJ1",
        "outputId": "8ef825d6-ec72-4250-d774-31f885fdc215"
      },
      "execution_count": 38,
      "outputs": [
        {
          "output_type": "display_data",
          "data": {
            "text/plain": [
              "<Figure size 432x432 with 2 Axes>"
            ],
            "image/png": "[encoded data removed]"
          },
          "metadata": {
            "needs_background": "light"
          }
        }
      ]
    }
  ]
}