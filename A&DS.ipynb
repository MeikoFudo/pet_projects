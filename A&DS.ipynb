{
  "nbformat": 4,
  "nbformat_minor": 0,
  "metadata": {
    "colab": {
      "provenance": [],
      "authorship_tag": "ABX9TyNL6GOaXUbDsyvknJh89SVw",
      "include_colab_link": true
    },
    "kernelspec": {
      "name": "python3",
      "display_name": "Python 3"
    },
    "language_info": {
      "name": "python"
    }
  },
  "cells": [
    {
      "cell_type": "markdown",
      "metadata": {
        "id": "view-in-github",
        "colab_type": "text"
      },
      "source": [
        "<a href=\"https://colab.research.google.com/github/MeikoFudo/MeikoFudo/blob/main/A%26DS.ipynb\" target=\"_parent\"><img src=\"https://colab.research.google.com/assets/colab-badge.svg\" alt=\"Open In Colab\"/></a>"
      ]
    },
    {
      "cell_type": "markdown",
      "source": [
        "Когда часовая и минутная стрелки часов накладываются друг на друга?\n"
      ],
      "metadata": {
        "id": "Uz7IB2NNnUXP"
      }
    },
    {
      "cell_type": "code",
      "source": [
        "\"\"\"Решение задачи можно переформулировать следующим образом: сколько должно пройти полных \n",
        "минут, чтобы часовая и минутная стрелки совпали. \"\"\"\n",
        "\n",
        "hour = int(input())\n",
        "minute = int(input())\n",
        "print((60 * hour - 11 * minute) % 720 // 11)"
      ],
      "metadata": {
        "colab": {
          "base_uri": "https://localhost:8080/"
        },
        "id": "j7DydTzynem0",
        "outputId": "d29866af-9fbf-463a-a2a0-d5b03b5bf2f9"
      },
      "execution_count": 5,
      "outputs": [
        {
          "output_type": "stream",
          "name": "stdout",
          "text": [
            "4\n",
            "56\n",
            "31\n"
          ]
        }
      ]
    },
    {
      "cell_type": "markdown",
      "source": [
        "Шестизначное число считать счастливым, если первая его цифра совпадает с\n",
        "четвертой, вторая с пятой и третья с шестой, например 369369. Определить, является ли\n",
        "введённое число счастливым. Лидирующие нули допустимы (т.е. шестизначным считается\n",
        "любое число от 0 до первого семизначного числа).\n"
      ],
      "metadata": {
        "id": "pNeVzCqRoTxS"
      }
    },
    {
      "cell_type": "code",
      "source": [
        "number = int(input())\n",
        "x1 = number // 100000\n",
        "x2 = (number // 10000)%10\n",
        "x3 = (number // 1000)%10\n",
        "x4 = (number // 100)%10\n",
        "x5 = (number // 10)%10\n",
        "x6= number % 10\n",
        "if x1 == x4 and x2 == x5 and x3 == x6:\n",
        "  print(\"YES\")\n",
        "else:\n",
        "  print(\"NO\")"
      ],
      "metadata": {
        "colab": {
          "base_uri": "https://localhost:8080/"
        },
        "id": "AC3vwSqAoUIe",
        "outputId": "1c5abc16-fa38-4047-9c4f-091ce9615ddb"
      },
      "execution_count": 35,
      "outputs": [
        {
          "output_type": "stream",
          "name": "stdout",
          "text": [
            "369369\n",
            "YES\n"
          ]
        }
      ]
    },
    {
      "cell_type": "markdown",
      "source": [
        "Определить, бьёт ли ладья, стоящая на клетке с указанными координатами\n",
        "(номер строки и номер столбца), фигуру, стоящую на другой указанной клетке. Входные\n",
        "данные: четыре числа — координаты ладьи (два числа) и координаты другой фигуры (два\n",
        "числа). Координаты — целые числа в интервале от 1 до 8. Выходные данные: вывести\n",
        "слово ДА, если ладья сможет побить фигуру за 1 ход и НЕТ в противном случае."
      ],
      "metadata": {
        "id": "Yj3NjfwYodw6"
      }
    },
    {
      "cell_type": "code",
      "source": [
        "x1 = int(input())\n",
        "y1 = int(input())\n",
        "x2 = int(input())\n",
        "y2 = int(input())\n",
        "if (x1 == x2 or y1 == y2):\n",
        "  print(\"YES\")\n",
        "else:\n",
        "  print(\"NO\")"
      ],
      "metadata": {
        "colab": {
          "base_uri": "https://localhost:8080/"
        },
        "id": "7wOt5ouBoggB",
        "outputId": "cfd86893-098e-4a0e-d651-6edd97301b94"
      },
      "execution_count": 14,
      "outputs": [
        {
          "output_type": "stream",
          "name": "stdout",
          "text": [
            "4\n",
            "3\n",
            "3\n",
            "4\n",
            "NO\n"
          ]
        }
      ]
    },
    {
      "cell_type": "markdown",
      "source": [
        "Определить, бьёт ли слон, стоящий на клетке с указанными координатами\n",
        "(номер строки и номер столбца), фигуру, стоящую на другой указанной клетке. Входные\n",
        "данные: четыре числа — координаты слона (два числа) и координаты другой фигуры (два\n",
        "числа). Координаты — целые числа в интервале от 1 до 8. Выходные данные: вывести\n",
        "слово ДА, если слон сможет побить фигуру за 1 ход и НЕТ в противном случае."
      ],
      "metadata": {
        "id": "rKlQR63Vog7K"
      }
    },
    {
      "cell_type": "code",
      "source": [
        "x1 = int(input())\n",
        "y1 = int(input())\n",
        "x2 = int(input())\n",
        "y2 = int(input())\n",
        "if (abs(x1 - x2) == abs(y1 -y2)):\n",
        "  print(\"YES\")\n",
        "else:\n",
        "  print(\"NO\")"
      ],
      "metadata": {
        "colab": {
          "base_uri": "https://localhost:8080/"
        },
        "id": "3Sn3ZVrroj9k",
        "outputId": "c95d9c2e-cd3a-4d0e-c844-1d262ea69e49"
      },
      "execution_count": 15,
      "outputs": [
        {
          "output_type": "stream",
          "name": "stdout",
          "text": [
            "5\n",
            "4\n",
            "3\n",
            "5\n",
            "NO\n"
          ]
        }
      ]
    },
    {
      "cell_type": "markdown",
      "source": [
        "Определить, бьёт ли ферзь, стоящий на клетке с указанными координатами\n",
        "(номер строки и номер столбца), фигуру, стоящую на другой указанной клетке. Входные\n",
        "данные: четыре числа — координаты ферзя (два числа) и координаты другой фигуры (два\n",
        "числа). Координаты — целые числа в интервале от 1 до 8. Выходные данные: вывести\n",
        "слово ДА, если слон сможет побить фигуру за 1 ход и НЕТ в противном случае."
      ],
      "metadata": {
        "id": "V0ULOOPuokR9"
      }
    },
    {
      "cell_type": "code",
      "source": [
        "x1 = int(input())\n",
        "y1 = int(input())\n",
        "x2 = int(input())\n",
        "y2 = int(input())\n",
        "if (x1 == x2) or (y1 == y2):\n",
        "  print(\"YES\")\n",
        "elif (abs(x1 - x2) == abs(y1 -y2)):\n",
        "  print(\"YES\")\n",
        "else:\n",
        "  print(\"NO\")"
      ],
      "metadata": {
        "colab": {
          "base_uri": "https://localhost:8080/"
        },
        "id": "orf8JLuJo_m3",
        "outputId": "1ebc0a53-c7ea-4899-84ea-6bd8b4a1fb7a"
      },
      "execution_count": 18,
      "outputs": [
        {
          "output_type": "stream",
          "name": "stdout",
          "text": [
            "1\n",
            "1\n",
            "8\n",
            "1\n",
            "YES\n"
          ]
        }
      ]
    },
    {
      "cell_type": "markdown",
      "source": [
        "Определить, бьёт ли король, стоящий на клетке с указанными координатами\n",
        "(номер строки и номер столбца), фигуру, стоящую на другой указанной клетке. Входные\n",
        "данные: четыре числа — координаты короля (два числа) и координаты другой фигуры (два\n",
        "числа). Координаты — целые числа в интервале от 1 до 8. Выходные данные: вывести\n",
        "слово ДА, если слон сможет побить фигуру за 1 ход и НЕТ в противном случае."
      ],
      "metadata": {
        "id": "uPTRntgTpCdV"
      }
    },
    {
      "cell_type": "code",
      "source": [
        "x1 = int(input())\n",
        "y1 = int(input())\n",
        "x2 = int(input())\n",
        "y2 = int(input())\n",
        "if (abs(x1 - x2) <= 1 and abs(y1 - y2) <= 1):\n",
        "  print(\"YES\")\n",
        "else:\n",
        "  print(\"NO\")"
      ],
      "metadata": {
        "colab": {
          "base_uri": "https://localhost:8080/"
        },
        "id": "-EPSppMspETc",
        "outputId": "5dda0bb1-43ca-4275-885e-b1a8446dba10"
      },
      "execution_count": 20,
      "outputs": [
        {
          "output_type": "stream",
          "name": "stdout",
          "text": [
            "4\n",
            "5\n",
            "3\n",
            "3\n",
            "NO\n"
          ]
        }
      ]
    },
    {
      "cell_type": "markdown",
      "source": [
        "Определить, бьёт ли конь, стоящий на клетке с указанными координатами\n",
        "(номер строки и номер столбца), фигуру, стоящую на другой указанной клетке. Входные\n",
        "данные: четыре числа — координаты коня (два числа) и координаты другой фигуры (два\n",
        "числа). Координаты — целые числа в интервале от 1 до 8. Выходные данные: вывести\n",
        "слово ДА, если слон сможет побить фигуру за 1 ход и НЕТ в противном случае."
      ],
      "metadata": {
        "id": "R9w5bLQDDTyt"
      }
    },
    {
      "cell_type": "code",
      "source": [
        "x1 = int(input())\n",
        "y1 = int(input())\n",
        "x2 = int(input())\n",
        "y2 = int(input())\n",
        "if ((abs(x1 - x2) == 1 and abs(y1 - y2) == 2) or (abs(x1 - x2) == 2 and abs(y1 - y2) == 1)):\n",
        "  print(\"YES\")\n",
        "else:\n",
        "  print(\"NO\")"
      ],
      "metadata": {
        "colab": {
          "base_uri": "https://localhost:8080/"
        },
        "id": "lqmfd17YDU-5",
        "outputId": "1211d667-83f8-46d8-e441-a2c30d5cc965"
      },
      "execution_count": 36,
      "outputs": [
        {
          "output_type": "stream",
          "name": "stdout",
          "text": [
            "5\n",
            "2\n",
            "4\n",
            "4\n",
            "YES\n"
          ]
        }
      ]
    }
  ]
}