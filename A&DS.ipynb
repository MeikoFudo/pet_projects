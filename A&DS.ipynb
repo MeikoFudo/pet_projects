{
  "nbformat": 4,
  "nbformat_minor": 0,
  "metadata": {
    "colab": {
      "provenance": [],
      "authorship_tag": "ABX9TyPTaMa2IxjaGWF5CRdXB/qr",
      "include_colab_link": true
    },
    "kernelspec": {
      "name": "python3",
      "display_name": "Python 3"
    },
    "language_info": {
      "name": "python"
    }
  },
  "cells": [
    {
      "cell_type": "markdown",
      "metadata": {
        "id": "view-in-github",
        "colab_type": "text"
      },
      "source": [
        "<a href=\"https://colab.research.google.com/github/MeikoFudo/MeikoFudo/blob/main/A%26DS.ipynb\" target=\"_parent\"><img src=\"https://colab.research.google.com/assets/colab-badge.svg\" alt=\"Open In Colab\"/></a>"
      ]
    },
    {
      "cell_type": "markdown",
      "source": [
        "Угол наклона часов. Заданы значения часовой стрелки h и минутной"
      ],
      "metadata": {
        "id": "3lAQ3PcowcDy"
      }
    },
    {
      "cell_type": "code",
      "source": [
        "h = int(input())\n",
        "m = int(input())\n",
        "hour_angle = 0.5 * (h * 60 + m)\n",
        "minute_angle = 6 * m\n",
        "angle = abs(hour_angle - minute_angle)\n",
        "if (360 - angle < angle):\n",
        "  print(360 - angle)\n",
        "else:\n",
        "  print(angle)"
      ],
      "metadata": {
        "colab": {
          "base_uri": "https://localhost:8080/"
        },
        "id": "VWx2uI5hwKep",
        "outputId": "d1369926-4e28-420e-921b-57b294a54273"
      },
      "execution_count": 1,
      "outputs": [
        {
          "output_type": "stream",
          "name": "stdout",
          "text": [
            "4\n",
            "34\n",
            "67.0\n"
          ]
        }
      ]
    },
    {
      "cell_type": "markdown",
      "source": [
        "Когда часовая и минутная стрелки часов накладываются друг на друга?\n"
      ],
      "metadata": {
        "id": "Uz7IB2NNnUXP"
      }
    },
    {
      "cell_type": "code",
      "source": [
        "\"\"\"Решение задачи можно переформулировать следующим образом: сколько должно пройти полных \n",
        "минут, чтобы часовая и минутная стрелки совпали. \"\"\"\n",
        "\n",
        "hour = int(input())\n",
        "minute = int(input())\n",
        "print((60 * hour - 11 * minute) % 720 // 11)"
      ],
      "metadata": {
        "colab": {
          "base_uri": "https://localhost:8080/"
        },
        "id": "j7DydTzynem0",
        "outputId": "d29866af-9fbf-463a-a2a0-d5b03b5bf2f9"
      },
      "execution_count": null,
      "outputs": [
        {
          "output_type": "stream",
          "name": "stdout",
          "text": [
            "4\n",
            "56\n",
            "31\n"
          ]
        }
      ]
    },
    {
      "cell_type": "markdown",
      "source": [
        "Шестизначное число считать счастливым, если первая его цифра совпадает с\n",
        "четвертой, вторая с пятой и третья с шестой, например 369369. Определить, является ли\n",
        "введённое число счастливым. Лидирующие нули допустимы (т.е. шестизначным считается\n",
        "любое число от 0 до первого семизначного числа).\n"
      ],
      "metadata": {
        "id": "pNeVzCqRoTxS"
      }
    },
    {
      "cell_type": "code",
      "source": [
        "number = int(input())\n",
        "x1 = number // 100000\n",
        "x2 = (number // 10000)%10\n",
        "x3 = (number // 1000)%10\n",
        "x4 = (number // 100)%10\n",
        "x5 = (number // 10)%10\n",
        "x6= number % 10\n",
        "if x1 == x4 and x2 == x5 and x3 == x6:\n",
        "  print(\"YES\")\n",
        "else:\n",
        "  print(\"NO\")"
      ],
      "metadata": {
        "colab": {
          "base_uri": "https://localhost:8080/"
        },
        "id": "AC3vwSqAoUIe",
        "outputId": "1c5abc16-fa38-4047-9c4f-091ce9615ddb"
      },
      "execution_count": null,
      "outputs": [
        {
          "output_type": "stream",
          "name": "stdout",
          "text": [
            "369369\n",
            "YES\n"
          ]
        }
      ]
    },
    {
      "cell_type": "markdown",
      "source": [
        "Определить, бьёт ли ладья, стоящая на клетке с указанными координатами\n",
        "(номер строки и номер столбца), фигуру, стоящую на другой указанной клетке. Входные\n",
        "данные: четыре числа — координаты ладьи (два числа) и координаты другой фигуры (два\n",
        "числа). Координаты — целые числа в интервале от 1 до 8. Выходные данные: вывести\n",
        "слово ДА, если ладья сможет побить фигуру за 1 ход и НЕТ в противном случае."
      ],
      "metadata": {
        "id": "Yj3NjfwYodw6"
      }
    },
    {
      "cell_type": "code",
      "source": [
        "x1 = int(input())\n",
        "y1 = int(input())\n",
        "x2 = int(input())\n",
        "y2 = int(input())\n",
        "if (x1 == x2 or y1 == y2):\n",
        "  print(\"YES\")\n",
        "else:\n",
        "  print(\"NO\")"
      ],
      "metadata": {
        "colab": {
          "base_uri": "https://localhost:8080/"
        },
        "id": "7wOt5ouBoggB",
        "outputId": "cfd86893-098e-4a0e-d651-6edd97301b94"
      },
      "execution_count": null,
      "outputs": [
        {
          "output_type": "stream",
          "name": "stdout",
          "text": [
            "4\n",
            "3\n",
            "3\n",
            "4\n",
            "NO\n"
          ]
        }
      ]
    },
    {
      "cell_type": "markdown",
      "source": [
        "Определить, бьёт ли слон, стоящий на клетке с указанными координатами\n",
        "(номер строки и номер столбца), фигуру, стоящую на другой указанной клетке. Входные\n",
        "данные: четыре числа — координаты слона (два числа) и координаты другой фигуры (два\n",
        "числа). Координаты — целые числа в интервале от 1 до 8. Выходные данные: вывести\n",
        "слово ДА, если слон сможет побить фигуру за 1 ход и НЕТ в противном случае."
      ],
      "metadata": {
        "id": "rKlQR63Vog7K"
      }
    },
    {
      "cell_type": "code",
      "source": [
        "x1 = int(input())\n",
        "y1 = int(input())\n",
        "x2 = int(input())\n",
        "y2 = int(input())\n",
        "if (abs(x1 - x2) == abs(y1 -y2)):\n",
        "  print(\"YES\")\n",
        "else:\n",
        "  print(\"NO\")"
      ],
      "metadata": {
        "colab": {
          "base_uri": "https://localhost:8080/"
        },
        "id": "3Sn3ZVrroj9k",
        "outputId": "c95d9c2e-cd3a-4d0e-c844-1d262ea69e49"
      },
      "execution_count": null,
      "outputs": [
        {
          "output_type": "stream",
          "name": "stdout",
          "text": [
            "5\n",
            "4\n",
            "3\n",
            "5\n",
            "NO\n"
          ]
        }
      ]
    },
    {
      "cell_type": "markdown",
      "source": [
        "Определить, бьёт ли ферзь, стоящий на клетке с указанными координатами\n",
        "(номер строки и номер столбца), фигуру, стоящую на другой указанной клетке. Входные\n",
        "данные: четыре числа — координаты ферзя (два числа) и координаты другой фигуры (два\n",
        "числа). Координаты — целые числа в интервале от 1 до 8. Выходные данные: вывести\n",
        "слово ДА, если слон сможет побить фигуру за 1 ход и НЕТ в противном случае."
      ],
      "metadata": {
        "id": "V0ULOOPuokR9"
      }
    },
    {
      "cell_type": "code",
      "source": [
        "x1 = int(input())\n",
        "y1 = int(input())\n",
        "x2 = int(input())\n",
        "y2 = int(input())\n",
        "if (x1 == x2) or (y1 == y2):\n",
        "  print(\"YES\")\n",
        "elif (abs(x1 - x2) == abs(y1 -y2)):\n",
        "  print(\"YES\")\n",
        "else:\n",
        "  print(\"NO\")"
      ],
      "metadata": {
        "colab": {
          "base_uri": "https://localhost:8080/"
        },
        "id": "orf8JLuJo_m3",
        "outputId": "1ebc0a53-c7ea-4899-84ea-6bd8b4a1fb7a"
      },
      "execution_count": null,
      "outputs": [
        {
          "output_type": "stream",
          "name": "stdout",
          "text": [
            "1\n",
            "1\n",
            "8\n",
            "1\n",
            "YES\n"
          ]
        }
      ]
    },
    {
      "cell_type": "markdown",
      "source": [
        "Определить, бьёт ли король, стоящий на клетке с указанными координатами\n",
        "(номер строки и номер столбца), фигуру, стоящую на другой указанной клетке. Входные\n",
        "данные: четыре числа — координаты короля (два числа) и координаты другой фигуры (два\n",
        "числа). Координаты — целые числа в интервале от 1 до 8. Выходные данные: вывести\n",
        "слово ДА, если слон сможет побить фигуру за 1 ход и НЕТ в противном случае."
      ],
      "metadata": {
        "id": "uPTRntgTpCdV"
      }
    },
    {
      "cell_type": "code",
      "source": [
        "x1 = int(input())\n",
        "y1 = int(input())\n",
        "x2 = int(input())\n",
        "y2 = int(input())\n",
        "if (abs(x1 - x2) <= 1 and abs(y1 - y2) <= 1):\n",
        "  print(\"YES\")\n",
        "else:\n",
        "  print(\"NO\")"
      ],
      "metadata": {
        "colab": {
          "base_uri": "https://localhost:8080/"
        },
        "id": "-EPSppMspETc",
        "outputId": "5dda0bb1-43ca-4275-885e-b1a8446dba10"
      },
      "execution_count": null,
      "outputs": [
        {
          "output_type": "stream",
          "name": "stdout",
          "text": [
            "4\n",
            "5\n",
            "3\n",
            "3\n",
            "NO\n"
          ]
        }
      ]
    },
    {
      "cell_type": "markdown",
      "source": [
        "Определить, бьёт ли конь, стоящий на клетке с указанными координатами\n",
        "(номер строки и номер столбца), фигуру, стоящую на другой указанной клетке. Входные\n",
        "данные: четыре числа — координаты коня (два числа) и координаты другой фигуры (два\n",
        "числа). Координаты — целые числа в интервале от 1 до 8. Выходные данные: вывести\n",
        "слово ДА, если слон сможет побить фигуру за 1 ход и НЕТ в противном случае."
      ],
      "metadata": {
        "id": "R9w5bLQDDTyt"
      }
    },
    {
      "cell_type": "code",
      "source": [
        "x1 = int(input())\n",
        "y1 = int(input())\n",
        "x2 = int(input())\n",
        "y2 = int(input())\n",
        "if ((abs(x1 - x2) == 1 and abs(y1 - y2) == 2) or (abs(x1 - x2) == 2 and abs(y1 - y2) == 1)):\n",
        "  print(\"YES\")\n",
        "else:\n",
        "  print(\"NO\")"
      ],
      "metadata": {
        "colab": {
          "base_uri": "https://localhost:8080/"
        },
        "id": "lqmfd17YDU-5",
        "outputId": "1211d667-83f8-46d8-e441-a2c30d5cc965"
      },
      "execution_count": null,
      "outputs": [
        {
          "output_type": "stream",
          "name": "stdout",
          "text": [
            "5\n",
            "2\n",
            "4\n",
            "4\n",
            "YES\n"
          ]
        }
      ]
    },
    {
      "cell_type": "markdown",
      "source": [
        "На шахматной доске стоят белый слон, чёрная пешка и чёрная ладья.\n",
        "Определить находится ли слон под боем, и, если есть угроза, от кого именно. Учесть\n",
        "вариант защиты, когда ладья не может бить через пешку. На вход подаются шесть целых\n",
        "чисел: координаты слона, координаты пешки и координаты ладьи. Горизонтальная и\n",
        "вертикальные позиции фигур задаются целыми числами от 1 до 8. Вывести координаты\n",
        "фигуры, которая угрожает слону. Если слону угрожают обе фигуры, то координаты\n",
        "выводятся в порядке их ввода. Координаты фигуры, которая угрожает слону выводить в\n",
        "виде: [координата по горизонтали][пробел][координата по вертикали]. Если никто не\n",
        "угрожает слону, то вывести сообщение \"нет угроз\". Условимся, что белые фигуры\n",
        "изначально расположены в верхней части доски, а чёрные — в нижней (т.е. пешка ходит\n",
        "снизу вверх). Нумерация по столбцам от 1 до 8 слева направо, по строкам — от 1 до 8\n",
        "снизу вверх."
      ],
      "metadata": {
        "id": "-ZK8R2arxwDr"
      }
    },
    {
      "cell_type": "code",
      "source": [
        "x1 = int(input())\n",
        "y1 = int(input())\n",
        "x2 = int(input())\n",
        "y2 = int(input())\n",
        "ax = int(input())\n",
        "ay = int(input())\n",
        "if(ax <= max(x1, x2) and ax >= min(x1, x2)) and (ay <= max(y1, y2) and ay >= min(y1, y2)):\n",
        "  print(\"YES\")\n",
        "else:\n",
        "  print(\"NO\")"
      ],
      "metadata": {
        "colab": {
          "base_uri": "https://localhost:8080/"
        },
        "id": "vLHL91NsxwVV",
        "outputId": "33a5d77c-492e-42db-f64d-d43314410649"
      },
      "execution_count": 2,
      "outputs": [
        {
          "output_type": "stream",
          "name": "stdout",
          "text": [
            "4\n",
            "3\n",
            "3\n",
            "2\n",
            "6\n",
            "7\n",
            "NO\n"
          ]
        }
      ]
    },
    {
      "cell_type": "markdown",
      "source": [
        "Можно ли на прямоугольном участке застройки размером a и b метров\n",
        "разместить два дома с размерами p на q и r на s метров? Дома можно располагать только\n",
        "параллельно сторонам участка.\n",
        "Формат входных данных: вводятся шесть целых чисел: a, b, p, q, r и s соответственно.\n",
        "Размеры задаются целыми числами в диапазоне от 1 до 100.\n",
        "Пример: 1 2 3 3 2 1\n",
        "Формат выходных данных: [можно/нельзя разместить]: 0 — нельзя, 1 — можно.\n"
      ],
      "metadata": {
        "id": "sc7qxuhLxwqJ"
      }
    },
    {
      "cell_type": "code",
      "source": [
        "a = int(input())\n",
        "b = int(input())\n",
        "p = int(input())\n",
        "q = int(input())\n",
        "r = int(input())\n",
        "s = int(input())\n",
        "if(q + s <= b and max(p, r) <= a) or (p + r <= a and max(q, s) <= b):\n",
        "  print(\"1\")\n",
        "else:\n",
        "  print(\"0\")"
      ],
      "metadata": {
        "colab": {
          "base_uri": "https://localhost:8080/"
        },
        "id": "9myqVhmDxw3o",
        "outputId": "ef2c1435-ebc5-4cd3-c08c-2b39fcdd9c53"
      },
      "execution_count": 5,
      "outputs": [
        {
          "output_type": "stream",
          "name": "stdout",
          "text": [
            "1\n",
            "2\n",
            "3\n",
            "3\n",
            "2\n",
            "1\n",
            "0\n"
          ]
        }
      ]
    },
    {
      "cell_type": "markdown",
      "source": [
        "Дано целое число n. Выведите следующее за ним чётное число. При решении\n",
        "этой задачи нельзя использовать условную инструкцию и циклы."
      ],
      "metadata": {
        "id": "Jh44968ryBpk"
      }
    },
    {
      "cell_type": "code",
      "source": [
        "print(((int(input())//2)+1)*2)"
      ],
      "metadata": {
        "colab": {
          "base_uri": "https://localhost:8080/"
        },
        "id": "EcdYycHRyH53",
        "outputId": "8832b954-3516-4037-e5a2-7b44449153c3"
      },
      "execution_count": 4,
      "outputs": [
        {
          "output_type": "stream",
          "name": "stdout",
          "text": [
            "6\n",
            "8\n"
          ]
        }
      ]
    }
  ]
}