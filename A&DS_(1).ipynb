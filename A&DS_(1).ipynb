{
  "cells": [
    {
      "cell_type": "markdown",
      "metadata": {
        "id": "view-in-github",
        "colab_type": "text"
      },
      "source": [
        "<a href=\"https://colab.research.google.com/github/MeikoFudo/MeikoFudo/blob/main/A%26DS_(1).ipynb\" target=\"_parent\"><img src=\"https://colab.research.google.com/assets/colab-badge.svg\" alt=\"Open In Colab\"/></a>"
      ]
    },
    {
      "cell_type": "markdown",
      "metadata": {
        "id": "Uz7IB2NNnUXP"
      },
      "source": [
        "Когда часовая и минутная стрелки часов накладываются друг на друга?\n"
      ]
    },
    {
      "cell_type": "code",
      "execution_count": null,
      "metadata": {
        "colab": {
          "base_uri": "https://localhost:8080/"
        },
        "id": "j7DydTzynem0",
        "outputId": "d29866af-9fbf-463a-a2a0-d5b03b5bf2f9"
      },
      "outputs": [
        {
          "name": "stdout",
          "output_type": "stream",
          "text": [
            "4\n",
            "56\n",
            "31\n"
          ]
        }
      ],
      "source": [
        "\"\"\"Решение задачи можно переформулировать следующим образом: сколько должно пройти полных \n",
        "минут, чтобы часовая и минутная стрелки совпали. \"\"\"\n",
        "\n",
        "hour = int(input())\n",
        "minute = int(input())\n",
        "print((60 * hour - 11 * minute) % 720 // 11)"
      ]
    },
    {
      "cell_type": "markdown",
      "metadata": {
        "id": "pNeVzCqRoTxS"
      },
      "source": [
        "Шестизначное число считать счастливым, если первая его цифра совпадает с\n",
        "четвертой, вторая с пятой и третья с шестой, например 369369. Определить, является ли\n",
        "введённое число счастливым. Лидирующие нули допустимы (т.е. шестизначным считается\n",
        "любое число от 0 до первого семизначного числа).\n"
      ]
    },
    {
      "cell_type": "code",
      "execution_count": null,
      "metadata": {
        "colab": {
          "base_uri": "https://localhost:8080/"
        },
        "id": "AC3vwSqAoUIe",
        "outputId": "1c5abc16-fa38-4047-9c4f-091ce9615ddb"
      },
      "outputs": [
        {
          "name": "stdout",
          "output_type": "stream",
          "text": [
            "369369\n",
            "YES\n"
          ]
        }
      ],
      "source": [
        "number = int(input())\n",
        "x1 = number // 100000\n",
        "x2 = (number // 10000)%10\n",
        "x3 = (number // 1000)%10\n",
        "x4 = (number // 100)%10\n",
        "x5 = (number // 10)%10\n",
        "x6= number % 10\n",
        "if x1 == x4 and x2 == x5 and x3 == x6:\n",
        "  print(\"YES\")\n",
        "else:\n",
        "  print(\"NO\")"
      ]
    },
    {
      "cell_type": "markdown",
      "metadata": {
        "id": "Yj3NjfwYodw6"
      },
      "source": [
        "Определить, бьёт ли ладья, стоящая на клетке с указанными координатами\n",
        "(номер строки и номер столбца), фигуру, стоящую на другой указанной клетке. Входные\n",
        "данные: четыре числа — координаты ладьи (два числа) и координаты другой фигуры (два\n",
        "числа). Координаты — целые числа в интервале от 1 до 8. Выходные данные: вывести\n",
        "слово ДА, если ладья сможет побить фигуру за 1 ход и НЕТ в противном случае."
      ]
    },
    {
      "cell_type": "code",
      "execution_count": null,
      "metadata": {
        "colab": {
          "base_uri": "https://localhost:8080/"
        },
        "id": "7wOt5ouBoggB",
        "outputId": "cfd86893-098e-4a0e-d651-6edd97301b94"
      },
      "outputs": [
        {
          "name": "stdout",
          "output_type": "stream",
          "text": [
            "4\n",
            "3\n",
            "3\n",
            "4\n",
            "NO\n"
          ]
        }
      ],
      "source": [
        "x1 = int(input())\n",
        "y1 = int(input())\n",
        "x2 = int(input())\n",
        "y2 = int(input())\n",
        "if (x1 == x2 or y1 == y2):\n",
        "  print(\"YES\")\n",
        "else:\n",
        "  print(\"NO\")"
      ]
    },
    {
      "cell_type": "markdown",
      "metadata": {
        "id": "rKlQR63Vog7K"
      },
      "source": [
        "Определить, бьёт ли слон, стоящий на клетке с указанными координатами\n",
        "(номер строки и номер столбца), фигуру, стоящую на другой указанной клетке. Входные\n",
        "данные: четыре числа — координаты слона (два числа) и координаты другой фигуры (два\n",
        "числа). Координаты — целые числа в интервале от 1 до 8. Выходные данные: вывести\n",
        "слово ДА, если слон сможет побить фигуру за 1 ход и НЕТ в противном случае."
      ]
    },
    {
      "cell_type": "code",
      "execution_count": null,
      "metadata": {
        "colab": {
          "base_uri": "https://localhost:8080/"
        },
        "id": "3Sn3ZVrroj9k",
        "outputId": "c95d9c2e-cd3a-4d0e-c844-1d262ea69e49"
      },
      "outputs": [
        {
          "name": "stdout",
          "output_type": "stream",
          "text": [
            "5\n",
            "4\n",
            "3\n",
            "5\n",
            "NO\n"
          ]
        }
      ],
      "source": [
        "x1 = int(input())\n",
        "y1 = int(input())\n",
        "x2 = int(input())\n",
        "y2 = int(input())\n",
        "if (abs(x1 - x2) == abs(y1 -y2)):\n",
        "  print(\"YES\")\n",
        "else:\n",
        "  print(\"NO\")"
      ]
    },
    {
      "cell_type": "markdown",
      "metadata": {
        "id": "V0ULOOPuokR9"
      },
      "source": [
        "Определить, бьёт ли ферзь, стоящий на клетке с указанными координатами\n",
        "(номер строки и номер столбца), фигуру, стоящую на другой указанной клетке. Входные\n",
        "данные: четыре числа — координаты ферзя (два числа) и координаты другой фигуры (два\n",
        "числа). Координаты — целые числа в интервале от 1 до 8. Выходные данные: вывести\n",
        "слово ДА, если слон сможет побить фигуру за 1 ход и НЕТ в противном случае."
      ]
    },
    {
      "cell_type": "code",
      "execution_count": null,
      "metadata": {
        "colab": {
          "base_uri": "https://localhost:8080/"
        },
        "id": "orf8JLuJo_m3",
        "outputId": "1ebc0a53-c7ea-4899-84ea-6bd8b4a1fb7a"
      },
      "outputs": [
        {
          "name": "stdout",
          "output_type": "stream",
          "text": [
            "1\n",
            "1\n",
            "8\n",
            "1\n",
            "YES\n"
          ]
        }
      ],
      "source": [
        "x1 = int(input())\n",
        "y1 = int(input())\n",
        "x2 = int(input())\n",
        "y2 = int(input())\n",
        "if (x1 == x2) or (y1 == y2):\n",
        "  print(\"YES\")\n",
        "elif (abs(x1 - x2) == abs(y1 -y2)):\n",
        "  print(\"YES\")\n",
        "else:\n",
        "  print(\"NO\")"
      ]
    },
    {
      "cell_type": "markdown",
      "metadata": {
        "id": "uPTRntgTpCdV"
      },
      "source": [
        "Определить, бьёт ли король, стоящий на клетке с указанными координатами\n",
        "(номер строки и номер столбца), фигуру, стоящую на другой указанной клетке. Входные\n",
        "данные: четыре числа — координаты короля (два числа) и координаты другой фигуры (два\n",
        "числа). Координаты — целые числа в интервале от 1 до 8. Выходные данные: вывести\n",
        "слово ДА, если слон сможет побить фигуру за 1 ход и НЕТ в противном случае."
      ]
    },
    {
      "cell_type": "code",
      "execution_count": null,
      "metadata": {
        "colab": {
          "base_uri": "https://localhost:8080/"
        },
        "id": "-EPSppMspETc",
        "outputId": "5dda0bb1-43ca-4275-885e-b1a8446dba10"
      },
      "outputs": [
        {
          "name": "stdout",
          "output_type": "stream",
          "text": [
            "4\n",
            "5\n",
            "3\n",
            "3\n",
            "NO\n"
          ]
        }
      ],
      "source": [
        "x1 = int(input())\n",
        "y1 = int(input())\n",
        "x2 = int(input())\n",
        "y2 = int(input())\n",
        "if (abs(x1 - x2) <= 1 and abs(y1 - y2) <= 1):\n",
        "  print(\"YES\")\n",
        "else:\n",
        "  print(\"NO\")"
      ]
    },
    {
      "cell_type": "markdown",
      "metadata": {
        "id": "R9w5bLQDDTyt"
      },
      "source": [
        "Определить, бьёт ли конь, стоящий на клетке с указанными координатами\n",
        "(номер строки и номер столбца), фигуру, стоящую на другой указанной клетке. Входные\n",
        "данные: четыре числа — координаты коня (два числа) и координаты другой фигуры (два\n",
        "числа). Координаты — целые числа в интервале от 1 до 8. Выходные данные: вывести\n",
        "слово ДА, если слон сможет побить фигуру за 1 ход и НЕТ в противном случае."
      ]
    },
    {
      "cell_type": "code",
      "execution_count": null,
      "metadata": {
        "colab": {
          "base_uri": "https://localhost:8080/"
        },
        "id": "lqmfd17YDU-5",
        "outputId": "1211d667-83f8-46d8-e441-a2c30d5cc965"
      },
      "outputs": [
        {
          "name": "stdout",
          "output_type": "stream",
          "text": [
            "5\n",
            "2\n",
            "4\n",
            "4\n",
            "YES\n"
          ]
        }
      ],
      "source": [
        "x1 = int(input())\n",
        "y1 = int(input())\n",
        "x2 = int(input())\n",
        "y2 = int(input())\n",
        "if ((abs(x1 - x2) == 1 and abs(y1 - y2) == 2) or (abs(x1 - x2) == 2 and abs(y1 - y2) == 1)):\n",
        "  print(\"YES\")\n",
        "else:\n",
        "  print(\"NO\")"
      ]
    },
    {
      "cell_type": "markdown",
      "metadata": {
        "id": "kLM_lgC194Rt"
      },
      "source": [
        "Для заданного натурального числа n вычислить сумму всех его правильных\n",
        "делителей. Правильный делитель натурального числа n — это делитель, который строго\n",
        "меньше самого числа n."
      ]
    },
    {
      "cell_type": "code",
      "execution_count": null,
      "metadata": {
        "colab": {
          "base_uri": "https://localhost:8080/"
        },
        "id": "X-9Hclfu90xd",
        "outputId": "a544dc7d-2946-4353-b5c6-27645fd6693d"
      },
      "outputs": [
        {
          "name": "stdout",
          "output_type": "stream",
          "text": [
            "15\n",
            "9\n"
          ]
        }
      ],
      "source": [
        "number = int(input())\n",
        "masDel = []\n",
        "for i in range(1, number):\n",
        "  if number%i==0:\n",
        "    masDel.append(i)\n",
        "print(sum(masDel))"
      ]
    },
    {
      "cell_type": "markdown",
      "metadata": {
        "id": "x46xsHve_yaZ"
      },
      "source": [
        "Для заданного натурального числа n проверить, является ли оно простым\n",
        "числом."
      ]
    },
    {
      "cell_type": "code",
      "execution_count": null,
      "metadata": {
        "colab": {
          "base_uri": "https://localhost:8080/"
        },
        "id": "WCZ0VMi3_208",
        "outputId": "191ffa9c-654b-4f29-93ac-d6627d6791e7"
      },
      "outputs": [
        {
          "name": "stdout",
          "output_type": "stream",
          "text": [
            "7\n",
            "Является простым числом.\n"
          ]
        }
      ],
      "source": [
        "#Проверим простоту числа решетом Эратосфена\n",
        "number = int(input())\n",
        "\n",
        "if number > 1:\n",
        "\n",
        "  masPrime = []\n",
        "  sieve = set(range(2, number+1))\n",
        "\n",
        "  while sieve:\n",
        "    prime = min(sieve)\n",
        "    masPrime.append(prime)\n",
        "    sieve -= set(range(prime, number+1, prime))\n",
        "\n",
        "  flag = True\n",
        "\n",
        "  for i in range(len(masPrime)-1):\n",
        "    if number%masPrime[i]==0:\n",
        "        flag = False\n",
        "        break\n",
        "\n",
        "  if flag:\n",
        "    print(\"Является простым числом.\") \n",
        "  else:\n",
        "    print(\"Не является простым числом.\")\n",
        "\n",
        "else:\n",
        "  print(\"Не является натуральным простым числом\")"
      ]
    },
    {
      "cell_type": "markdown",
      "metadata": {
        "id": "McvJzpfFzrSL"
      },
      "source": [
        "Нахождение НОД(Алгоритм Евклида)"
      ]
    },
    {
      "cell_type": "code",
      "execution_count": null,
      "metadata": {
        "colab": {
          "base_uri": "https://localhost:8080/"
        },
        "id": "2VFw15dtzWwe",
        "outputId": "ed9b8573-bdcf-4c37-fbe5-d424a9e31c8d"
      },
      "outputs": [
        {
          "name": "stdout",
          "output_type": "stream",
          "text": [
            "678\n",
            "890\n",
            "Число  2  является НОДом\n"
          ]
        }
      ],
      "source": [
        "a = int(input())\n",
        "b = int(input())\n",
        "if a > b:\n",
        "  t = a\n",
        "  a = b\n",
        "  b = t\n",
        "while b%a!=0:\n",
        "  t = a\n",
        "  a = b%a\n",
        "  b = t\n",
        "print(\"Число \",a,\" является НОДом\")"
      ]
    },
    {
      "cell_type": "markdown",
      "metadata": {
        "id": "Y4NDqUnTyQwS"
      },
      "source": [
        "Согласно основной теореме арифметики каждое натуральное число n > 1\n",
        "представляется в виде n = p1p2p3...pk, где p1,...,pk — простые числа, причём такое\n",
        "представление единственно с точностью до порядка следования сомножителей. Для\n",
        "заданного натурального числа n найти его разложение на простые множители."
      ]
    },
    {
      "cell_type": "code",
      "execution_count": 37,
      "metadata": {
        "colab": {
          "base_uri": "https://localhost:8080/"
        },
        "id": "or-kgVBvFFEF",
        "outputId": "3f3f5068-55e0-417c-8338-3f67a13abda5"
      },
      "outputs": [
        {
          "output_type": "stream",
          "name": "stdout",
          "text": [
            "24\n",
            "2\n",
            "2\n",
            "2\n",
            "3.0\n"
          ]
        }
      ],
      "source": [
        "import math \n",
        "def IsPrime(number): \n",
        "    while number % 2 == 0: \n",
        "        print(2,) \n",
        "        number = number / 2 \n",
        " \n",
        "    for i in range(3, int(math.sqrt(number)) + 1, 2): \n",
        "        while number % i == 0: \n",
        "            print(i) \n",
        "            number = number / i \n",
        "    if number > 2: \n",
        "        print(number) \n",
        "number = int(input())\n",
        "IsPrime(number) "
      ]
    },
    {
      "cell_type": "markdown",
      "metadata": {
        "id": "CMfNI5oMyWka"
      },
      "source": [
        "Для целых чисел, принадлежащих заданному числовому отрезку [a, b], вывести\n",
        "те, которые представляют собой произведение трёх различных простых делителей,\n",
        "оканчивающихся на одну и ту же цифру."
      ]
    },
    {
      "cell_type": "code",
      "execution_count": 35,
      "metadata": {
        "id": "OgYvW-tWyXEd",
        "colab": {
          "base_uri": "https://localhost:8080/"
        },
        "outputId": "8682e4d5-e813-4271-bc88-eb379b732595"
      },
      "outputs": [
        {
          "output_type": "stream",
          "name": "stdout",
          "text": [
            "100\n",
            "9000\n",
            "897\n",
            "2967\n",
            "3657\n",
            "4403\n",
            "5593\n",
            "6837\n",
            "7973\n"
          ]
        }
      ],
      "source": [
        "a = int(input())\n",
        "b = int(input())\n",
        "\n",
        "def IsPrime(t):\n",
        "    d = 2\n",
        "    while d <= int(t**0.5):\n",
        "        if t % i == 0:\n",
        "            return False\n",
        "        d += 1\n",
        "    return True\n",
        "for i in range(a , b+1):\n",
        "    masDel = []\n",
        "    d = 2\n",
        "    while d <= int(i** 0.5):\n",
        "        if i % d == 0 and IsPrime(d):\n",
        "            masDel.append(d)\n",
        "        d += 1\n",
        "    if len(masDel)==3 and masDel[0]%10==masDel[1]%10==masDel[2]%10 and i == masDel[0]*masDel[1]*masDel[2]:\n",
        "            print(i)"
      ]
    },
    {
      "cell_type": "markdown",
      "metadata": {
        "id": "tyYAyLDZyXU9"
      },
      "source": []
    }
  ],
  "metadata": {
    "colab": {
      "provenance": [],
      "include_colab_link": true
    },
    "kernelspec": {
      "display_name": "Python 3",
      "name": "python3"
    },
    "language_info": {
      "name": "python"
    }
  },
  "nbformat": 4,
  "nbformat_minor": 0
}