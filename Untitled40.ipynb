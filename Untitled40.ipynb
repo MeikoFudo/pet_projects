{
  "nbformat": 4,
  "nbformat_minor": 0,
  "metadata": {
    "colab": {
      "provenance": [],
      "authorship_tag": "ABX9TyMVAcpOX1HQSO/6kUZXVaLj",
      "include_colab_link": true
    },
    "kernelspec": {
      "name": "python3",
      "display_name": "Python 3"
    },
    "language_info": {
      "name": "python"
    }
  },
  "cells": [
    {
      "cell_type": "markdown",
      "metadata": {
        "id": "view-in-github",
        "colab_type": "text"
      },
      "source": [
        "<a href=\"https://colab.research.google.com/github/MeikoFudo/MeikoFudo/blob/main/Untitled40.ipynb\" target=\"_parent\"><img src=\"https://colab.research.google.com/assets/colab-badge.svg\" alt=\"Open In Colab\"/></a>"
      ]
    },
    {
      "cell_type": "code",
      "execution_count": null,
      "metadata": {
        "id": "i_cbfmxJzstb",
        "colab": {
          "base_uri": "https://localhost:8080/"
        },
        "outputId": "215bef22-fc26-4390-e47f-f13619d5f479"
      },
      "outputs": [
        {
          "output_type": "stream",
          "name": "stdout",
          "text": [
            "Looking in indexes: https://pypi.org/simple, https://us-python.pkg.dev/colab-wheels/public/simple/\n",
            "Collecting pennylane\n",
            "  Downloading PennyLane-0.25.1-py3-none-any.whl (1.0 MB)\n",
            "\u001b[K     |████████████████████████████████| 1.0 MB 7.1 MB/s \n",
            "\u001b[?25hRequirement already satisfied: toml in /usr/local/lib/python3.7/dist-packages (from pennylane) (0.10.2)\n",
            "Requirement already satisfied: networkx in /usr/local/lib/python3.7/dist-packages (from pennylane) (2.6.3)\n",
            "Collecting pennylane-lightning>=0.25\n",
            "  Downloading PennyLane_Lightning-0.25.0-cp37-cp37m-manylinux_2_17_x86_64.manylinux2014_x86_64.whl (13.6 MB)\n",
            "\u001b[K     |████████████████████████████████| 13.6 MB 31.6 MB/s \n",
            "\u001b[?25hRequirement already satisfied: scipy in /usr/local/lib/python3.7/dist-packages (from pennylane) (1.7.3)\n",
            "Collecting semantic-version>=2.7\n",
            "  Downloading semantic_version-2.10.0-py2.py3-none-any.whl (15 kB)\n",
            "Requirement already satisfied: autograd in /usr/local/lib/python3.7/dist-packages (from pennylane) (1.4)\n",
            "Requirement already satisfied: cachetools in /usr/local/lib/python3.7/dist-packages (from pennylane) (4.2.4)\n",
            "Collecting autoray>=0.3.1\n",
            "  Downloading autoray-0.3.2-py3-none-any.whl (36 kB)\n",
            "Collecting retworkx\n",
            "  Downloading retworkx-0.11.0-cp37-cp37m-manylinux_2_5_x86_64.manylinux1_x86_64.manylinux_2_12_x86_64.manylinux2010_x86_64.whl (1.6 MB)\n",
            "\u001b[K     |████████████████████████████████| 1.6 MB 63.5 MB/s \n",
            "\u001b[?25hRequirement already satisfied: appdirs in /usr/local/lib/python3.7/dist-packages (from pennylane) (1.4.4)\n",
            "Requirement already satisfied: numpy in /usr/local/lib/python3.7/dist-packages (from pennylane) (1.21.6)\n",
            "Collecting ninja\n",
            "  Downloading ninja-1.10.2.3-py2.py3-none-manylinux_2_5_x86_64.manylinux1_x86_64.whl (108 kB)\n",
            "\u001b[K     |████████████████████████████████| 108 kB 82.5 MB/s \n",
            "\u001b[?25hRequirement already satisfied: future>=0.15.2 in /usr/local/lib/python3.7/dist-packages (from autograd->pennylane) (0.16.0)\n",
            "Installing collected packages: ninja, semantic-version, retworkx, pennylane-lightning, autoray, pennylane\n",
            "Successfully installed autoray-0.3.2 ninja-1.10.2.3 pennylane-0.25.1 pennylane-lightning-0.25.0 retworkx-0.11.0 semantic-version-2.10.0\n"
          ]
        }
      ],
      "source": [
        "import numpy as np\n",
        "import math\n",
        "!pip install pennylane\n",
        "import pennylane as qml"
      ]
    },
    {
      "cell_type": "code",
      "source": [
        "qubit =  np.array([1/np.sqrt(2)+0j, 1/np.sqrt(2)+0j]).reshape((2, 1))"
      ],
      "metadata": {
        "id": "x-4tSx7Izzw0"
      },
      "execution_count": null,
      "outputs": []
    },
    {
      "cell_type": "code",
      "source": [
        "#Z базис\n",
        "basis_0 = np.array([1+0j, 0+0j]).reshape((2, 1))\n",
        "basis_1 = np.array([0+0j, 1+0j]).reshape((2, 1))\n",
        "c0=c1=1/np.sqrt(2)\n",
        "print(basis_0*c0+basis_1*c0, '', np.allclose(qubit, basis_0*c0+basis_1*c0))"
      ],
      "metadata": {
        "colab": {
          "base_uri": "https://localhost:8080/"
        },
        "id": "nJDk3d1y14C0",
        "outputId": "7b6464ed-5e29-4cc9-f15e-5eff78739ed1"
      },
      "execution_count": null,
      "outputs": [
        {
          "output_type": "stream",
          "name": "stdout",
          "text": [
            "[[0.70710678+0.j]\n",
            " [0.70710678+0.j]]  True\n"
          ]
        }
      ]
    },
    {
      "cell_type": "code",
      "source": [
        "#X базис\n",
        "plus = np.array((basis_0+basis_1)/np.sqrt(2))\n",
        "minus = np.array((basis_0-basis_1)/np.sqrt(2))"
      ],
      "metadata": {
        "id": "UrdYHHkiqOps"
      },
      "execution_count": null,
      "outputs": []
    },
    {
      "cell_type": "code",
      "source": [
        "#Y базис\n",
        "R = np.array((basis_0+1j*basis_1)/np.sqrt(2))\n",
        "L = np.array((basis_0-1j*basis_1)/np.sqrt(2))"
      ],
      "metadata": {
        "id": "Tl1bt3AuqTA6"
      },
      "execution_count": null,
      "outputs": []
    },
    {
      "cell_type": "code",
      "source": [
        "#Если мы будем измерять значение кубита, то вероятность каждого из вариантов будет пропорциональна соответствующему коэффициенту в разложении состояния.\n",
        "p0 = np.conj(c0)*c0\n",
        "p1 = np.conj(c1)*c1\n",
        "print(np.allclose(p0, p1))\n",
        "print(np.allclose(p0+p1, 1.0))"
      ],
      "metadata": {
        "colab": {
          "base_uri": "https://localhost:8080/"
        },
        "id": "CnoGqjRB6oqV",
        "outputId": "45e89388-6a52-41ee-b2e2-a2a5f554501a"
      },
      "execution_count": null,
      "outputs": [
        {
          "output_type": "stream",
          "name": "stdout",
          "text": [
            "True\n",
            "True\n"
          ]
        }
      ]
    },
    {
      "cell_type": "code",
      "source": [
        "print(np.allclose(np.conj(basis_0).T @ basis_1, 0)) #Унитарность базисов"
      ],
      "metadata": {
        "id": "WMtG8NMo_zRx",
        "outputId": "d3ab0972-595c-49c2-fb54-6683bc2937a5",
        "colab": {
          "base_uri": "https://localhost:8080/"
        }
      },
      "execution_count": null,
      "outputs": [
        {
          "output_type": "stream",
          "name": "stdout",
          "text": [
            "True\n"
          ]
        }
      ]
    },
    {
      "cell_type": "code",
      "source": [
        "# Гейт Адамара -  с его помощью можно создать суперпозицию состояний |0〉 и |1〉.\n",
        "H = 1/np.sqrt(2)*np.array([\n",
        "    [1+0j, 1+0j],\n",
        "    [1+0j,0j-1]\n",
        "])\n",
        "#Унитарность \n",
        "print(np.allclose(np.conj(H).T @ H, np.eye(2)))"
      ],
      "metadata": {
        "colab": {
          "base_uri": "https://localhost:8080/"
        },
        "id": "l3FYOmCVodi7",
        "outputId": "caedfb47-e787-4b7e-e80c-01559b5c474e"
      },
      "execution_count": null,
      "outputs": [
        {
          "output_type": "stream",
          "name": "stdout",
          "text": [
            "True\n"
          ]
        }
      ]
    },
    {
      "cell_type": "code",
      "source": [
        "#Реализация операторов Паули\n",
        "\"\"\"Вентиль X/ Эта операция эквивалентна повороту вектора на сфере Блоха вокруг оси x на π радиан (или 180°).\n",
        "Вентиль Y соответствует повороту вектора вокруг оси y на π радиан. В результате такой операции вектор |0〉 превращается в i|1〉, а |1〉 — в -i|0〉.\n",
        "Вентиль Z представляет собой особый случай вентиля фазового сдвига  (см. ниже) при фи = π = 180°. \n",
        "Он соответствует повороту вектора вокруг оси z на π радиан. Вектор |0〉 он оставляет без изменений, а |1〉 преобразует в -|1〉.\"\"\"\n",
        "Pauli_x = np.array([\n",
        "    [0+0j, 1+0j], \n",
        "    [1+0j, 0+0j]\n",
        "])\n",
        "Pauli_y = np.array([\n",
        "    [0+0j, 0-1j],\n",
        "    [0+1j, 0+0j]\n",
        "])\n",
        "Pauli_z = np.array([\n",
        "    [1+0j, 0+0j],\n",
        "    [0+0j, 0-1j]\n",
        "])"
      ],
      "metadata": {
        "id": "yu41pxaFrU2R"
      },
      "execution_count": null,
      "outputs": []
    },
    {
      "cell_type": "code",
      "source": [
        "#Собственные векторы\n",
        "print(np.linalg.eig(Pauli_z))"
      ],
      "metadata": {
        "colab": {
          "base_uri": "https://localhost:8080/"
        },
        "id": "UQS8S-jsv8sy",
        "outputId": "922e256c-24ae-411b-eaef-0f20d144fa9f"
      },
      "execution_count": null,
      "outputs": [
        {
          "output_type": "stream",
          "name": "stdout",
          "text": [
            "(array([1.+0.j, 0.-1.j]), array([[1.+0.j, 0.+0.j],\n",
            "       [0.+0.j, 1.+0.j]]))\n"
          ]
        }
      ]
    },
    {
      "cell_type": "code",
      "source": [
        "#Измерение как проекция на пространство собственных векторов\n",
        "super_position = H @ basis_0\n",
        "eigenvectors = np.linalg.eig(Pauli_z)[1]\n",
        "\n",
        "proj_0 = eigenvectors[0].reshape((-1, 1)) @ eigenvectors[0].reshape((1, -1))\n",
        "proj_1 = eigenvectors[1].reshape((-1, 1)) @ eigenvectors[1].reshape((1, -1))"
      ],
      "metadata": {
        "id": "TmD_e9Iyzueg"
      },
      "execution_count": null,
      "outputs": []
    },
    {
      "cell_type": "code",
      "source": [
        "#Чтобы получить вероятность измерения значения лямбда эрмитова оператора А (которое соответствует собственному вектору Фi этого оператора) в состоянии кет , мы должны измерить величину \n",
        "#Правило Борна.\n",
        "p_0 = super_position.conj().T @ proj_0 @ super_position\n",
        "print(np.allclose(p0, 0.5))\n",
        "p_0 = super_position.conj().T @ proj_1 @ super_position\n",
        "print(np.allclose(p1, 0.5))"
      ],
      "metadata": {
        "colab": {
          "base_uri": "https://localhost:8080/"
        },
        "id": "8knfC0yGtEXL",
        "outputId": "736bdbc9-8195-46c1-bf57-d45ab82ab813"
      },
      "execution_count": null,
      "outputs": [
        {
          "output_type": "stream",
          "name": "stdout",
          "text": [
            "True\n",
            "True\n"
          ]
        }
      ]
    },
    {
      "cell_type": "code",
      "source": [
        "def Rx (state, phi):\n",
        "  return np.array([\n",
        "      [np.cos(phi/2), -np.sin(phi/2)],\n",
        "      [-np.sin(phi/2), np.cos(phi/2)]\n",
        "  ]) @ state\n",
        "\n",
        "def Ry (state, phi):\n",
        "  return np.array([\n",
        "      [np.cos(phi/2), -np.sin(phi/2)],\n",
        "      [np.sin(phi/2), np.cos(phi/2)]\n",
        "  ]) @ state\n",
        "def Rz (state, phi):\n",
        "  return np.array([\n",
        "      [math.exp**(-1j*phi/2), 0],\n",
        "      [0, math.exp**(1j*phi/2)]\n",
        "  ]) @ state"
      ],
      "metadata": {
        "id": "GWwQGbN8YxXh"
      },
      "execution_count": null,
      "outputs": []
    },
    {
      "cell_type": "code",
      "source": [
        "#Можно заметить, что если повернуть состояние из |0〉 на pi/2 на сфере Блоха и измерить значение, то получится 1. А если повернуть на pi/2, то получится -1:\n",
        "def expval (state, op):\n",
        "  return state.conj().T @ op @ state\n",
        "print(np.allclose(expval(Ry(basis_0, np.pi/2), Pauli_x), 1.0))\n",
        "print(expval(Ry(basis_0, np.pi/2), Pauli_x))\n",
        "print(np.allclose(expval(Ry(basis_0, -np.pi/2), Pauli_x), -1.0))\n",
        "print(expval(Ry(basis_0, -np.pi/2), Pauli_x))"
      ],
      "metadata": {
        "colab": {
          "base_uri": "https://localhost:8080/"
        },
        "id": "zB0X5rd1oUIq",
        "outputId": "25440208-d6fe-4d91-aba0-899a523a2a44"
      },
      "execution_count": null,
      "outputs": [
        {
          "output_type": "stream",
          "name": "stdout",
          "text": [
            "True\n",
            "[[1.+0.j]]\n",
            "True\n",
            "[[-1.+0.j]]\n"
          ]
        }
      ]
    },
    {
      "cell_type": "code",
      "source": [
        "#Можно заметить, что если повернуть состояние из |0〉 на 2pi на сфере Блоха и измерить значение, то по значение не изменится\n",
        "random_state = np.array([0.42 + 0j, np.sqrt(1 - 0.42**2) + 0j]).reshape((2, 1))\n",
        "\n",
        "print(\"Z:\\n\\t\" + str(expval(random_state, Pauli_z)) + \"\\n\")\n",
        "print(\"X:\\n\\t\" + str(expval(random_state, Pauli_x)) + \"\\n\")\n",
        "\n",
        "print(\"Z after RY:\\n\\t\" + str(expval(Ry(random_state, 2 * np.pi), Pauli_z)) + \"\\n\")\n",
        "print(\"X after RY:\\n\\t\" + str(expval(Ry(random_state, 2 * np.pi), Pauli_x)) + \"\\n\")"
      ],
      "metadata": {
        "colab": {
          "base_uri": "https://localhost:8080/"
        },
        "id": "57mrdg5ayohk",
        "outputId": "6afa8411-7a64-4cdf-ab5c-18d1bae9dd37"
      },
      "execution_count": null,
      "outputs": [
        {
          "output_type": "stream",
          "name": "stdout",
          "text": [
            "Z:\n",
            "\t[[0.1764-0.8236j]]\n",
            "\n",
            "X:\n",
            "\t[[0.76232025+0.j]]\n",
            "\n",
            "Z after RY:\n",
            "\t[[0.1764-0.8236j]]\n",
            "\n",
            "X after RY:\n",
            "\t[[0.76232025+0.j]]\n",
            "\n"
          ]
        }
      ]
    },
    {
      "cell_type": "code",
      "source": [
        "#Phase-shift гейт\n",
        "def U1(state, phi):\n",
        "  return np.array([1+0j, 0+0j],\n",
        "                  [0, np.exp**(1j*phi)])\n",
        "def U2(phi, Lambda):\n",
        "  return np.array(1/np.sqrt(2)*[1, -np.exp**(1j*Lambda)], \n",
        "                  [np.exp**(1j*phi), np.exp**(Lambda+phi)])\n",
        "def U3(phi, Lambda, thetta):\n",
        "  return np.array([np.cos(thetta/2), -np.exp**(1j*Lambda)*np.sin(thetta/2)],\n",
        "                  [np.exp**(1j*phi)*np.sin(thetta/2), np.exp**1j(phi+Lambda)*np.cos(thetta/2)])"
      ],
      "metadata": {
        "id": "ZOfRn4uG6pQP"
      },
      "execution_count": null,
      "outputs": []
    },
    {
      "cell_type": "code",
      "source": [
        "identity_gate = np.eye(2, dtype=np.complex128)\n",
        "print(identity_gate)"
      ],
      "metadata": {
        "colab": {
          "base_uri": "https://localhost:8080/"
        },
        "id": "dboIPiduMuh6",
        "outputId": "43ce9c22-3242-46ef-aa1d-9160bdd7d61f"
      },
      "execution_count": null,
      "outputs": [
        {
          "output_type": "stream",
          "name": "stdout",
          "text": [
            "[[1.+0.j 0.+0.j]\n",
            " [0.+0.j 1.+0.j]]\n"
          ]
        }
      ]
    },
    {
      "cell_type": "code",
      "source": [
        "print(np.allclose(np.kron(H @ basis_0, basis_0), np.kron(H, identity_gate) @ np.kron(basis_0, basis_0)))"
      ],
      "metadata": {
        "colab": {
          "base_uri": "https://localhost:8080/"
        },
        "id": "Fqr34QShMesO",
        "outputId": "284afda5-65c9-41fd-a505-a4889393cb58"
      },
      "execution_count": null,
      "outputs": [
        {
          "output_type": "stream",
          "name": "stdout",
          "text": [
            "True\n"
          ]
        }
      ]
    },
    {
      "cell_type": "code",
      "source": [
        "cnot = (1 + 0j) * np.array(\n",
        "    [\n",
        "        [1, 0, 0, 0],\n",
        "        [0, 1, 0, 0],\n",
        "        [0, 0, 0, 1],\n",
        "        [0, 0, 1, 0],\n",
        "    ]\n",
        ")"
      ],
      "metadata": {
        "id": "2ffrjRcVNnRj"
      },
      "execution_count": null,
      "outputs": []
    },
    {
      "cell_type": "code",
      "source": [
        "#Запутанное состояние c 2 кубитами\n",
        "dev = qml.device(\"default.qubit\", wires=2)\n",
        "#Далее применим к первому кубиту операцию поворота Rx, запутаем кубиты с помощью CNOT и далее оценим запутанность с помощью измерения оператора Паули sigma_z.\n",
        "@qml.qnode(dev)\n",
        "def circuit(param):\n",
        "    qml.RX(param, wires=0)\n",
        "    qml.CNOT(wires=[0, 1])\n",
        "    return qml.expval(qml.PauliZ(0)), qml.expval(qml.PauliZ(1))"
      ],
      "metadata": {
        "id": "HPN746PHUfpX"
      },
      "execution_count": null,
      "outputs": []
    },
    {
      "cell_type": "code",
      "source": [
        "#Разложение Шмидта\n",
        "\"тесно связано со спектром редуцированных матриц плотности состояния составной квантовой системы и благодаря которому легко увидеть, является ли состояние системы запутанным или нет\""
      ],
      "metadata": {
        "id": "gT_Vx8G-WX0R",
        "colab": {
          "base_uri": "https://localhost:8080/",
          "height": 52
        },
        "outputId": "21e55bc5-bcb7-45cf-c26c-256eb2c43130"
      },
      "execution_count": null,
      "outputs": [
        {
          "output_type": "execute_result",
          "data": {
            "text/plain": [
              "'тесно связано со спектром редуцированных матриц плотности состояния составной квантовой системы и благодаря которому легко увидеть, является ли состояние системы запутанным или нет'"
            ],
            "application/vnd.google.colaboratory.intrinsic+json": {
              "type": "string"
            }
          },
          "metadata": {},
          "execution_count": 21
        }
      ]
    },
    {
      "cell_type": "code",
      "source": [
        "!pip install pennylane\n",
        "import pennylane as qml"
      ],
      "metadata": {
        "colab": {
          "base_uri": "https://localhost:8080/"
        },
        "id": "sVSCfkIQdog0",
        "outputId": "31470ac6-5660-498d-8911-9532e9ca8401"
      },
      "execution_count": null,
      "outputs": [
        {
          "output_type": "stream",
          "name": "stdout",
          "text": [
            "Looking in indexes: https://pypi.org/simple, https://us-python.pkg.dev/colab-wheels/public/simple/\n",
            "Requirement already satisfied: pennylane in /usr/local/lib/python3.7/dist-packages (0.25.1)\n",
            "Requirement already satisfied: numpy in /usr/local/lib/python3.7/dist-packages (from pennylane) (1.21.6)\n",
            "Requirement already satisfied: cachetools in /usr/local/lib/python3.7/dist-packages (from pennylane) (4.2.4)\n",
            "Requirement already satisfied: autoray>=0.3.1 in /usr/local/lib/python3.7/dist-packages (from pennylane) (0.3.2)\n",
            "Requirement already satisfied: scipy in /usr/local/lib/python3.7/dist-packages (from pennylane) (1.7.3)\n",
            "Requirement already satisfied: retworkx in /usr/local/lib/python3.7/dist-packages (from pennylane) (0.11.0)\n",
            "Requirement already satisfied: autograd in /usr/local/lib/python3.7/dist-packages (from pennylane) (1.4)\n",
            "Requirement already satisfied: semantic-version>=2.7 in /usr/local/lib/python3.7/dist-packages (from pennylane) (2.10.0)\n",
            "Requirement already satisfied: pennylane-lightning>=0.25 in /usr/local/lib/python3.7/dist-packages (from pennylane) (0.25.0)\n",
            "Requirement already satisfied: networkx in /usr/local/lib/python3.7/dist-packages (from pennylane) (2.6.3)\n",
            "Requirement already satisfied: appdirs in /usr/local/lib/python3.7/dist-packages (from pennylane) (1.4.4)\n",
            "Requirement already satisfied: toml in /usr/local/lib/python3.7/dist-packages (from pennylane) (0.10.2)\n",
            "Requirement already satisfied: ninja in /usr/local/lib/python3.7/dist-packages (from pennylane-lightning>=0.25->pennylane) (1.10.2.3)\n",
            "Requirement already satisfied: future>=0.15.2 in /usr/local/lib/python3.7/dist-packages (from autograd->pennylane) (0.16.0)\n"
          ]
        }
      ]
    },
    {
      "cell_type": "code",
      "source": [
        "# с помощью метода probs вычислили вероятности получения состояний 00, 01, 10, 11\n",
        "device = qml.device('default.qubit', shots=1000, wires=2)\n",
        "def make_entanglement():\n",
        "  qml.Hadamard(wires=0)\n",
        "  qml.CNOT(wires=[0, 1])\n",
        "  return qml.probs(wires=[0, 1])\n",
        "circuit = qml.QNode(make_entanglement, dev)\n",
        "circuit()"
      ],
      "metadata": {
        "colab": {
          "base_uri": "https://localhost:8080/"
        },
        "id": "HiZGr1iXeTAF",
        "outputId": "d8fec647-09c7-405c-ffa8-35aaa21ea24b"
      },
      "execution_count": null,
      "outputs": [
        {
          "output_type": "execute_result",
          "data": {
            "text/plain": [
              "tensor([0.5, 0. , 0. , 0.5], requires_grad=True)"
            ]
          },
          "metadata": {},
          "execution_count": 23
        }
      ]
    },
    {
      "cell_type": "code",
      "source": [
        "fig, ax = qml.draw_mpl(circuit)()\n",
        "fig.show()"
      ],
      "metadata": {
        "colab": {
          "base_uri": "https://localhost:8080/",
          "height": 247
        },
        "id": "1HwE7deChYWQ",
        "outputId": "a52b0905-294e-4f6e-8b72-5952aa380448"
      },
      "execution_count": null,
      "outputs": [
        {
          "output_type": "display_data",
          "data": {
            "text/plain": [
              "<Figure size 360x216 with 1 Axes>"
            ],
            "image/png": "[encoded data removed]"
          },
          "metadata": {}
        }
      ]
    },
    {
      "cell_type": "code",
      "source": [
        "@qml.qnode(device)\n",
        "def circuit(x):\n",
        "    qml.RX(x, wires=0)\n",
        "    return qml.expval(qml.PauliZ(0))\n",
        "circuit(np.pi/2)"
      ],
      "metadata": {
        "colab": {
          "base_uri": "https://localhost:8080/"
        },
        "id": "DR9mihzAnsSf",
        "outputId": "7e6677ce-7430-4b10-ff8d-daf875c8b86d"
      },
      "execution_count": null,
      "outputs": [
        {
          "output_type": "execute_result",
          "data": {
            "text/plain": [
              "tensor(-0.034, requires_grad=True)"
            ]
          },
          "metadata": {},
          "execution_count": 25
        }
      ]
    },
    {
      "cell_type": "code",
      "source": [
        "U = np.array([[1, 0, 0, 0],\n",
        "              [0, 0, 1, 0],\n",
        "              [0, 1, 0, 0],\n",
        "              [0, 0, 0, 1]])"
      ],
      "metadata": {
        "id": "gSyiaEDzqapM"
      },
      "execution_count": null,
      "outputs": []
    },
    {
      "cell_type": "code",
      "source": [
        "dev = qml.device(\"default.qubit\", shots=1, wires=2)"
      ],
      "metadata": {
        "id": "Ft6waskiq8qW"
      },
      "execution_count": null,
      "outputs": []
    },
    {
      "cell_type": "code",
      "source": [
        "@qml.qnode(dev)\n",
        "def circuit(do_swap):\n",
        "    qml.PauliX(wires=0)\n",
        "    if do_swap:\n",
        "        qml.QubitUnitary(U, wires=[0, 1])\n",
        "    return qml.sample(qml.PauliZ([0])), qml.sample(qml.PauliZ([1]))\n",
        "circuit(do_swap=False)"
      ],
      "metadata": {
        "colab": {
          "base_uri": "https://localhost:8080/"
        },
        "id": "MEL78b_KrCri",
        "outputId": "cddb9068-cbb6-482f-e4e1-0ab6617ed301"
      },
      "execution_count": null,
      "outputs": [
        {
          "output_type": "execute_result",
          "data": {
            "text/plain": [
              "tensor([[-1],\n",
              "        [ 1]], requires_grad=True)"
            ]
          },
          "metadata": {},
          "execution_count": 28
        }
      ]
    },
    {
      "cell_type": "code",
      "source": [
        "circuit(do_swap=True)"
      ],
      "metadata": {
        "id": "d9FgK7FRsvd4",
        "outputId": "18bba47e-565d-4db1-f102-f394a8436f2b",
        "colab": {
          "base_uri": "https://localhost:8080/"
        }
      },
      "execution_count": null,
      "outputs": [
        {
          "output_type": "execute_result",
          "data": {
            "text/plain": [
              "tensor([[ 1],\n",
              "        [-1]], requires_grad=True)"
            ]
          },
          "metadata": {},
          "execution_count": 29
        }
      ]
    },
    {
      "cell_type": "code",
      "source": [
        "fig, ax = qml.draw_mpl(circuit)(True)\n",
        "fig.show();"
      ],
      "metadata": {
        "colab": {
          "base_uri": "https://localhost:8080/",
          "height": 247
        },
        "id": "bul9xNGksnDU",
        "outputId": "6810019a-bf80-45ae-98ae-024d45d2630f"
      },
      "execution_count": null,
      "outputs": [
        {
          "output_type": "display_data",
          "data": {
            "text/plain": [
              "<Figure size 360x216 with 1 Axes>"
            ],
            "image/png": "[encoded data removed]"
          },
          "metadata": {}
        }
      ]
    },
    {
      "cell_type": "markdown",
      "source": [
        "Реализация алгоритма Дойча"
      ],
      "metadata": {
        "id": "WK-xV6LsYfPc"
      }
    },
    {
      "cell_type": "code",
      "source": [
        "dev = qml.device('default.qubit', shots=1, wires=2)\n",
        "\n",
        "def f1():\n",
        "  pass\n",
        "\n",
        "def f2():\n",
        "    qml.PauliX(wires=[1])\n",
        "\n",
        "def f3():\n",
        "    qml.CNOT(wires=[0, 1])\n",
        "\n",
        "def f4():\n",
        "    qml.PauliX(wires=0)\n",
        "    qml.CNOT(wires=[0, 1])\n",
        "    qml.PauliX(wires=0)"
      ],
      "metadata": {
        "id": "su8p8gFJYjaF"
      },
      "execution_count": null,
      "outputs": []
    },
    {
      "cell_type": "code",
      "source": [
        "black_boxes_dict = {\"f1\": f1, \"f2\": f2, \"f3\": f3, \"f4\": f4}"
      ],
      "metadata": {
        "id": "V7UPpsgezh4W"
      },
      "execution_count": null,
      "outputs": []
    },
    {
      "cell_type": "code",
      "source": [
        "def random_black_box(black_boxes_dict):\n",
        "    black_boxes_dict_list_keys = list(black_boxes_dict.keys())\n",
        "    n = np.random.randint(0, len(black_boxes_dict_list_keys))\n",
        "\n",
        "    return black_boxes_dict_list_keys[n]"
      ],
      "metadata": {
        "id": "WX2qyrJNztwg"
      },
      "execution_count": null,
      "outputs": []
    },
    {
      "cell_type": "code",
      "source": [
        "@qml.qnode(dev, interface=None)\n",
        "def circuit(black_box_name):\n",
        "    qml.Hadamard(wires=0)\n",
        "    qml.PauliX(wires=1)\n",
        "    qml.Hadamard(wires=1)\n",
        "\n",
        "    black_boxes_dict[black_box_name]()\n",
        "    qml.Hadamard(wires=0)\n",
        "\n",
        "    return qml.sample(qml.PauliZ([0]))"
      ],
      "metadata": {
        "id": "B6KCChpJ0D0A"
      },
      "execution_count": null,
      "outputs": []
    },
    {
      "cell_type": "code",
      "source": [
        "black_box_name = random_black_box(black_boxes_dict)\n",
        "result = circuit(black_box_name)\n",
        "print(result)\n",
        "print(black_box_name)\n",
        "qml.drawer.use_style(\"default\")\n",
        "fig, ax = qml.draw_mpl(circuit)(black_box_name)\n",
        "fig.show()"
      ],
      "metadata": {
        "colab": {
          "base_uri": "https://localhost:8080/",
          "height": 372
        },
        "id": "D1y0cLjE0I7C",
        "outputId": "014e2720-5b20-4b93-a09d-e05412b225dc"
      },
      "execution_count": null,
      "outputs": [
        {
          "output_type": "stream",
          "name": "stdout",
          "text": [
            "-1\n",
            "f3\n"
          ]
        },
        {
          "output_type": "display_data",
          "data": {
            "text/plain": [
              "<Figure size 700x300 with 1 Axes>"
            ],
            "image/png": "[encoded data removed]"
          },
          "metadata": {}
        }
      ]
    }
  ]
}