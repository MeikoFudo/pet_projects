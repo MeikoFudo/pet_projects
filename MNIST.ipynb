{
  "nbformat": 4,
  "nbformat_minor": 0,
  "metadata": {
    "colab": {
      "provenance": [],
      "authorship_tag": "ABX9TyP2XPxBRX8jZiAdXZin1kK+"
    },
    "kernelspec": {
      "name": "python3",
      "display_name": "Python 3"
    },
    "language_info": {
      "name": "python"
    }
  },
  "cells": [
    {
      "cell_type": "code",
      "execution_count": 117,
      "metadata": {
        "id": "skPcxw2t3jX7"
      },
      "outputs": [],
      "source": [
        "import keras\n",
        "import tensorflow \n",
        "import matplotlib.pyplot as plt \n",
        "import numpy as np\n",
        "import pandas as pd\n",
        "from tensorflow.keras.models import Sequential\n",
        "from tensorflow.keras import layers\n",
        "from tensorflow.keras.layers import Dense, Flatten\n",
        "from tensorflow.keras.optimizers import Adam \n",
        "from tensorflow.keras.layers import Input\n",
        "from tensorflow.keras.layers import RandomTranslation, RandomZoom, RandomRotation\n",
        "from tensorflow.keras.layers import Conv2D, MaxPooling2D, BatchNormalization,MaxPool2D\n",
        "from tensorflow.keras.layers import Flatten, Dense, Dropout\n",
        "from keras.callbacks import EarlyStopping\n",
        "from tensorflow.keras.optimizers import SGD\n",
        "from tensorflow.keras.utils import to_categorical"
      ]
    },
    {
      "cell_type": "code",
      "source": [
        "from tensorflow.keras.datasets import mnist"
      ],
      "metadata": {
        "id": "mf95wafu18Lt"
      },
      "execution_count": 93,
      "outputs": []
    },
    {
      "cell_type": "code",
      "source": [
        "(X_train, y_train), (X_test, y_test) = mnist.load_data()\n",
        "X_train_full = np.concatenate((X_train, X_test))\n",
        "y_train_full = np.concatenate((y_train, y_test))\n",
        "valid = pd.read_csv('train.csv').to_numpy()\n",
        "test = pd.read_csv('test.csv').to_numpy()\n",
        "sample_submission = pd.read_csv('sample_submission (1).csv').to_numpy()\n",
        "train_Y = tensorflow.keras.utils.to_categorical(y_train_full)\n",
        "valid_Y = tensorflow.keras.utils.to_categorical(valid[:,0])\n",
        "\n",
        "train_X = X_train_full / 255.0\n",
        "valid_X = valid[:,1:] / 255.0\n",
        "test_X = test / 255.0\n",
        "\n",
        "train_X = train_X.reshape(-1, 28, 28, 1)\n",
        "valid_X = valid_X.reshape(-1, 28, 28, 1)\n",
        "test_X = test_X.reshape(-1, 28, 28, 1)\n",
        "\n",
        "print(train_X.shape,valid_X.shape,test_X.shape)"
      ],
      "metadata": {
        "colab": {
          "base_uri": "https://localhost:8080/"
        },
        "id": "703FlyV92Kf6",
        "outputId": "f9a0d25c-fa4f-4d39-ddf1-8182258c0179"
      },
      "execution_count": 94,
      "outputs": [
        {
          "output_type": "stream",
          "name": "stdout",
          "text": [
            "(70000, 28, 28, 1) (42000, 28, 28, 1) (28000, 28, 28, 1)\n"
          ]
        }
      ]
    },
    {
      "cell_type": "code",
      "source": [
        "plt.imshow(X_train[0], cmap='binary')"
      ],
      "metadata": {
        "colab": {
          "base_uri": "https://localhost:8080/",
          "height": 282
        },
        "id": "0Nt3DxWP2-9d",
        "outputId": "b23c18f8-fb45-4371-c2bb-0fd500dc8826"
      },
      "execution_count": 95,
      "outputs": [
        {
          "output_type": "execute_result",
          "data": {
            "text/plain": [
              "<matplotlib.image.AxesImage at 0x7f08fa6ced50>"
            ]
          },
          "metadata": {},
          "execution_count": 95
        },
        {
          "output_type": "display_data",
          "data": {
            "text/plain": [
              "<Figure size 432x288 with 1 Axes>"
            ],
            "image/png": "[encoded data removed]"
          },
          "metadata": {
            "needs_background": "light"
          }
        }
      ]
    },
    {
      "cell_type": "code",
      "source": [
        "train_X[0].shape"
      ],
      "metadata": {
        "colab": {
          "base_uri": "https://localhost:8080/"
        },
        "id": "DIJ-073t3DT4",
        "outputId": "050e94dc-4d48-4247-abbe-d3d94d69690a"
      },
      "execution_count": 96,
      "outputs": [
        {
          "output_type": "execute_result",
          "data": {
            "text/plain": [
              "(28, 28, 1)"
            ]
          },
          "metadata": {},
          "execution_count": 96
        }
      ]
    },
    {
      "cell_type": "code",
      "source": [
        "class Model:\n",
        "  def build(height, width, depth):\n",
        "    model = Sequential()\n",
        "\n",
        "    model.add(Conv2D(32, 3, padding = 'same', kernel_initializer = 'glorot_normal', activation = 'relu', input_shape = (28,28,1)))\n",
        "    model.add(Conv2D(32, 3, padding = 'same', kernel_initializer = 'glorot_normal', activation = 'relu'))\n",
        "    model.add(Conv2D(32, 3, padding = 'same', kernel_initializer = 'glorot_normal', activation = 'relu'))\n",
        "    model.add(MaxPool2D(2))\n",
        "    model.add(BatchNormalization())\n",
        "\n",
        "    model.add(Conv2D(64, 3, padding = 'same', kernel_initializer = 'glorot_normal', activation = 'relu'))\n",
        "    model.add(Conv2D(64, 3, padding = 'same', kernel_initializer = 'glorot_normal', activation = 'relu'))\n",
        "    model.add(Conv2D(64, 3, padding = 'same', kernel_initializer = 'glorot_normal', activation = 'relu'))\n",
        "    model.add(MaxPool2D(2))\n",
        "    model.add(BatchNormalization())\n",
        "\n",
        "    model.add(Conv2D(128, 3, padding = 'same', kernel_initializer = 'glorot_normal', activation = 'relu'))\n",
        "    model.add(Conv2D(128, 3, padding = 'same', kernel_initializer = 'glorot_normal', activation = 'relu'))\n",
        "    model.add(Conv2D(128, 3, padding = 'same', kernel_initializer = 'glorot_normal', activation = 'relu'))\n",
        "    model.add(MaxPool2D(2))\n",
        "    model.add(BatchNormalization())\n",
        "\n",
        "    model.add(Flatten())\n",
        "    model.add(Dropout(0.3))\n",
        "\n",
        "    model.add(Dense(512, kernel_initializer = 'glorot_normal', activation = 'relu'))\n",
        "    model.add(Dropout(0.25))\n",
        "    model.add(Dense(10, activation = 'softmax'))\n",
        "\n",
        "    model.summary()\n",
        "    model.compile(optimizer = 'adam', loss = 'sparse_categorical_crossentropy' , metrics = ['accuracy'])\n",
        "    return model"
      ],
      "metadata": {
        "id": "ye74heg_nkqA"
      },
      "execution_count": 122,
      "outputs": []
    },
    {
      "cell_type": "code",
      "source": [
        "model = Model.build(28,28,1)\n",
        "model.summary()"
      ],
      "metadata": {
        "colab": {
          "base_uri": "https://localhost:8080/"
        },
        "id": "nCjIEnJzoQcH",
        "outputId": "da24f4d9-7beb-4320-d19f-6f608acbb939"
      },
      "execution_count": 123,
      "outputs": [
        {
          "output_type": "stream",
          "name": "stdout",
          "text": [
            "Model: \"sequential_13\"\n",
            "_________________________________________________________________\n",
            " Layer (type)                Output Shape              Param #   \n",
            "=================================================================\n",
            " conv2d_39 (Conv2D)          (None, 28, 28, 32)        320       \n",
            "                                                                 \n",
            " conv2d_40 (Conv2D)          (None, 28, 28, 32)        9248      \n",
            "                                                                 \n",
            " conv2d_41 (Conv2D)          (None, 28, 28, 32)        9248      \n",
            "                                                                 \n",
            " max_pooling2d_21 (MaxPoolin  (None, 14, 14, 32)       0         \n",
            " g2D)                                                            \n",
            "                                                                 \n",
            " batch_normalization_21 (Bat  (None, 14, 14, 32)       128       \n",
            " chNormalization)                                                \n",
            "                                                                 \n",
            " conv2d_42 (Conv2D)          (None, 14, 14, 64)        18496     \n",
            "                                                                 \n",
            " conv2d_43 (Conv2D)          (None, 14, 14, 64)        36928     \n",
            "                                                                 \n",
            " conv2d_44 (Conv2D)          (None, 14, 14, 64)        36928     \n",
            "                                                                 \n",
            " max_pooling2d_22 (MaxPoolin  (None, 7, 7, 64)         0         \n",
            " g2D)                                                            \n",
            "                                                                 \n",
            " batch_normalization_22 (Bat  (None, 7, 7, 64)         256       \n",
            " chNormalization)                                                \n",
            "                                                                 \n",
            " conv2d_45 (Conv2D)          (None, 7, 7, 128)         73856     \n",
            "                                                                 \n",
            " conv2d_46 (Conv2D)          (None, 7, 7, 128)         147584    \n",
            "                                                                 \n",
            " conv2d_47 (Conv2D)          (None, 7, 7, 128)         147584    \n",
            "                                                                 \n",
            " max_pooling2d_23 (MaxPoolin  (None, 3, 3, 128)        0         \n",
            " g2D)                                                            \n",
            "                                                                 \n",
            " batch_normalization_23 (Bat  (None, 3, 3, 128)        512       \n",
            " chNormalization)                                                \n",
            "                                                                 \n",
            " flatten_11 (Flatten)        (None, 1152)              0         \n",
            "                                                                 \n",
            " dropout_2 (Dropout)         (None, 1152)              0         \n",
            "                                                                 \n",
            " dense_44 (Dense)            (None, 512)               590336    \n",
            "                                                                 \n",
            " dropout_3 (Dropout)         (None, 512)               0         \n",
            "                                                                 \n",
            " dense_45 (Dense)            (None, 10)                5130      \n",
            "                                                                 \n",
            "=================================================================\n",
            "Total params: 1,076,554\n",
            "Trainable params: 1,076,106\n",
            "Non-trainable params: 448\n",
            "_________________________________________________________________\n",
            "Model: \"sequential_13\"\n",
            "_________________________________________________________________\n",
            " Layer (type)                Output Shape              Param #   \n",
            "=================================================================\n",
            " conv2d_39 (Conv2D)          (None, 28, 28, 32)        320       \n",
            "                                                                 \n",
            " conv2d_40 (Conv2D)          (None, 28, 28, 32)        9248      \n",
            "                                                                 \n",
            " conv2d_41 (Conv2D)          (None, 28, 28, 32)        9248      \n",
            "                                                                 \n",
            " max_pooling2d_21 (MaxPoolin  (None, 14, 14, 32)       0         \n",
            " g2D)                                                            \n",
            "                                                                 \n",
            " batch_normalization_21 (Bat  (None, 14, 14, 32)       128       \n",
            " chNormalization)                                                \n",
            "                                                                 \n",
            " conv2d_42 (Conv2D)          (None, 14, 14, 64)        18496     \n",
            "                                                                 \n",
            " conv2d_43 (Conv2D)          (None, 14, 14, 64)        36928     \n",
            "                                                                 \n",
            " conv2d_44 (Conv2D)          (None, 14, 14, 64)        36928     \n",
            "                                                                 \n",
            " max_pooling2d_22 (MaxPoolin  (None, 7, 7, 64)         0         \n",
            " g2D)                                                            \n",
            "                                                                 \n",
            " batch_normalization_22 (Bat  (None, 7, 7, 64)         256       \n",
            " chNormalization)                                                \n",
            "                                                                 \n",
            " conv2d_45 (Conv2D)          (None, 7, 7, 128)         73856     \n",
            "                                                                 \n",
            " conv2d_46 (Conv2D)          (None, 7, 7, 128)         147584    \n",
            "                                                                 \n",
            " conv2d_47 (Conv2D)          (None, 7, 7, 128)         147584    \n",
            "                                                                 \n",
            " max_pooling2d_23 (MaxPoolin  (None, 3, 3, 128)        0         \n",
            " g2D)                                                            \n",
            "                                                                 \n",
            " batch_normalization_23 (Bat  (None, 3, 3, 128)        512       \n",
            " chNormalization)                                                \n",
            "                                                                 \n",
            " flatten_11 (Flatten)        (None, 1152)              0         \n",
            "                                                                 \n",
            " dropout_2 (Dropout)         (None, 1152)              0         \n",
            "                                                                 \n",
            " dense_44 (Dense)            (None, 512)               590336    \n",
            "                                                                 \n",
            " dropout_3 (Dropout)         (None, 512)               0         \n",
            "                                                                 \n",
            " dense_45 (Dense)            (None, 10)                5130      \n",
            "                                                                 \n",
            "=================================================================\n",
            "Total params: 1,076,554\n",
            "Trainable params: 1,076,106\n",
            "Non-trainable params: 448\n",
            "_________________________________________________________________\n"
          ]
        }
      ]
    },
    {
      "cell_type": "code",
      "source": [
        "stop = tensorflow.keras.callbacks.EarlyStopping(monitor='val_loss', verbose=1, patience=6)\n",
        "model_fit = model.fit(train_X,\n",
        "                      train_Y,\n",
        "                      batch_size=500,\n",
        "                      verbose=1,\n",
        "                      epochs=50,\n",
        "                      validation_split=0.25,\n",
        "                      callbacks=[stop])"
      ],
      "metadata": {
        "colab": {
          "base_uri": "https://localhost:8080/"
        },
        "id": "qvAJC4d7oxFn",
        "outputId": "f6b0ab6b-45da-4b66-acd9-753b1b989ed0"
      },
      "execution_count": 125,
      "outputs": [
        {
          "output_type": "stream",
          "name": "stdout",
          "text": [
            "Epoch 1/50\n",
            "105/105 [==============================] - 674s 6s/step - loss: 0.0512 - binary_accuracy: 0.9864 - val_loss: 0.3868 - val_binary_accuracy: 0.9000\n",
            "Epoch 2/50\n",
            "105/105 [==============================] - 534s 5s/step - loss: 0.0094 - binary_accuracy: 0.9976 - val_loss: 0.3545 - val_binary_accuracy: 0.8277\n",
            "Epoch 3/50\n",
            "105/105 [==============================] - 542s 5s/step - loss: 0.0063 - binary_accuracy: 0.9983 - val_loss: 0.2971 - val_binary_accuracy: 0.8372\n",
            "Epoch 4/50\n",
            "105/105 [==============================] - 547s 5s/step - loss: 0.0046 - binary_accuracy: 0.9988 - val_loss: 0.0977 - val_binary_accuracy: 0.9599\n",
            "Epoch 5/50\n",
            "105/105 [==============================] - 537s 5s/step - loss: 0.0033 - binary_accuracy: 0.9991 - val_loss: 0.0092 - val_binary_accuracy: 0.9976\n",
            "Epoch 6/50\n",
            "105/105 [==============================] - 537s 5s/step - loss: 0.0030 - binary_accuracy: 0.9992 - val_loss: 0.0126 - val_binary_accuracy: 0.9965\n",
            "Epoch 7/50\n",
            "105/105 [==============================] - 533s 5s/step - loss: 0.0023 - binary_accuracy: 0.9994 - val_loss: 0.0068 - val_binary_accuracy: 0.9981\n",
            "Epoch 8/50\n",
            "105/105 [==============================] - 531s 5s/step - loss: 0.0020 - binary_accuracy: 0.9995 - val_loss: 0.0062 - val_binary_accuracy: 0.9983\n",
            "Epoch 9/50\n",
            "105/105 [==============================] - 527s 5s/step - loss: 0.0016 - binary_accuracy: 0.9996 - val_loss: 0.0047 - val_binary_accuracy: 0.9988\n",
            "Epoch 10/50\n",
            "105/105 [==============================] - 524s 5s/step - loss: 0.0016 - binary_accuracy: 0.9996 - val_loss: 0.0085 - val_binary_accuracy: 0.9981\n",
            "Epoch 11/50\n",
            "105/105 [==============================] - 524s 5s/step - loss: 0.0019 - binary_accuracy: 0.9995 - val_loss: 0.0156 - val_binary_accuracy: 0.9963\n",
            "Epoch 12/50\n",
            "105/105 [==============================] - 525s 5s/step - loss: 0.0014 - binary_accuracy: 0.9996 - val_loss: 0.0077 - val_binary_accuracy: 0.9984\n",
            "Epoch 13/50\n",
            "105/105 [==============================] - 527s 5s/step - loss: 0.0016 - binary_accuracy: 0.9996 - val_loss: 0.0083 - val_binary_accuracy: 0.9978\n",
            "Epoch 14/50\n",
            "105/105 [==============================] - 528s 5s/step - loss: 9.8251e-04 - binary_accuracy: 0.9997 - val_loss: 0.0065 - val_binary_accuracy: 0.9985\n",
            "Epoch 15/50\n",
            "105/105 [==============================] - 527s 5s/step - loss: 7.5913e-04 - binary_accuracy: 0.9998 - val_loss: 0.0060 - val_binary_accuracy: 0.9987\n",
            "Epoch 15: early stopping\n"
          ]
        }
      ]
    },
    {
      "cell_type": "code",
      "source": [
        "pred = model.predict(test_X)\n",
        "classes = pred.argmax(axis=-1)\n",
        "sub = pd.read_csv('sample_submission (1).csv')\n",
        "sub.Label = classes\n",
        "sub.head()"
      ],
      "metadata": {
        "colab": {
          "base_uri": "https://localhost:8080/",
          "height": 206
        },
        "id": "BxZHtDtvArVu",
        "outputId": "5159fee2-27b5-47d5-d33f-40b2fe7bea4a"
      },
      "execution_count": 126,
      "outputs": [
        {
          "output_type": "execute_result",
          "data": {
            "text/plain": [
              "   ImageId  Label\n",
              "0        1      2\n",
              "1        2      0\n",
              "2        3      9\n",
              "3        4      0\n",
              "4        5      3"
            ],
            "text/html": [
              "\n",
              "  <div id=\"df-cc27df03-c85d-4a40-9164-bef0c8b494df\">\n",
              "    <div class=\"colab-df-container\">\n",
              "      <div>\n",
              "<style scoped>\n",
              "    .dataframe tbody tr th:only-of-type {\n",
              "        vertical-align: middle;\n",
              "    }\n",
              "\n",
              "    .dataframe tbody tr th {\n",
              "        vertical-align: top;\n",
              "    }\n",
              "\n",
              "    .dataframe thead th {\n",
              "        text-align: right;\n",
              "    }\n",
              "</style>\n",
              "<table border=\"1\" class=\"dataframe\">\n",
              "  <thead>\n",
              "    <tr style=\"text-align: right;\">\n",
              "      <th></th>\n",
              "      <th>ImageId</th>\n",
              "      <th>Label</th>\n",
              "    </tr>\n",
              "  </thead>\n",
              "  <tbody>\n",
              "    <tr>\n",
              "      <th>0</th>\n",
              "      <td>1</td>\n",
              "      <td>2</td>\n",
              "    </tr>\n",
              "    <tr>\n",
              "      <th>1</th>\n",
              "      <td>2</td>\n",
              "      <td>0</td>\n",
              "    </tr>\n",
              "    <tr>\n",
              "      <th>2</th>\n",
              "      <td>3</td>\n",
              "      <td>9</td>\n",
              "    </tr>\n",
              "    <tr>\n",
              "      <th>3</th>\n",
              "      <td>4</td>\n",
              "      <td>0</td>\n",
              "    </tr>\n",
              "    <tr>\n",
              "      <th>4</th>\n",
              "      <td>5</td>\n",
              "      <td>3</td>\n",
              "    </tr>\n",
              "  </tbody>\n",
              "</table>\n",
              "</div>\n",
              "      <button class=\"colab-df-convert\" onclick=\"convertToInteractive('df-cc27df03-c85d-4a40-9164-bef0c8b494df')\"\n",
              "              title=\"Convert this dataframe to an interactive table.\"\n",
              "              style=\"display:none;\">\n",
              "        \n",
              "  <svg xmlns=\"http://www.w3.org/2000/svg\" height=\"24px\"viewBox=\"0 0 24 24\"\n",
              "       width=\"24px\">\n",
              "    <path d=\"M0 0h24v24H0V0z\" fill=\"none\"/>\n",
              "    <path d=\"M18.56 5.44l.94 2.06.94-2.06 2.06-.94-2.06-.94-.94-2.06-.94 2.06-2.06.94zm-11 1L8.5 8.5l.94-2.06 2.06-.94-2.06-.94L8.5 2.5l-.94 2.06-2.06.94zm10 10l.94 2.06.94-2.06 2.06-.94-2.06-.94-.94-2.06-.94 2.06-2.06.94z\"/><path d=\"M17.41 7.96l-1.37-1.37c-.4-.4-.92-.59-1.43-.59-.52 0-1.04.2-1.43.59L10.3 9.45l-7.72 7.72c-.78.78-.78 2.05 0 2.83L4 21.41c.39.39.9.59 1.41.59.51 0 1.02-.2 1.41-.59l7.78-7.78 2.81-2.81c.8-.78.8-2.07 0-2.86zM5.41 20L4 18.59l7.72-7.72 1.47 1.35L5.41 20z\"/>\n",
              "  </svg>\n",
              "      </button>\n",
              "      \n",
              "  <style>\n",
              "    .colab-df-container {\n",
              "      display:flex;\n",
              "      flex-wrap:wrap;\n",
              "      gap: 12px;\n",
              "    }\n",
              "\n",
              "    .colab-df-convert {\n",
              "      background-color: #E8F0FE;\n",
              "      border: none;\n",
              "      border-radius: 50%;\n",
              "      cursor: pointer;\n",
              "      display: none;\n",
              "      fill: #1967D2;\n",
              "      height: 32px;\n",
              "      padding: 0 0 0 0;\n",
              "      width: 32px;\n",
              "    }\n",
              "\n",
              "    .colab-df-convert:hover {\n",
              "      background-color: #E2EBFA;\n",
              "      box-shadow: 0px 1px 2px rgba(60, 64, 67, 0.3), 0px 1px 3px 1px rgba(60, 64, 67, 0.15);\n",
              "      fill: #174EA6;\n",
              "    }\n",
              "\n",
              "    [theme=dark] .colab-df-convert {\n",
              "      background-color: #3B4455;\n",
              "      fill: #D2E3FC;\n",
              "    }\n",
              "\n",
              "    [theme=dark] .colab-df-convert:hover {\n",
              "      background-color: #434B5C;\n",
              "      box-shadow: 0px 1px 3px 1px rgba(0, 0, 0, 0.15);\n",
              "      filter: drop-shadow(0px 1px 2px rgba(0, 0, 0, 0.3));\n",
              "      fill: #FFFFFF;\n",
              "    }\n",
              "  </style>\n",
              "\n",
              "      <script>\n",
              "        const buttonEl =\n",
              "          document.querySelector('#df-cc27df03-c85d-4a40-9164-bef0c8b494df button.colab-df-convert');\n",
              "        buttonEl.style.display =\n",
              "          google.colab.kernel.accessAllowed ? 'block' : 'none';\n",
              "\n",
              "        async function convertToInteractive(key) {\n",
              "          const element = document.querySelector('#df-cc27df03-c85d-4a40-9164-bef0c8b494df');\n",
              "          const dataTable =\n",
              "            await google.colab.kernel.invokeFunction('convertToInteractive',\n",
              "                                                     [key], {});\n",
              "          if (!dataTable) return;\n",
              "\n",
              "          const docLinkHtml = 'Like what you see? Visit the ' +\n",
              "            '<a target=\"_blank\" href=https://colab.research.google.com/notebooks/data_table.ipynb>data table notebook</a>'\n",
              "            + ' to learn more about interactive tables.';\n",
              "          element.innerHTML = '';\n",
              "          dataTable['output_type'] = 'display_data';\n",
              "          await google.colab.output.renderOutput(dataTable, element);\n",
              "          const docLink = document.createElement('div');\n",
              "          docLink.innerHTML = docLinkHtml;\n",
              "          element.appendChild(docLink);\n",
              "        }\n",
              "      </script>\n",
              "    </div>\n",
              "  </div>\n",
              "  "
            ]
          },
          "metadata": {},
          "execution_count": 126
        }
      ]
    },
    {
      "cell_type": "code",
      "source": [
        "sub.to_csv('sample_submission (1).csv', index = False)"
      ],
      "metadata": {
        "id": "VtZlMi47GZcK"
      },
      "execution_count": 129,
      "outputs": []
    }
  ]
}